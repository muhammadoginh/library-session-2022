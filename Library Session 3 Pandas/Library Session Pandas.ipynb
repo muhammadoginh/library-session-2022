{
 "cells": [
  {
   "cell_type": "markdown",
   "id": "c1a4204e-a5e6-4839-ae07-c15af70b8c95",
   "metadata": {},
   "source": [
    "### Fungsi dan argumen"
   ]
  },
  {
   "cell_type": "code",
   "execution_count": 2,
   "id": "92a90d98-6aaf-4707-8220-bbee41b7e656",
   "metadata": {},
   "outputs": [
    {
     "name": "stdout",
     "output_type": "stream",
     "text": [
      "Muhammad Ogin Hasanuddin\n"
     ]
    }
   ],
   "source": [
    "print(\"Muhammad Ogin Hasanuddin\")"
   ]
  },
  {
   "cell_type": "code",
   "execution_count": 3,
   "id": "e0da96fe-5f5c-4839-bd1a-7b5608ab78a8",
   "metadata": {},
   "outputs": [
    {
     "name": "stdout",
     "output_type": "stream",
     "text": [
      "11 April 2022\n"
     ]
    }
   ],
   "source": [
    "print(\"11 April 2022\")"
   ]
  },
  {
   "cell_type": "code",
   "execution_count": 4,
   "id": "86af6ebe-c1e2-4686-ab68-e030ea8a67cc",
   "metadata": {},
   "outputs": [
    {
     "name": "stdout",
     "output_type": "stream",
     "text": [
      "10.0\n"
     ]
    }
   ],
   "source": [
    "print(100/10)"
   ]
  },
  {
   "cell_type": "code",
   "execution_count": 5,
   "id": "4a92bb20-c06f-404c-9707-47747a9a224b",
   "metadata": {},
   "outputs": [
    {
     "data": {
      "text/plain": [
       "float"
      ]
     },
     "execution_count": 5,
     "metadata": {},
     "output_type": "execute_result"
    }
   ],
   "source": [
    "type(100/10)"
   ]
  },
  {
   "cell_type": "code",
   "execution_count": 6,
   "id": "da9486bf-d297-412b-b67d-b98142bbc781",
   "metadata": {},
   "outputs": [
    {
     "name": "stdout",
     "output_type": "stream",
     "text": [
      "<class 'float'>\n"
     ]
    }
   ],
   "source": [
    "print(type(100/10))"
   ]
  },
  {
   "cell_type": "markdown",
   "id": "d7778167-e012-4303-a6a5-5e2b8511a180",
   "metadata": {},
   "source": [
    "### variable dan tipe data"
   ]
  },
  {
   "cell_type": "code",
   "execution_count": 7,
   "id": "ece521e1-03d9-4605-a102-f3d4fae37635",
   "metadata": {},
   "outputs": [],
   "source": [
    "nama = \"Muhammad Ogin Hasanudin\""
   ]
  },
  {
   "cell_type": "code",
   "execution_count": 8,
   "id": "d72d9318-6c8f-4aa3-aac5-3b47aee781f5",
   "metadata": {},
   "outputs": [],
   "source": [
    "jarak_km = 5"
   ]
  },
  {
   "cell_type": "code",
   "execution_count": 9,
   "id": "b75d5e34-9017-4869-91c0-3794cb9c0072",
   "metadata": {},
   "outputs": [],
   "source": [
    "waktu_tempuh_jam = 2"
   ]
  },
  {
   "cell_type": "code",
   "execution_count": 10,
   "id": "3faaf8e5-b40f-49a3-9026-f944b89b392d",
   "metadata": {},
   "outputs": [],
   "source": [
    "kecepatan = jarak_km/waktu_tempuh_jam"
   ]
  },
  {
   "cell_type": "code",
   "execution_count": 11,
   "id": "93fe5c47-f3e3-4a10-bf8c-342f258da584",
   "metadata": {},
   "outputs": [
    {
     "name": "stdout",
     "output_type": "stream",
     "text": [
      "2.5\n"
     ]
    }
   ],
   "source": [
    "print(kecepatan)"
   ]
  },
  {
   "cell_type": "code",
   "execution_count": 12,
   "id": "f46dad27-9897-428f-99a0-f714d0e2e334",
   "metadata": {},
   "outputs": [
    {
     "name": "stdout",
     "output_type": "stream",
     "text": [
      "<class 'int'>\n"
     ]
    }
   ],
   "source": [
    "print(type(jarak_km))"
   ]
  },
  {
   "cell_type": "code",
   "execution_count": 13,
   "id": "b938e516-fe54-437f-97c0-498ebe33a6c3",
   "metadata": {},
   "outputs": [
    {
     "name": "stdout",
     "output_type": "stream",
     "text": [
      "<class 'float'>\n"
     ]
    }
   ],
   "source": [
    "print(type(kecepatan))"
   ]
  },
  {
   "cell_type": "markdown",
   "id": "3cc3553a-b2d5-425d-9d99-296dce96c3e8",
   "metadata": {},
   "source": [
    "### List"
   ]
  },
  {
   "cell_type": "code",
   "execution_count": 14,
   "id": "f30f3945-7754-4c91-b06a-d5dae87ef700",
   "metadata": {},
   "outputs": [],
   "source": [
    "c = [True, 100, 2.5, 'Muhammad Ogin Hasanuddin']"
   ]
  },
  {
   "cell_type": "code",
   "execution_count": 15,
   "id": "7d762961-4f96-4d6c-a8c6-8cb8b2651708",
   "metadata": {},
   "outputs": [
    {
     "name": "stdout",
     "output_type": "stream",
     "text": [
      "<class 'list'>\n"
     ]
    }
   ],
   "source": [
    "print(type(c))"
   ]
  },
  {
   "cell_type": "code",
   "execution_count": 16,
   "id": "ff8a0572-07e5-4105-b1ca-05a603bdb3b9",
   "metadata": {},
   "outputs": [
    {
     "data": {
      "text/plain": [
       "True"
      ]
     },
     "execution_count": 16,
     "metadata": {},
     "output_type": "execute_result"
    }
   ],
   "source": [
    "c[0]"
   ]
  },
  {
   "cell_type": "code",
   "execution_count": 17,
   "id": "49c68c58-b86e-4006-82c4-2a587999dd32",
   "metadata": {},
   "outputs": [
    {
     "data": {
      "text/plain": [
       "[True, 100]"
      ]
     },
     "execution_count": 17,
     "metadata": {},
     "output_type": "execute_result"
    }
   ],
   "source": [
    "# slice dua data pertama\n",
    "c[:2]"
   ]
  },
  {
   "cell_type": "markdown",
   "id": "378725d8-fbd1-476a-899c-f46940dfd34c",
   "metadata": {},
   "source": [
    "### Array"
   ]
  },
  {
   "cell_type": "code",
   "execution_count": 18,
   "id": "272255c7-f355-40e7-b71b-c04ad55437be",
   "metadata": {},
   "outputs": [],
   "source": [
    "a = [1, 2, 5, 7, 9]\n",
    "b = [4, 2, 7, 1, 8]"
   ]
  },
  {
   "cell_type": "code",
   "execution_count": 19,
   "id": "df679608-3330-4169-b828-117d28789abd",
   "metadata": {},
   "outputs": [],
   "source": [
    "c = [a, b]"
   ]
  },
  {
   "cell_type": "code",
   "execution_count": 20,
   "id": "84494eb1-c7d2-43cf-b9ff-1b086144f983",
   "metadata": {},
   "outputs": [
    {
     "data": {
      "text/plain": [
       "2"
      ]
     },
     "execution_count": 20,
     "metadata": {},
     "output_type": "execute_result"
    }
   ],
   "source": [
    "c[0][1]"
   ]
  },
  {
   "cell_type": "code",
   "execution_count": 21,
   "id": "38506f22-399b-4892-add0-e98fdce9f038",
   "metadata": {},
   "outputs": [
    {
     "data": {
      "text/plain": [
       "9"
      ]
     },
     "execution_count": 21,
     "metadata": {},
     "output_type": "execute_result"
    }
   ],
   "source": [
    "c[0][4]"
   ]
  },
  {
   "cell_type": "code",
   "execution_count": 22,
   "id": "3ad7ec14-0d3b-4d69-8842-abba85c69d93",
   "metadata": {},
   "outputs": [
    {
     "data": {
      "text/plain": [
       "[[1, 2, 5, 7, 9], [4, 2, 7, 1, 8]]"
      ]
     },
     "execution_count": 22,
     "metadata": {},
     "output_type": "execute_result"
    }
   ],
   "source": [
    "c"
   ]
  },
  {
   "cell_type": "code",
   "execution_count": 23,
   "id": "ccbbcd66-82a4-43af-b340-dbbdf202718b",
   "metadata": {},
   "outputs": [
    {
     "name": "stdout",
     "output_type": "stream",
     "text": [
      "<class 'list'>\n"
     ]
    }
   ],
   "source": [
    "print(type(c))"
   ]
  },
  {
   "cell_type": "code",
   "execution_count": 24,
   "id": "20a9f7cf-1948-4fbd-86dc-a18b438a95d3",
   "metadata": {},
   "outputs": [],
   "source": [
    "import numpy as np"
   ]
  },
  {
   "cell_type": "code",
   "execution_count": 25,
   "id": "8adfd469-477b-434f-a7d5-677bf5290395",
   "metadata": {},
   "outputs": [
    {
     "data": {
      "text/plain": [
       "4.8"
      ]
     },
     "execution_count": 25,
     "metadata": {},
     "output_type": "execute_result"
    }
   ],
   "source": [
    "np.mean(a)"
   ]
  },
  {
   "cell_type": "code",
   "execution_count": 26,
   "id": "12e4de56-b793-4ec4-911a-077b2acdc415",
   "metadata": {},
   "outputs": [],
   "source": [
    "jum_a = 1 + 2 + 5 + 7 + 9"
   ]
  },
  {
   "cell_type": "code",
   "execution_count": 27,
   "id": "8057af07-6aaa-40fa-b0da-a6cbebffd3d9",
   "metadata": {},
   "outputs": [],
   "source": [
    "rata_rata_a = jum_a/5"
   ]
  },
  {
   "cell_type": "code",
   "execution_count": 28,
   "id": "0a0d823e-bd47-428a-8876-6579ab82ce49",
   "metadata": {},
   "outputs": [
    {
     "data": {
      "text/plain": [
       "4.8"
      ]
     },
     "execution_count": 28,
     "metadata": {},
     "output_type": "execute_result"
    }
   ],
   "source": [
    "rata_rata_a"
   ]
  },
  {
   "cell_type": "code",
   "execution_count": 29,
   "id": "99f90695-bca9-4cfd-a147-fcfaf86ff47b",
   "metadata": {},
   "outputs": [],
   "source": [
    "### plotting"
   ]
  },
  {
   "cell_type": "code",
   "execution_count": 30,
   "id": "c20f645a-4e19-4fd1-98ea-241208ccde86",
   "metadata": {},
   "outputs": [],
   "source": [
    "import matplotlib.pyplot as plt"
   ]
  },
  {
   "cell_type": "code",
   "execution_count": 32,
   "id": "0446e98a-f5be-42c8-be7e-8263adadcbd5",
   "metadata": {},
   "outputs": [
    {
     "data": {
      "image/png": "[encoded data removed]",
      "text/plain": [
       "<Figure size 432x288 with 1 Axes>"
      ]
     },
     "metadata": {
      "needs_background": "light"
     },
     "output_type": "display_data"
    }
   ],
   "source": [
    "x = [10 , 20, 30, 40, 50]\n",
    "y = [10 , 20, 30, 40, 50]\n",
    "\n",
    "plt.plot(x,y)\n",
    "\n",
    "# judul\n",
    "plt.title(\"garis lurus\")\n",
    "\n",
    "plt.xlabel('sumbu x')\n",
    "plt.ylabel('sumbu y')\n",
    "\n",
    "plt.show()"
   ]
  },
  {
   "cell_type": "code",
   "execution_count": 33,
   "id": "f3562e5d-162f-4336-bb7d-5534619415c2",
   "metadata": {},
   "outputs": [
    {
     "data": {
      "image/png": "[encoded data removed]",
      "text/plain": [
       "<Figure size 432x288 with 1 Axes>"
      ]
     },
     "metadata": {
      "needs_background": "light"
     },
     "output_type": "display_data"
    }
   ],
   "source": [
    "kecepatan = [0, 5, 10, 8, 12, 5] # sumbu y\n",
    "waktu = [0, 1, 2, 3, 4, 5] # sumbu x\n",
    "\n",
    "plt.plot(waktu, kecepatan)\n",
    "\n",
    "# judul\n",
    "plt.title(\"grafik percepatan\")\n",
    "\n",
    "plt.xlabel('waktu (s)')\n",
    "plt.ylabel('kecepatan (m/s)')\n",
    "\n",
    "plt.show()"
   ]
  },
  {
   "cell_type": "markdown",
   "id": "71d591c2-1cf2-4236-8e64-0dca2fb179c0",
   "metadata": {},
   "source": [
    "### importing pandas"
   ]
  },
  {
   "cell_type": "code",
   "execution_count": 34,
   "id": "c5684a18-7907-4f38-bc72-a4dcedb2aa44",
   "metadata": {},
   "outputs": [],
   "source": [
    "import pandas as pd"
   ]
  },
  {
   "cell_type": "code",
   "execution_count": 35,
   "id": "3dbe6002-f428-4546-978b-9dbb28ce3044",
   "metadata": {},
   "outputs": [
    {
     "data": {
      "text/plain": [
       "'1.2.4'"
      ]
     },
     "execution_count": 35,
     "metadata": {},
     "output_type": "execute_result"
    }
   ],
   "source": [
    "pd.__version__"
   ]
  },
  {
   "cell_type": "code",
   "execution_count": 36,
   "id": "4532e067-a9a8-4040-b3b9-dff7f0984211",
   "metadata": {},
   "outputs": [],
   "source": [
    "temperatures = [55, 63, 72, 65, 63, 75, 67, 59, 82, 54]\n",
    "\n",
    "series = pd.Series(temperatures)"
   ]
  },
  {
   "cell_type": "code",
   "execution_count": 37,
   "id": "d2a5d7fa-09b0-4238-af02-ae920c0f760a",
   "metadata": {},
   "outputs": [
    {
     "name": "stdout",
     "output_type": "stream",
     "text": [
      "<class 'list'>\n"
     ]
    }
   ],
   "source": [
    "print(type(temperatures))"
   ]
  },
  {
   "cell_type": "code",
   "execution_count": 38,
   "id": "bd5facfd-e242-480b-b235-02b2728d072b",
   "metadata": {},
   "outputs": [
    {
     "name": "stdout",
     "output_type": "stream",
     "text": [
      "<class 'pandas.core.series.Series'>\n"
     ]
    }
   ],
   "source": [
    "print(type(series))"
   ]
  },
  {
   "cell_type": "code",
   "execution_count": 40,
   "id": "2c017f3c-0e61-42ce-97d6-bba7cacebe00",
   "metadata": {},
   "outputs": [
    {
     "name": "stdout",
     "output_type": "stream",
     "text": [
      "[55, 63, 72, 65, 63, 75, 67, 59, 82, 54]\n"
     ]
    }
   ],
   "source": [
    "print(temperatures)"
   ]
  },
  {
   "cell_type": "code",
   "execution_count": 41,
   "id": "ea12f60d-d688-4165-9618-890c456f4c38",
   "metadata": {},
   "outputs": [
    {
     "name": "stdout",
     "output_type": "stream",
     "text": [
      "0    55\n",
      "1    63\n",
      "2    72\n",
      "3    65\n",
      "4    63\n",
      "5    75\n",
      "6    67\n",
      "7    59\n",
      "8    82\n",
      "9    54\n",
      "dtype: int64\n"
     ]
    }
   ],
   "source": [
    "print(series)"
   ]
  },
  {
   "cell_type": "markdown",
   "id": "e61cfd1f-ca5f-4903-9f94-40431928b726",
   "metadata": {},
   "source": [
    "### analisis terhadap series"
   ]
  },
  {
   "cell_type": "code",
   "execution_count": 42,
   "id": "2d3c9f0e-e965-42a7-9c0c-9b4b72c6787a",
   "metadata": {},
   "outputs": [
    {
     "data": {
      "text/plain": [
       "count    10.000000\n",
       "mean     65.500000\n",
       "std       8.847473\n",
       "min      54.000000\n",
       "25%      60.000000\n",
       "50%      64.000000\n",
       "75%      70.750000\n",
       "max      82.000000\n",
       "dtype: float64"
      ]
     },
     "execution_count": 42,
     "metadata": {},
     "output_type": "execute_result"
    }
   ],
   "source": [
    "series.describe()"
   ]
  },
  {
   "cell_type": "code",
   "execution_count": 43,
   "id": "d0f543dc-e916-418b-a923-a9cc97583de4",
   "metadata": {},
   "outputs": [],
   "source": [
    "series_a = pd.Series(a)"
   ]
  },
  {
   "cell_type": "code",
   "execution_count": 44,
   "id": "c9f607f2-3eb9-4d2a-98d2-15ad2e3f8c48",
   "metadata": {},
   "outputs": [
    {
     "data": {
      "text/plain": [
       "count    5.00000\n",
       "mean     4.80000\n",
       "std      3.34664\n",
       "min      1.00000\n",
       "25%      2.00000\n",
       "50%      5.00000\n",
       "75%      7.00000\n",
       "max      9.00000\n",
       "dtype: float64"
      ]
     },
     "execution_count": 44,
     "metadata": {},
     "output_type": "execute_result"
    }
   ],
   "source": [
    "series_a.describe()"
   ]
  },
  {
   "cell_type": "code",
   "execution_count": 46,
   "id": "1511fc75-c8ce-451d-b826-567f1a29ffed",
   "metadata": {},
   "outputs": [
    {
     "data": {
      "text/plain": [
       "False"
      ]
     },
     "execution_count": 46,
     "metadata": {},
     "output_type": "execute_result"
    }
   ],
   "source": [
    "series.is_unique"
   ]
  },
  {
   "cell_type": "code",
   "execution_count": 47,
   "id": "b5f06e24-5e3e-4ca0-9cbd-088431532e4e",
   "metadata": {},
   "outputs": [
    {
     "data": {
      "text/plain": [
       "True"
      ]
     },
     "execution_count": 47,
     "metadata": {},
     "output_type": "execute_result"
    }
   ],
   "source": [
    "series_a.is_unique"
   ]
  },
  {
   "cell_type": "code",
   "execution_count": 48,
   "id": "4be04e4d-3a4f-49f1-b5f5-1fa0d9087b20",
   "metadata": {},
   "outputs": [
    {
     "data": {
      "text/plain": [
       "True"
      ]
     },
     "execution_count": 48,
     "metadata": {},
     "output_type": "execute_result"
    }
   ],
   "source": [
    "series_a.is_monotonic"
   ]
  },
  {
   "cell_type": "code",
   "execution_count": 49,
   "id": "e56d2eb4-9232-4aac-a50d-9f6dbace4831",
   "metadata": {},
   "outputs": [],
   "source": [
    "series_b = pd.Series(b)"
   ]
  },
  {
   "cell_type": "code",
   "execution_count": 50,
   "id": "be61ae90-9325-473a-ace7-73d9dc1e3ab5",
   "metadata": {},
   "outputs": [
    {
     "data": {
      "text/plain": [
       "False"
      ]
     },
     "execution_count": 50,
     "metadata": {},
     "output_type": "execute_result"
    }
   ],
   "source": [
    "series_b.is_monotonic"
   ]
  },
  {
   "cell_type": "code",
   "execution_count": 55,
   "id": "5c1be209-2bfa-4734-9632-68ed53d9ed55",
   "metadata": {},
   "outputs": [],
   "source": [
    "berat = (120, 143, 98, 280, 175, 205, 210, 115, 122, 175, 201)"
   ]
  },
  {
   "cell_type": "code",
   "execution_count": 54,
   "id": "d3e79c3e-420b-4f2f-b9ec-e780912b88b7",
   "metadata": {},
   "outputs": [
    {
     "name": "stdout",
     "output_type": "stream",
     "text": [
      "<class 'tuple'>\n"
     ]
    }
   ],
   "source": [
    "print(type(berat))"
   ]
  },
  {
   "cell_type": "code",
   "execution_count": 56,
   "id": "a576e177-976a-423d-aeb3-17eea22e59e6",
   "metadata": {},
   "outputs": [],
   "source": [
    "series_berat = pd.Series(berat)"
   ]
  },
  {
   "cell_type": "code",
   "execution_count": 57,
   "id": "2366fd5e-275e-461d-9ea1-256c610169a6",
   "metadata": {},
   "outputs": [
    {
     "data": {
      "text/plain": [
       "0     120\n",
       "1     143\n",
       "2      98\n",
       "3     280\n",
       "4     175\n",
       "5     205\n",
       "6     210\n",
       "7     115\n",
       "8     122\n",
       "9     175\n",
       "10    201\n",
       "dtype: int64"
      ]
     },
     "execution_count": 57,
     "metadata": {},
     "output_type": "execute_result"
    }
   ],
   "source": [
    "series_berat"
   ]
  },
  {
   "cell_type": "code",
   "execution_count": 58,
   "id": "e3958146-53e3-423c-894c-7c8c8758ae11",
   "metadata": {},
   "outputs": [
    {
     "data": {
      "text/plain": [
       "count     11.000000\n",
       "mean     167.636364\n",
       "std       54.421085\n",
       "min       98.000000\n",
       "25%      121.000000\n",
       "50%      175.000000\n",
       "75%      203.000000\n",
       "max      280.000000\n",
       "dtype: float64"
      ]
     },
     "execution_count": 58,
     "metadata": {},
     "output_type": "execute_result"
    }
   ],
   "source": [
    "series_berat.describe()"
   ]
  },
  {
   "cell_type": "code",
   "execution_count": 59,
   "id": "88417739-c7b6-45e2-b282-0b79c6658ae6",
   "metadata": {},
   "outputs": [
    {
     "data": {
      "text/plain": [
       "175"
      ]
     },
     "execution_count": 59,
     "metadata": {},
     "output_type": "execute_result"
    }
   ],
   "source": [
    "series_berat[9]"
   ]
  },
  {
   "cell_type": "code",
   "execution_count": 60,
   "id": "369fecef-67e1-469a-b20e-1ec5587f4a26",
   "metadata": {},
   "outputs": [
    {
     "name": "stdout",
     "output_type": "stream",
     "text": [
      "120\n",
      "143\n",
      "98\n",
      "280\n",
      "175\n",
      "205\n",
      "210\n",
      "115\n",
      "122\n",
      "175\n",
      "201\n"
     ]
    }
   ],
   "source": [
    "for temp in series_berat:\n",
    "    print(temp)"
   ]
  },
  {
   "cell_type": "markdown",
   "id": "acfc9ab7-0049-4d18-9c95-087c5b565544",
   "metadata": {},
   "source": [
    "### modifikasi nilai"
   ]
  },
  {
   "cell_type": "code",
   "execution_count": 61,
   "id": "8eeb3fb8-9566-4507-89fb-a31d04172deb",
   "metadata": {},
   "outputs": [],
   "source": [
    "berat = [70, 75, 72, 68, 71, 69, 65, 67, 73, 74, 64]"
   ]
  },
  {
   "cell_type": "code",
   "execution_count": 62,
   "id": "478cab0e-62e0-49bc-b878-6548342b5c90",
   "metadata": {},
   "outputs": [],
   "source": [
    "series = pd.Series(berat)"
   ]
  },
  {
   "cell_type": "code",
   "execution_count": 63,
   "id": "9f57fa38-f5e1-455a-85e9-970a0ee84113",
   "metadata": {},
   "outputs": [
    {
     "data": {
      "text/plain": [
       "0     70\n",
       "1     75\n",
       "2     72\n",
       "3     68\n",
       "4     71\n",
       "5     69\n",
       "6     65\n",
       "7     67\n",
       "8     73\n",
       "9     74\n",
       "10    64\n",
       "dtype: int64"
      ]
     },
     "execution_count": 63,
     "metadata": {},
     "output_type": "execute_result"
    }
   ],
   "source": [
    "series"
   ]
  },
  {
   "cell_type": "code",
   "execution_count": 64,
   "id": "7323202a-9860-4537-970a-930f48c9268f",
   "metadata": {},
   "outputs": [
    {
     "data": {
      "text/plain": [
       "75"
      ]
     },
     "execution_count": 64,
     "metadata": {},
     "output_type": "execute_result"
    }
   ],
   "source": [
    "series[1]"
   ]
  },
  {
   "cell_type": "code",
   "execution_count": 65,
   "id": "092fc220-50e4-4d88-a523-8a76c2157c85",
   "metadata": {},
   "outputs": [],
   "source": [
    "series[1] = 78"
   ]
  },
  {
   "cell_type": "code",
   "execution_count": 66,
   "id": "8e32a0b6-e10f-43fb-888d-837088f3e78a",
   "metadata": {},
   "outputs": [
    {
     "name": "stdout",
     "output_type": "stream",
     "text": [
      "78\n"
     ]
    }
   ],
   "source": [
    "print(series[1])"
   ]
  },
  {
   "cell_type": "code",
   "execution_count": 67,
   "id": "5fea4708-5053-478a-9e5d-103bd5bf78c2",
   "metadata": {},
   "outputs": [
    {
     "data": {
      "text/plain": [
       "0     70\n",
       "1     78\n",
       "2     72\n",
       "3     68\n",
       "4     71\n",
       "5     69\n",
       "6     65\n",
       "7     67\n",
       "8     73\n",
       "9     74\n",
       "10    64\n",
       "dtype: int64"
      ]
     },
     "execution_count": 67,
     "metadata": {},
     "output_type": "execute_result"
    }
   ],
   "source": [
    "series"
   ]
  },
  {
   "cell_type": "code",
   "execution_count": 68,
   "id": "ee18d06f-544c-4bc6-947e-1a78a00f8ca5",
   "metadata": {},
   "outputs": [],
   "source": [
    "series = series + 1"
   ]
  },
  {
   "cell_type": "code",
   "execution_count": 69,
   "id": "276f73f4-a890-4e51-ae82-3ef5c11505de",
   "metadata": {},
   "outputs": [
    {
     "data": {
      "text/plain": [
       "0     71\n",
       "1     79\n",
       "2     73\n",
       "3     69\n",
       "4     72\n",
       "5     70\n",
       "6     66\n",
       "7     68\n",
       "8     74\n",
       "9     75\n",
       "10    65\n",
       "dtype: int64"
      ]
     },
     "execution_count": 69,
     "metadata": {},
     "output_type": "execute_result"
    }
   ],
   "source": [
    "series"
   ]
  },
  {
   "cell_type": "markdown",
   "id": "62e2f68b-2a7b-4d41-991d-24c60f8e55b4",
   "metadata": {},
   "source": [
    "### meremove elemen"
   ]
  },
  {
   "cell_type": "code",
   "execution_count": 70,
   "id": "0a9d9b80-a33d-480f-8724-45084d597c57",
   "metadata": {},
   "outputs": [
    {
     "data": {
      "text/plain": [
       "70"
      ]
     },
     "execution_count": 70,
     "metadata": {},
     "output_type": "execute_result"
    }
   ],
   "source": [
    "series.pop(5)"
   ]
  },
  {
   "cell_type": "code",
   "execution_count": 71,
   "id": "ff0194fb-4afa-42f0-8f28-af9abfa64fd0",
   "metadata": {},
   "outputs": [
    {
     "data": {
      "text/plain": [
       "0     71\n",
       "1     79\n",
       "2     73\n",
       "3     69\n",
       "4     72\n",
       "6     66\n",
       "7     68\n",
       "8     74\n",
       "9     75\n",
       "10    65\n",
       "dtype: int64"
      ]
     },
     "execution_count": 71,
     "metadata": {},
     "output_type": "execute_result"
    }
   ],
   "source": [
    "series"
   ]
  },
  {
   "cell_type": "code",
   "execution_count": 73,
   "id": "105899b0-6667-41f9-ac40-4981c236d49c",
   "metadata": {},
   "outputs": [
    {
     "name": "stdout",
     "output_type": "stream",
     "text": [
      "nilai pada index 5 tidak ada\n"
     ]
    }
   ],
   "source": [
    "try:\n",
    "    print(series[5])\n",
    "except:\n",
    "    print('nilai pada index 5 tidak ada')"
   ]
  },
  {
   "cell_type": "code",
   "execution_count": 74,
   "id": "45f6451d-a337-41d1-b968-0dcd84fc2fed",
   "metadata": {},
   "outputs": [
    {
     "data": {
      "text/html": [
       "<div>\n",
       "<style scoped>\n",
       "    .dataframe tbody tr th:only-of-type {\n",
       "        vertical-align: middle;\n",
       "    }\n",
       "\n",
       "    .dataframe tbody tr th {\n",
       "        vertical-align: top;\n",
       "    }\n",
       "\n",
       "    .dataframe thead th {\n",
       "        text-align: right;\n",
       "    }\n",
       "</style>\n",
       "<table border=\"1\" class=\"dataframe\">\n",
       "  <thead>\n",
       "    <tr style=\"text-align: right;\">\n",
       "      <th></th>\n",
       "      <th>index</th>\n",
       "      <th>0</th>\n",
       "    </tr>\n",
       "  </thead>\n",
       "  <tbody>\n",
       "    <tr>\n",
       "      <th>0</th>\n",
       "      <td>0</td>\n",
       "      <td>71</td>\n",
       "    </tr>\n",
       "    <tr>\n",
       "      <th>1</th>\n",
       "      <td>1</td>\n",
       "      <td>79</td>\n",
       "    </tr>\n",
       "    <tr>\n",
       "      <th>2</th>\n",
       "      <td>2</td>\n",
       "      <td>73</td>\n",
       "    </tr>\n",
       "    <tr>\n",
       "      <th>3</th>\n",
       "      <td>3</td>\n",
       "      <td>69</td>\n",
       "    </tr>\n",
       "    <tr>\n",
       "      <th>4</th>\n",
       "      <td>4</td>\n",
       "      <td>72</td>\n",
       "    </tr>\n",
       "    <tr>\n",
       "      <th>5</th>\n",
       "      <td>6</td>\n",
       "      <td>66</td>\n",
       "    </tr>\n",
       "    <tr>\n",
       "      <th>6</th>\n",
       "      <td>7</td>\n",
       "      <td>68</td>\n",
       "    </tr>\n",
       "    <tr>\n",
       "      <th>7</th>\n",
       "      <td>8</td>\n",
       "      <td>74</td>\n",
       "    </tr>\n",
       "    <tr>\n",
       "      <th>8</th>\n",
       "      <td>9</td>\n",
       "      <td>75</td>\n",
       "    </tr>\n",
       "    <tr>\n",
       "      <th>9</th>\n",
       "      <td>10</td>\n",
       "      <td>65</td>\n",
       "    </tr>\n",
       "  </tbody>\n",
       "</table>\n",
       "</div>"
      ],
      "text/plain": [
       "   index   0\n",
       "0      0  71\n",
       "1      1  79\n",
       "2      2  73\n",
       "3      3  69\n",
       "4      4  72\n",
       "5      6  66\n",
       "6      7  68\n",
       "7      8  74\n",
       "8      9  75\n",
       "9     10  65"
      ]
     },
     "execution_count": 74,
     "metadata": {},
     "output_type": "execute_result"
    }
   ],
   "source": [
    "series.reset_index()"
   ]
  },
  {
   "cell_type": "code",
   "execution_count": 75,
   "id": "767a8d1c-a6b5-4ff1-aa3e-a62bed727b1c",
   "metadata": {},
   "outputs": [
    {
     "data": {
      "text/plain": [
       "0     71\n",
       "1     79\n",
       "2     73\n",
       "3     69\n",
       "4     72\n",
       "6     66\n",
       "7     68\n",
       "8     74\n",
       "9     75\n",
       "10    65\n",
       "dtype: int64"
      ]
     },
     "execution_count": 75,
     "metadata": {},
     "output_type": "execute_result"
    }
   ],
   "source": [
    "series"
   ]
  },
  {
   "cell_type": "code",
   "execution_count": 76,
   "id": "ffcdad71-e6ef-44f8-b5c9-100e269a96c2",
   "metadata": {},
   "outputs": [],
   "source": [
    "series.reset_index(drop=True, inplace=True)"
   ]
  },
  {
   "cell_type": "code",
   "execution_count": 77,
   "id": "8741fc0d-0907-4052-be34-8f95661f6052",
   "metadata": {},
   "outputs": [
    {
     "data": {
      "text/plain": [
       "0    71\n",
       "1    79\n",
       "2    73\n",
       "3    69\n",
       "4    72\n",
       "5    66\n",
       "6    68\n",
       "7    74\n",
       "8    75\n",
       "9    65\n",
       "dtype: int64"
      ]
     },
     "execution_count": 77,
     "metadata": {},
     "output_type": "execute_result"
    }
   ],
   "source": [
    "series"
   ]
  },
  {
   "cell_type": "markdown",
   "id": "6b3359f7-15d3-4660-ad54-6d80caf61c2c",
   "metadata": {},
   "source": [
    "### menambah elemen"
   ]
  },
  {
   "cell_type": "code",
   "execution_count": 78,
   "id": "42be1453-8514-4096-a452-cf8a8c1e694c",
   "metadata": {},
   "outputs": [],
   "source": [
    "elemen_tambahan = [76, 64]"
   ]
  },
  {
   "cell_type": "code",
   "execution_count": 79,
   "id": "e1a38a44-7bc1-40b3-a874-688d41638b26",
   "metadata": {},
   "outputs": [],
   "source": [
    "series_tambahan = pd.Series(elemen_tambahan)"
   ]
  },
  {
   "cell_type": "code",
   "execution_count": 80,
   "id": "474ae26a-a618-4edd-9193-d3ebc8a6fdf2",
   "metadata": {},
   "outputs": [
    {
     "data": {
      "text/plain": [
       "0    76\n",
       "1    64\n",
       "dtype: int64"
      ]
     },
     "execution_count": 80,
     "metadata": {},
     "output_type": "execute_result"
    }
   ],
   "source": [
    "series_tambahan"
   ]
  },
  {
   "cell_type": "code",
   "execution_count": 81,
   "id": "3709b7f4-a689-44e6-b12f-41bc134b729a",
   "metadata": {},
   "outputs": [
    {
     "data": {
      "text/plain": [
       "0     71\n",
       "1     79\n",
       "2     73\n",
       "3     69\n",
       "4     72\n",
       "5     66\n",
       "6     68\n",
       "7     74\n",
       "8     75\n",
       "9     65\n",
       "10    76\n",
       "11    64\n",
       "dtype: int64"
      ]
     },
     "execution_count": 81,
     "metadata": {},
     "output_type": "execute_result"
    }
   ],
   "source": [
    "series.append(series_tambahan, ignore_index=True)"
   ]
  },
  {
   "cell_type": "code",
   "execution_count": 82,
   "id": "8efacc4c-4591-4c4d-bf61-9e301cb0802c",
   "metadata": {},
   "outputs": [
    {
     "data": {
      "text/plain": [
       "0    71\n",
       "1    79\n",
       "2    73\n",
       "3    69\n",
       "4    72\n",
       "5    66\n",
       "6    68\n",
       "7    74\n",
       "8    75\n",
       "9    65\n",
       "dtype: int64"
      ]
     },
     "execution_count": 82,
     "metadata": {},
     "output_type": "execute_result"
    }
   ],
   "source": [
    "series"
   ]
  },
  {
   "cell_type": "code",
   "execution_count": 83,
   "id": "71694dc2-0da6-4be7-b0ca-c51d4916c564",
   "metadata": {},
   "outputs": [],
   "source": [
    "series = series.append(series_tambahan, ignore_index=True)"
   ]
  },
  {
   "cell_type": "code",
   "execution_count": 84,
   "id": "da07e5ed-cb40-4012-8867-0d0e6c452775",
   "metadata": {},
   "outputs": [
    {
     "data": {
      "text/plain": [
       "0     71\n",
       "1     79\n",
       "2     73\n",
       "3     69\n",
       "4     72\n",
       "5     66\n",
       "6     68\n",
       "7     74\n",
       "8     75\n",
       "9     65\n",
       "10    76\n",
       "11    64\n",
       "dtype: int64"
      ]
     },
     "execution_count": 84,
     "metadata": {},
     "output_type": "execute_result"
    }
   ],
   "source": [
    "series"
   ]
  },
  {
   "cell_type": "markdown",
   "id": "a2c8b9d1-4982-4a2e-8cd7-1a372b714782",
   "metadata": {},
   "source": [
    "### sorting"
   ]
  },
  {
   "cell_type": "code",
   "execution_count": 85,
   "id": "1dd767f5-c1d8-453e-afe1-0dd889ce3313",
   "metadata": {},
   "outputs": [
    {
     "data": {
      "text/plain": [
       "11    64\n",
       "9     65\n",
       "5     66\n",
       "6     68\n",
       "3     69\n",
       "0     71\n",
       "4     72\n",
       "2     73\n",
       "7     74\n",
       "8     75\n",
       "10    76\n",
       "1     79\n",
       "dtype: int64"
      ]
     },
     "execution_count": 85,
     "metadata": {},
     "output_type": "execute_result"
    }
   ],
   "source": [
    "series.sort_values()"
   ]
  },
  {
   "cell_type": "markdown",
   "id": "c281e27d-febc-4a6c-a563-7eb2892e8a54",
   "metadata": {},
   "source": [
    "### creating dataframes"
   ]
  },
  {
   "cell_type": "code",
   "execution_count": 86,
   "id": "d7772281-ba21-409a-a4ee-3b9935064887",
   "metadata": {},
   "outputs": [],
   "source": [
    "df = pd.DataFrame()"
   ]
  },
  {
   "cell_type": "code",
   "execution_count": 87,
   "id": "dd8e64b4-32fc-47a3-b8cd-15f7308c05f9",
   "metadata": {},
   "outputs": [
    {
     "data": {
      "text/html": [
       "<div>\n",
       "<style scoped>\n",
       "    .dataframe tbody tr th:only-of-type {\n",
       "        vertical-align: middle;\n",
       "    }\n",
       "\n",
       "    .dataframe tbody tr th {\n",
       "        vertical-align: top;\n",
       "    }\n",
       "\n",
       "    .dataframe thead th {\n",
       "        text-align: right;\n",
       "    }\n",
       "</style>\n",
       "<table border=\"1\" class=\"dataframe\">\n",
       "  <thead>\n",
       "    <tr style=\"text-align: right;\">\n",
       "      <th></th>\n",
       "    </tr>\n",
       "  </thead>\n",
       "  <tbody>\n",
       "  </tbody>\n",
       "</table>\n",
       "</div>"
      ],
      "text/plain": [
       "Empty DataFrame\n",
       "Columns: []\n",
       "Index: []"
      ]
     },
     "execution_count": 87,
     "metadata": {},
     "output_type": "execute_result"
    }
   ],
   "source": [
    "df"
   ]
  },
  {
   "cell_type": "code",
   "execution_count": 88,
   "id": "33547e6e-459b-4d4d-b3e8-544f03e6c117",
   "metadata": {},
   "outputs": [
    {
     "data": {
      "text/plain": [
       "pandas.core.frame.DataFrame"
      ]
     },
     "execution_count": 88,
     "metadata": {},
     "output_type": "execute_result"
    }
   ],
   "source": [
    "type(df)"
   ]
  },
  {
   "cell_type": "code",
   "execution_count": 89,
   "id": "8948fb19-6674-4c6d-bf81-a77e404597a1",
   "metadata": {},
   "outputs": [],
   "source": [
    "nama_kota = pd.Series([\n",
    "    'Bandung',\n",
    "    'Jakarta',\n",
    "    'Batam',\n",
    "    'Depok',\n",
    "    'Bekasi',\n",
    "    'Cimahi',\n",
    "    'Bogor'\n",
    "])"
   ]
  },
  {
   "cell_type": "code",
   "execution_count": 90,
   "id": "3fbc8961-fb31-471e-99aa-d963b545643d",
   "metadata": {},
   "outputs": [
    {
     "data": {
      "text/plain": [
       "0    Bandung\n",
       "1    Jakarta\n",
       "2      Batam\n",
       "3      Depok\n",
       "4     Bekasi\n",
       "5     Cimahi\n",
       "6      Bogor\n",
       "dtype: object"
      ]
     },
     "execution_count": 90,
     "metadata": {},
     "output_type": "execute_result"
    }
   ],
   "source": [
    "nama_kota"
   ]
  },
  {
   "cell_type": "code",
   "execution_count": 91,
   "id": "e459a32c-b16b-41a0-bd03-046166b0e2ff",
   "metadata": {},
   "outputs": [
    {
     "data": {
      "text/plain": [
       "pandas.core.series.Series"
      ]
     },
     "execution_count": 91,
     "metadata": {},
     "output_type": "execute_result"
    }
   ],
   "source": [
    "type(nama_kota)"
   ]
  },
  {
   "cell_type": "code",
   "execution_count": 92,
   "id": "a0af152e-f31b-4021-829d-76a3d2b38184",
   "metadata": {},
   "outputs": [],
   "source": [
    "populasi = pd.Series([\n",
    "    448094,\n",
    "    954201,\n",
    "    32391,\n",
    "    401923,\n",
    "    894201,\n",
    "    34572,\n",
    "    50932\n",
    "])"
   ]
  },
  {
   "cell_type": "code",
   "execution_count": 93,
   "id": "726ca2a0-80cd-4005-ba76-7e200aa53e0a",
   "metadata": {},
   "outputs": [],
   "source": [
    "jumlah_kampus = pd.Series([\n",
    "    20,\n",
    "    40,\n",
    "    15,\n",
    "    10,\n",
    "    18,\n",
    "    8,\n",
    "    12\n",
    "])"
   ]
  },
  {
   "cell_type": "code",
   "execution_count": 94,
   "id": "118e0b61-33cf-43c5-a06a-722c4c22e701",
   "metadata": {},
   "outputs": [
    {
     "name": "stdout",
     "output_type": "stream",
     "text": [
      "0    Bandung\n",
      "1    Jakarta\n",
      "2      Batam\n",
      "3      Depok\n",
      "4     Bekasi\n",
      "5     Cimahi\n",
      "6      Bogor\n",
      "dtype: object 0    448094\n",
      "1    954201\n",
      "2     32391\n",
      "3    401923\n",
      "4    894201\n",
      "5     34572\n",
      "6     50932\n",
      "dtype: int64 0    20\n",
      "1    40\n",
      "2    15\n",
      "3    10\n",
      "4    18\n",
      "5     8\n",
      "6    12\n",
      "dtype: int64\n"
     ]
    }
   ],
   "source": [
    "print(nama_kota, populasi, jumlah_kampus)"
   ]
  },
  {
   "cell_type": "code",
   "execution_count": 95,
   "id": "083a1093-fcad-41e2-a551-e6c711803d0a",
   "metadata": {},
   "outputs": [],
   "source": [
    "df = pd.DataFrame({\n",
    "    'Nama Kota': nama_kota,\n",
    "    'Populasi': populasi,\n",
    "    'Jumlah Kampus': jumlah_kampus\n",
    "})"
   ]
  },
  {
   "cell_type": "code",
   "execution_count": 96,
   "id": "9b001adb-ea82-4551-9f7a-3e41e88da41d",
   "metadata": {},
   "outputs": [
    {
     "data": {
      "text/html": [
       "<div>\n",
       "<style scoped>\n",
       "    .dataframe tbody tr th:only-of-type {\n",
       "        vertical-align: middle;\n",
       "    }\n",
       "\n",
       "    .dataframe tbody tr th {\n",
       "        vertical-align: top;\n",
       "    }\n",
       "\n",
       "    .dataframe thead th {\n",
       "        text-align: right;\n",
       "    }\n",
       "</style>\n",
       "<table border=\"1\" class=\"dataframe\">\n",
       "  <thead>\n",
       "    <tr style=\"text-align: right;\">\n",
       "      <th></th>\n",
       "      <th>Nama Kota</th>\n",
       "      <th>Populasi</th>\n",
       "      <th>Jumlah Kampus</th>\n",
       "    </tr>\n",
       "  </thead>\n",
       "  <tbody>\n",
       "    <tr>\n",
       "      <th>0</th>\n",
       "      <td>Bandung</td>\n",
       "      <td>448094</td>\n",
       "      <td>20</td>\n",
       "    </tr>\n",
       "    <tr>\n",
       "      <th>1</th>\n",
       "      <td>Jakarta</td>\n",
       "      <td>954201</td>\n",
       "      <td>40</td>\n",
       "    </tr>\n",
       "    <tr>\n",
       "      <th>2</th>\n",
       "      <td>Batam</td>\n",
       "      <td>32391</td>\n",
       "      <td>15</td>\n",
       "    </tr>\n",
       "    <tr>\n",
       "      <th>3</th>\n",
       "      <td>Depok</td>\n",
       "      <td>401923</td>\n",
       "      <td>10</td>\n",
       "    </tr>\n",
       "    <tr>\n",
       "      <th>4</th>\n",
       "      <td>Bekasi</td>\n",
       "      <td>894201</td>\n",
       "      <td>18</td>\n",
       "    </tr>\n",
       "    <tr>\n",
       "      <th>5</th>\n",
       "      <td>Cimahi</td>\n",
       "      <td>34572</td>\n",
       "      <td>8</td>\n",
       "    </tr>\n",
       "    <tr>\n",
       "      <th>6</th>\n",
       "      <td>Bogor</td>\n",
       "      <td>50932</td>\n",
       "      <td>12</td>\n",
       "    </tr>\n",
       "  </tbody>\n",
       "</table>\n",
       "</div>"
      ],
      "text/plain": [
       "  Nama Kota  Populasi  Jumlah Kampus\n",
       "0   Bandung    448094             20\n",
       "1   Jakarta    954201             40\n",
       "2     Batam     32391             15\n",
       "3     Depok    401923             10\n",
       "4    Bekasi    894201             18\n",
       "5    Cimahi     34572              8\n",
       "6     Bogor     50932             12"
      ]
     },
     "execution_count": 96,
     "metadata": {},
     "output_type": "execute_result"
    }
   ],
   "source": [
    "df"
   ]
  },
  {
   "cell_type": "markdown",
   "id": "7ba4b626-ee30-47f6-835b-001bf8c1ad24",
   "metadata": {},
   "source": [
    "### analisis terhadap dataframe"
   ]
  },
  {
   "cell_type": "code",
   "execution_count": 98,
   "id": "8d77b05b-840e-412c-91de-4bda5b6b2157",
   "metadata": {},
   "outputs": [
    {
     "data": {
      "text/html": [
       "<div>\n",
       "<style scoped>\n",
       "    .dataframe tbody tr th:only-of-type {\n",
       "        vertical-align: middle;\n",
       "    }\n",
       "\n",
       "    .dataframe tbody tr th {\n",
       "        vertical-align: top;\n",
       "    }\n",
       "\n",
       "    .dataframe thead th {\n",
       "        text-align: right;\n",
       "    }\n",
       "</style>\n",
       "<table border=\"1\" class=\"dataframe\">\n",
       "  <thead>\n",
       "    <tr style=\"text-align: right;\">\n",
       "      <th></th>\n",
       "      <th>Populasi</th>\n",
       "      <th>Jumlah Kampus</th>\n",
       "    </tr>\n",
       "  </thead>\n",
       "  <tbody>\n",
       "    <tr>\n",
       "      <th>count</th>\n",
       "      <td>7.000000</td>\n",
       "      <td>7.000000</td>\n",
       "    </tr>\n",
       "    <tr>\n",
       "      <th>mean</th>\n",
       "      <td>402330.571429</td>\n",
       "      <td>17.571429</td>\n",
       "    </tr>\n",
       "    <tr>\n",
       "      <th>std</th>\n",
       "      <td>396689.331701</td>\n",
       "      <td>10.768119</td>\n",
       "    </tr>\n",
       "    <tr>\n",
       "      <th>min</th>\n",
       "      <td>32391.000000</td>\n",
       "      <td>8.000000</td>\n",
       "    </tr>\n",
       "    <tr>\n",
       "      <th>25%</th>\n",
       "      <td>42752.000000</td>\n",
       "      <td>11.000000</td>\n",
       "    </tr>\n",
       "    <tr>\n",
       "      <th>50%</th>\n",
       "      <td>401923.000000</td>\n",
       "      <td>15.000000</td>\n",
       "    </tr>\n",
       "    <tr>\n",
       "      <th>75%</th>\n",
       "      <td>671147.500000</td>\n",
       "      <td>19.000000</td>\n",
       "    </tr>\n",
       "    <tr>\n",
       "      <th>max</th>\n",
       "      <td>954201.000000</td>\n",
       "      <td>40.000000</td>\n",
       "    </tr>\n",
       "  </tbody>\n",
       "</table>\n",
       "</div>"
      ],
      "text/plain": [
       "            Populasi  Jumlah Kampus\n",
       "count       7.000000       7.000000\n",
       "mean   402330.571429      17.571429\n",
       "std    396689.331701      10.768119\n",
       "min     32391.000000       8.000000\n",
       "25%     42752.000000      11.000000\n",
       "50%    401923.000000      15.000000\n",
       "75%    671147.500000      19.000000\n",
       "max    954201.000000      40.000000"
      ]
     },
     "execution_count": 98,
     "metadata": {},
     "output_type": "execute_result"
    }
   ],
   "source": [
    "df.describe()"
   ]
  },
  {
   "cell_type": "code",
   "execution_count": 100,
   "id": "7f3c5700-7045-4ffd-b4a5-fef5767d7e65",
   "metadata": {},
   "outputs": [
    {
     "data": {
      "text/html": [
       "<div>\n",
       "<style scoped>\n",
       "    .dataframe tbody tr th:only-of-type {\n",
       "        vertical-align: middle;\n",
       "    }\n",
       "\n",
       "    .dataframe tbody tr th {\n",
       "        vertical-align: top;\n",
       "    }\n",
       "\n",
       "    .dataframe thead th {\n",
       "        text-align: right;\n",
       "    }\n",
       "</style>\n",
       "<table border=\"1\" class=\"dataframe\">\n",
       "  <thead>\n",
       "    <tr style=\"text-align: right;\">\n",
       "      <th></th>\n",
       "      <th>Nama Kota</th>\n",
       "      <th>Populasi</th>\n",
       "      <th>Jumlah Kampus</th>\n",
       "    </tr>\n",
       "  </thead>\n",
       "  <tbody>\n",
       "    <tr>\n",
       "      <th>count</th>\n",
       "      <td>7</td>\n",
       "      <td>7.000000</td>\n",
       "      <td>7.000000</td>\n",
       "    </tr>\n",
       "    <tr>\n",
       "      <th>unique</th>\n",
       "      <td>7</td>\n",
       "      <td>NaN</td>\n",
       "      <td>NaN</td>\n",
       "    </tr>\n",
       "    <tr>\n",
       "      <th>top</th>\n",
       "      <td>Bogor</td>\n",
       "      <td>NaN</td>\n",
       "      <td>NaN</td>\n",
       "    </tr>\n",
       "    <tr>\n",
       "      <th>freq</th>\n",
       "      <td>1</td>\n",
       "      <td>NaN</td>\n",
       "      <td>NaN</td>\n",
       "    </tr>\n",
       "    <tr>\n",
       "      <th>mean</th>\n",
       "      <td>NaN</td>\n",
       "      <td>402330.571429</td>\n",
       "      <td>17.571429</td>\n",
       "    </tr>\n",
       "    <tr>\n",
       "      <th>std</th>\n",
       "      <td>NaN</td>\n",
       "      <td>396689.331701</td>\n",
       "      <td>10.768119</td>\n",
       "    </tr>\n",
       "    <tr>\n",
       "      <th>min</th>\n",
       "      <td>NaN</td>\n",
       "      <td>32391.000000</td>\n",
       "      <td>8.000000</td>\n",
       "    </tr>\n",
       "    <tr>\n",
       "      <th>25%</th>\n",
       "      <td>NaN</td>\n",
       "      <td>42752.000000</td>\n",
       "      <td>11.000000</td>\n",
       "    </tr>\n",
       "    <tr>\n",
       "      <th>50%</th>\n",
       "      <td>NaN</td>\n",
       "      <td>401923.000000</td>\n",
       "      <td>15.000000</td>\n",
       "    </tr>\n",
       "    <tr>\n",
       "      <th>75%</th>\n",
       "      <td>NaN</td>\n",
       "      <td>671147.500000</td>\n",
       "      <td>19.000000</td>\n",
       "    </tr>\n",
       "    <tr>\n",
       "      <th>max</th>\n",
       "      <td>NaN</td>\n",
       "      <td>954201.000000</td>\n",
       "      <td>40.000000</td>\n",
       "    </tr>\n",
       "  </tbody>\n",
       "</table>\n",
       "</div>"
      ],
      "text/plain": [
       "       Nama Kota       Populasi  Jumlah Kampus\n",
       "count          7       7.000000       7.000000\n",
       "unique         7            NaN            NaN\n",
       "top        Bogor            NaN            NaN\n",
       "freq           1            NaN            NaN\n",
       "mean         NaN  402330.571429      17.571429\n",
       "std          NaN  396689.331701      10.768119\n",
       "min          NaN   32391.000000       8.000000\n",
       "25%          NaN   42752.000000      11.000000\n",
       "50%          NaN  401923.000000      15.000000\n",
       "75%          NaN  671147.500000      19.000000\n",
       "max          NaN  954201.000000      40.000000"
      ]
     },
     "execution_count": 100,
     "metadata": {},
     "output_type": "execute_result"
    }
   ],
   "source": [
    "df.describe(include='all')"
   ]
  },
  {
   "cell_type": "code",
   "execution_count": 101,
   "id": "9a8e298f-fff5-4052-b559-ca51f904ca43",
   "metadata": {},
   "outputs": [
    {
     "data": {
      "text/html": [
       "<div>\n",
       "<style scoped>\n",
       "    .dataframe tbody tr th:only-of-type {\n",
       "        vertical-align: middle;\n",
       "    }\n",
       "\n",
       "    .dataframe tbody tr th {\n",
       "        vertical-align: top;\n",
       "    }\n",
       "\n",
       "    .dataframe thead th {\n",
       "        text-align: right;\n",
       "    }\n",
       "</style>\n",
       "<table border=\"1\" class=\"dataframe\">\n",
       "  <thead>\n",
       "    <tr style=\"text-align: right;\">\n",
       "      <th></th>\n",
       "      <th>Nama Kota</th>\n",
       "      <th>Populasi</th>\n",
       "      <th>Jumlah Kampus</th>\n",
       "    </tr>\n",
       "  </thead>\n",
       "  <tbody>\n",
       "    <tr>\n",
       "      <th>0</th>\n",
       "      <td>Bandung</td>\n",
       "      <td>448094</td>\n",
       "      <td>20</td>\n",
       "    </tr>\n",
       "    <tr>\n",
       "      <th>1</th>\n",
       "      <td>Jakarta</td>\n",
       "      <td>954201</td>\n",
       "      <td>40</td>\n",
       "    </tr>\n",
       "    <tr>\n",
       "      <th>2</th>\n",
       "      <td>Batam</td>\n",
       "      <td>32391</td>\n",
       "      <td>15</td>\n",
       "    </tr>\n",
       "    <tr>\n",
       "      <th>3</th>\n",
       "      <td>Depok</td>\n",
       "      <td>401923</td>\n",
       "      <td>10</td>\n",
       "    </tr>\n",
       "    <tr>\n",
       "      <th>4</th>\n",
       "      <td>Bekasi</td>\n",
       "      <td>894201</td>\n",
       "      <td>18</td>\n",
       "    </tr>\n",
       "  </tbody>\n",
       "</table>\n",
       "</div>"
      ],
      "text/plain": [
       "  Nama Kota  Populasi  Jumlah Kampus\n",
       "0   Bandung    448094             20\n",
       "1   Jakarta    954201             40\n",
       "2     Batam     32391             15\n",
       "3     Depok    401923             10\n",
       "4    Bekasi    894201             18"
      ]
     },
     "execution_count": 101,
     "metadata": {},
     "output_type": "execute_result"
    }
   ],
   "source": [
    "df.head()"
   ]
  },
  {
   "cell_type": "code",
   "execution_count": 102,
   "id": "096686aa-8417-46c1-a7c2-c322c19664cb",
   "metadata": {},
   "outputs": [
    {
     "data": {
      "text/html": [
       "<div>\n",
       "<style scoped>\n",
       "    .dataframe tbody tr th:only-of-type {\n",
       "        vertical-align: middle;\n",
       "    }\n",
       "\n",
       "    .dataframe tbody tr th {\n",
       "        vertical-align: top;\n",
       "    }\n",
       "\n",
       "    .dataframe thead th {\n",
       "        text-align: right;\n",
       "    }\n",
       "</style>\n",
       "<table border=\"1\" class=\"dataframe\">\n",
       "  <thead>\n",
       "    <tr style=\"text-align: right;\">\n",
       "      <th></th>\n",
       "      <th>Nama Kota</th>\n",
       "      <th>Populasi</th>\n",
       "      <th>Jumlah Kampus</th>\n",
       "    </tr>\n",
       "  </thead>\n",
       "  <tbody>\n",
       "    <tr>\n",
       "      <th>2</th>\n",
       "      <td>Batam</td>\n",
       "      <td>32391</td>\n",
       "      <td>15</td>\n",
       "    </tr>\n",
       "    <tr>\n",
       "      <th>3</th>\n",
       "      <td>Depok</td>\n",
       "      <td>401923</td>\n",
       "      <td>10</td>\n",
       "    </tr>\n",
       "    <tr>\n",
       "      <th>4</th>\n",
       "      <td>Bekasi</td>\n",
       "      <td>894201</td>\n",
       "      <td>18</td>\n",
       "    </tr>\n",
       "    <tr>\n",
       "      <th>5</th>\n",
       "      <td>Cimahi</td>\n",
       "      <td>34572</td>\n",
       "      <td>8</td>\n",
       "    </tr>\n",
       "    <tr>\n",
       "      <th>6</th>\n",
       "      <td>Bogor</td>\n",
       "      <td>50932</td>\n",
       "      <td>12</td>\n",
       "    </tr>\n",
       "  </tbody>\n",
       "</table>\n",
       "</div>"
      ],
      "text/plain": [
       "  Nama Kota  Populasi  Jumlah Kampus\n",
       "2     Batam     32391             15\n",
       "3     Depok    401923             10\n",
       "4    Bekasi    894201             18\n",
       "5    Cimahi     34572              8\n",
       "6     Bogor     50932             12"
      ]
     },
     "execution_count": 102,
     "metadata": {},
     "output_type": "execute_result"
    }
   ],
   "source": [
    "df.tail()"
   ]
  },
  {
   "cell_type": "code",
   "execution_count": 103,
   "id": "dfceba42-63a3-4574-bc93-c2371f6adca1",
   "metadata": {},
   "outputs": [
    {
     "data": {
      "text/html": [
       "<div>\n",
       "<style scoped>\n",
       "    .dataframe tbody tr th:only-of-type {\n",
       "        vertical-align: middle;\n",
       "    }\n",
       "\n",
       "    .dataframe tbody tr th {\n",
       "        vertical-align: top;\n",
       "    }\n",
       "\n",
       "    .dataframe thead th {\n",
       "        text-align: right;\n",
       "    }\n",
       "</style>\n",
       "<table border=\"1\" class=\"dataframe\">\n",
       "  <thead>\n",
       "    <tr style=\"text-align: right;\">\n",
       "      <th></th>\n",
       "      <th>Nama Kota</th>\n",
       "      <th>Populasi</th>\n",
       "      <th>Jumlah Kampus</th>\n",
       "    </tr>\n",
       "  </thead>\n",
       "  <tbody>\n",
       "    <tr>\n",
       "      <th>0</th>\n",
       "      <td>Bandung</td>\n",
       "      <td>448094</td>\n",
       "      <td>20</td>\n",
       "    </tr>\n",
       "    <tr>\n",
       "      <th>1</th>\n",
       "      <td>Jakarta</td>\n",
       "      <td>954201</td>\n",
       "      <td>40</td>\n",
       "    </tr>\n",
       "    <tr>\n",
       "      <th>2</th>\n",
       "      <td>Batam</td>\n",
       "      <td>32391</td>\n",
       "      <td>15</td>\n",
       "    </tr>\n",
       "    <tr>\n",
       "      <th>3</th>\n",
       "      <td>Depok</td>\n",
       "      <td>401923</td>\n",
       "      <td>10</td>\n",
       "    </tr>\n",
       "    <tr>\n",
       "      <th>4</th>\n",
       "      <td>Bekasi</td>\n",
       "      <td>894201</td>\n",
       "      <td>18</td>\n",
       "    </tr>\n",
       "    <tr>\n",
       "      <th>5</th>\n",
       "      <td>Cimahi</td>\n",
       "      <td>34572</td>\n",
       "      <td>8</td>\n",
       "    </tr>\n",
       "  </tbody>\n",
       "</table>\n",
       "</div>"
      ],
      "text/plain": [
       "  Nama Kota  Populasi  Jumlah Kampus\n",
       "0   Bandung    448094             20\n",
       "1   Jakarta    954201             40\n",
       "2     Batam     32391             15\n",
       "3     Depok    401923             10\n",
       "4    Bekasi    894201             18\n",
       "5    Cimahi     34572              8"
      ]
     },
     "execution_count": 103,
     "metadata": {},
     "output_type": "execute_result"
    }
   ],
   "source": [
    "df.head(6)"
   ]
  },
  {
   "cell_type": "markdown",
   "id": "badc10e2-f07c-46f8-92ab-83b8f1466fd9",
   "metadata": {},
   "source": [
    "#### data california housing"
   ]
  },
  {
   "cell_type": "markdown",
   "id": "f13c696b-eff7-493d-9042-e6511135e6f7",
   "metadata": {},
   "source": [
    "data: https://dl.google.com/mlcc/mledu-datasets/california_housing_train.csv"
   ]
  },
  {
   "cell_type": "code",
   "execution_count": 105,
   "id": "3aaf6f53-d7f0-40b9-8a37-c374f0658049",
   "metadata": {},
   "outputs": [],
   "source": [
    "df = pd.read_csv(\"california_housing_train.csv\")"
   ]
  },
  {
   "cell_type": "code",
   "execution_count": 106,
   "id": "5b6ada1f-2946-4a7a-8f32-1892f007831b",
   "metadata": {},
   "outputs": [
    {
     "data": {
      "text/html": [
       "<div>\n",
       "<style scoped>\n",
       "    .dataframe tbody tr th:only-of-type {\n",
       "        vertical-align: middle;\n",
       "    }\n",
       "\n",
       "    .dataframe tbody tr th {\n",
       "        vertical-align: top;\n",
       "    }\n",
       "\n",
       "    .dataframe thead th {\n",
       "        text-align: right;\n",
       "    }\n",
       "</style>\n",
       "<table border=\"1\" class=\"dataframe\">\n",
       "  <thead>\n",
       "    <tr style=\"text-align: right;\">\n",
       "      <th></th>\n",
       "      <th>longitude</th>\n",
       "      <th>latitude</th>\n",
       "      <th>housing_median_age</th>\n",
       "      <th>total_rooms</th>\n",
       "      <th>total_bedrooms</th>\n",
       "      <th>population</th>\n",
       "      <th>households</th>\n",
       "      <th>median_income</th>\n",
       "      <th>median_house_value</th>\n",
       "    </tr>\n",
       "  </thead>\n",
       "  <tbody>\n",
       "    <tr>\n",
       "      <th>0</th>\n",
       "      <td>-114.31</td>\n",
       "      <td>34.19</td>\n",
       "      <td>15.0</td>\n",
       "      <td>5612.0</td>\n",
       "      <td>1283.0</td>\n",
       "      <td>1015.0</td>\n",
       "      <td>472.0</td>\n",
       "      <td>1.4936</td>\n",
       "      <td>66900.0</td>\n",
       "    </tr>\n",
       "    <tr>\n",
       "      <th>1</th>\n",
       "      <td>-114.47</td>\n",
       "      <td>34.40</td>\n",
       "      <td>19.0</td>\n",
       "      <td>7650.0</td>\n",
       "      <td>1901.0</td>\n",
       "      <td>1129.0</td>\n",
       "      <td>463.0</td>\n",
       "      <td>1.8200</td>\n",
       "      <td>80100.0</td>\n",
       "    </tr>\n",
       "    <tr>\n",
       "      <th>2</th>\n",
       "      <td>-114.56</td>\n",
       "      <td>33.69</td>\n",
       "      <td>17.0</td>\n",
       "      <td>720.0</td>\n",
       "      <td>174.0</td>\n",
       "      <td>333.0</td>\n",
       "      <td>117.0</td>\n",
       "      <td>1.6509</td>\n",
       "      <td>85700.0</td>\n",
       "    </tr>\n",
       "    <tr>\n",
       "      <th>3</th>\n",
       "      <td>-114.57</td>\n",
       "      <td>33.64</td>\n",
       "      <td>14.0</td>\n",
       "      <td>1501.0</td>\n",
       "      <td>337.0</td>\n",
       "      <td>515.0</td>\n",
       "      <td>226.0</td>\n",
       "      <td>3.1917</td>\n",
       "      <td>73400.0</td>\n",
       "    </tr>\n",
       "    <tr>\n",
       "      <th>4</th>\n",
       "      <td>-114.57</td>\n",
       "      <td>33.57</td>\n",
       "      <td>20.0</td>\n",
       "      <td>1454.0</td>\n",
       "      <td>326.0</td>\n",
       "      <td>624.0</td>\n",
       "      <td>262.0</td>\n",
       "      <td>1.9250</td>\n",
       "      <td>65500.0</td>\n",
       "    </tr>\n",
       "    <tr>\n",
       "      <th>...</th>\n",
       "      <td>...</td>\n",
       "      <td>...</td>\n",
       "      <td>...</td>\n",
       "      <td>...</td>\n",
       "      <td>...</td>\n",
       "      <td>...</td>\n",
       "      <td>...</td>\n",
       "      <td>...</td>\n",
       "      <td>...</td>\n",
       "    </tr>\n",
       "    <tr>\n",
       "      <th>16995</th>\n",
       "      <td>-124.26</td>\n",
       "      <td>40.58</td>\n",
       "      <td>52.0</td>\n",
       "      <td>2217.0</td>\n",
       "      <td>394.0</td>\n",
       "      <td>907.0</td>\n",
       "      <td>369.0</td>\n",
       "      <td>2.3571</td>\n",
       "      <td>111400.0</td>\n",
       "    </tr>\n",
       "    <tr>\n",
       "      <th>16996</th>\n",
       "      <td>-124.27</td>\n",
       "      <td>40.69</td>\n",
       "      <td>36.0</td>\n",
       "      <td>2349.0</td>\n",
       "      <td>528.0</td>\n",
       "      <td>1194.0</td>\n",
       "      <td>465.0</td>\n",
       "      <td>2.5179</td>\n",
       "      <td>79000.0</td>\n",
       "    </tr>\n",
       "    <tr>\n",
       "      <th>16997</th>\n",
       "      <td>-124.30</td>\n",
       "      <td>41.84</td>\n",
       "      <td>17.0</td>\n",
       "      <td>2677.0</td>\n",
       "      <td>531.0</td>\n",
       "      <td>1244.0</td>\n",
       "      <td>456.0</td>\n",
       "      <td>3.0313</td>\n",
       "      <td>103600.0</td>\n",
       "    </tr>\n",
       "    <tr>\n",
       "      <th>16998</th>\n",
       "      <td>-124.30</td>\n",
       "      <td>41.80</td>\n",
       "      <td>19.0</td>\n",
       "      <td>2672.0</td>\n",
       "      <td>552.0</td>\n",
       "      <td>1298.0</td>\n",
       "      <td>478.0</td>\n",
       "      <td>1.9797</td>\n",
       "      <td>85800.0</td>\n",
       "    </tr>\n",
       "    <tr>\n",
       "      <th>16999</th>\n",
       "      <td>-124.35</td>\n",
       "      <td>40.54</td>\n",
       "      <td>52.0</td>\n",
       "      <td>1820.0</td>\n",
       "      <td>300.0</td>\n",
       "      <td>806.0</td>\n",
       "      <td>270.0</td>\n",
       "      <td>3.0147</td>\n",
       "      <td>94600.0</td>\n",
       "    </tr>\n",
       "  </tbody>\n",
       "</table>\n",
       "<p>17000 rows × 9 columns</p>\n",
       "</div>"
      ],
      "text/plain": [
       "       longitude  latitude  housing_median_age  total_rooms  total_bedrooms  \\\n",
       "0        -114.31     34.19                15.0       5612.0          1283.0   \n",
       "1        -114.47     34.40                19.0       7650.0          1901.0   \n",
       "2        -114.56     33.69                17.0        720.0           174.0   \n",
       "3        -114.57     33.64                14.0       1501.0           337.0   \n",
       "4        -114.57     33.57                20.0       1454.0           326.0   \n",
       "...          ...       ...                 ...          ...             ...   \n",
       "16995    -124.26     40.58                52.0       2217.0           394.0   \n",
       "16996    -124.27     40.69                36.0       2349.0           528.0   \n",
       "16997    -124.30     41.84                17.0       2677.0           531.0   \n",
       "16998    -124.30     41.80                19.0       2672.0           552.0   \n",
       "16999    -124.35     40.54                52.0       1820.0           300.0   \n",
       "\n",
       "       population  households  median_income  median_house_value  \n",
       "0          1015.0       472.0         1.4936             66900.0  \n",
       "1          1129.0       463.0         1.8200             80100.0  \n",
       "2           333.0       117.0         1.6509             85700.0  \n",
       "3           515.0       226.0         3.1917             73400.0  \n",
       "4           624.0       262.0         1.9250             65500.0  \n",
       "...           ...         ...            ...                 ...  \n",
       "16995       907.0       369.0         2.3571            111400.0  \n",
       "16996      1194.0       465.0         2.5179             79000.0  \n",
       "16997      1244.0       456.0         3.0313            103600.0  \n",
       "16998      1298.0       478.0         1.9797             85800.0  \n",
       "16999       806.0       270.0         3.0147             94600.0  \n",
       "\n",
       "[17000 rows x 9 columns]"
      ]
     },
     "execution_count": 106,
     "metadata": {},
     "output_type": "execute_result"
    }
   ],
   "source": [
    "df"
   ]
  },
  {
   "cell_type": "code",
   "execution_count": 107,
   "id": "55eb05c2-e414-46c4-8b35-cdaee176f504",
   "metadata": {},
   "outputs": [
    {
     "data": {
      "text/html": [
       "<div>\n",
       "<style scoped>\n",
       "    .dataframe tbody tr th:only-of-type {\n",
       "        vertical-align: middle;\n",
       "    }\n",
       "\n",
       "    .dataframe tbody tr th {\n",
       "        vertical-align: top;\n",
       "    }\n",
       "\n",
       "    .dataframe thead th {\n",
       "        text-align: right;\n",
       "    }\n",
       "</style>\n",
       "<table border=\"1\" class=\"dataframe\">\n",
       "  <thead>\n",
       "    <tr style=\"text-align: right;\">\n",
       "      <th></th>\n",
       "      <th>longitude</th>\n",
       "      <th>latitude</th>\n",
       "      <th>housing_median_age</th>\n",
       "      <th>total_rooms</th>\n",
       "      <th>total_bedrooms</th>\n",
       "      <th>population</th>\n",
       "      <th>households</th>\n",
       "      <th>median_income</th>\n",
       "      <th>median_house_value</th>\n",
       "    </tr>\n",
       "  </thead>\n",
       "  <tbody>\n",
       "    <tr>\n",
       "      <th>0</th>\n",
       "      <td>-114.31</td>\n",
       "      <td>34.19</td>\n",
       "      <td>15.0</td>\n",
       "      <td>5612.0</td>\n",
       "      <td>1283.0</td>\n",
       "      <td>1015.0</td>\n",
       "      <td>472.0</td>\n",
       "      <td>1.4936</td>\n",
       "      <td>66900.0</td>\n",
       "    </tr>\n",
       "    <tr>\n",
       "      <th>1</th>\n",
       "      <td>-114.47</td>\n",
       "      <td>34.40</td>\n",
       "      <td>19.0</td>\n",
       "      <td>7650.0</td>\n",
       "      <td>1901.0</td>\n",
       "      <td>1129.0</td>\n",
       "      <td>463.0</td>\n",
       "      <td>1.8200</td>\n",
       "      <td>80100.0</td>\n",
       "    </tr>\n",
       "    <tr>\n",
       "      <th>2</th>\n",
       "      <td>-114.56</td>\n",
       "      <td>33.69</td>\n",
       "      <td>17.0</td>\n",
       "      <td>720.0</td>\n",
       "      <td>174.0</td>\n",
       "      <td>333.0</td>\n",
       "      <td>117.0</td>\n",
       "      <td>1.6509</td>\n",
       "      <td>85700.0</td>\n",
       "    </tr>\n",
       "    <tr>\n",
       "      <th>3</th>\n",
       "      <td>-114.57</td>\n",
       "      <td>33.64</td>\n",
       "      <td>14.0</td>\n",
       "      <td>1501.0</td>\n",
       "      <td>337.0</td>\n",
       "      <td>515.0</td>\n",
       "      <td>226.0</td>\n",
       "      <td>3.1917</td>\n",
       "      <td>73400.0</td>\n",
       "    </tr>\n",
       "    <tr>\n",
       "      <th>4</th>\n",
       "      <td>-114.57</td>\n",
       "      <td>33.57</td>\n",
       "      <td>20.0</td>\n",
       "      <td>1454.0</td>\n",
       "      <td>326.0</td>\n",
       "      <td>624.0</td>\n",
       "      <td>262.0</td>\n",
       "      <td>1.9250</td>\n",
       "      <td>65500.0</td>\n",
       "    </tr>\n",
       "  </tbody>\n",
       "</table>\n",
       "</div>"
      ],
      "text/plain": [
       "   longitude  latitude  housing_median_age  total_rooms  total_bedrooms  \\\n",
       "0    -114.31     34.19                15.0       5612.0          1283.0   \n",
       "1    -114.47     34.40                19.0       7650.0          1901.0   \n",
       "2    -114.56     33.69                17.0        720.0           174.0   \n",
       "3    -114.57     33.64                14.0       1501.0           337.0   \n",
       "4    -114.57     33.57                20.0       1454.0           326.0   \n",
       "\n",
       "   population  households  median_income  median_house_value  \n",
       "0      1015.0       472.0         1.4936             66900.0  \n",
       "1      1129.0       463.0         1.8200             80100.0  \n",
       "2       333.0       117.0         1.6509             85700.0  \n",
       "3       515.0       226.0         3.1917             73400.0  \n",
       "4       624.0       262.0         1.9250             65500.0  "
      ]
     },
     "execution_count": 107,
     "metadata": {},
     "output_type": "execute_result"
    }
   ],
   "source": [
    "df.head()"
   ]
  },
  {
   "cell_type": "code",
   "execution_count": null,
   "id": "520920cd-2ab0-4596-a70e-12c82456bfad",
   "metadata": {},
   "outputs": [],
   "source": []
  }
 ],
 "metadata": {
  "kernelspec": {
   "display_name": "Python 3",
   "language": "python",
   "name": "python3"
  },
  "language_info": {
   "codemirror_mode": {
    "name": "ipython",
    "version": 3
   },
   "file_extension": ".py",
   "mimetype": "text/x-python",
   "name": "python",
   "nbconvert_exporter": "python",
   "pygments_lexer": "ipython3",
   "version": "3.9.4"
  }
 },
 "nbformat": 4,
 "nbformat_minor": 5
}
