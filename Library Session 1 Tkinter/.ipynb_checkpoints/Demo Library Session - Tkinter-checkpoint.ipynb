{
 "cells": [
  {
   "cell_type": "code",
   "execution_count": 32,
   "id": "93535204-e8e0-4c4c-911a-82351745629d",
   "metadata": {},
   "outputs": [],
   "source": [
    "import tkinter as tk"
   ]
  },
  {
   "cell_type": "code",
   "execution_count": 33,
   "id": "1f8952fb-fcd5-4687-9f57-07dea727d5ec",
   "metadata": {},
   "outputs": [],
   "source": [
    "root = tk.Tk()"
   ]
  },
  {
   "cell_type": "code",
   "execution_count": 34,
   "id": "8a6b608f-1640-4361-a01c-815ecd174cd9",
   "metadata": {},
   "outputs": [
    {
     "data": {
      "text/plain": [
       "''"
      ]
     },
     "execution_count": 34,
     "metadata": {},
     "output_type": "execute_result"
    }
   ],
   "source": [
    "root.title('Program kalkulator')"
   ]
  },
  {
   "cell_type": "markdown",
   "id": "0ab080f9-9cab-49c2-a917-742129eb3fd2",
   "metadata": {},
   "source": [
    "### untuk mendapatkan title dari window"
   ]
  },
  {
   "cell_type": "code",
   "execution_count": 35,
   "id": "c9b96e78-1709-4050-8c2c-11e44677a4a7",
   "metadata": {},
   "outputs": [],
   "source": [
    "title = root.title()"
   ]
  },
  {
   "cell_type": "code",
   "execution_count": 36,
   "id": "22323536-832d-438a-af54-2a2cd878c4b1",
   "metadata": {},
   "outputs": [
    {
     "data": {
      "text/plain": [
       "'Program kalkulator'"
      ]
     },
     "execution_count": 36,
     "metadata": {},
     "output_type": "execute_result"
    }
   ],
   "source": [
    "title"
   ]
  },
  {
   "cell_type": "code",
   "execution_count": null,
   "id": "98140c1a-78bf-4d62-9df0-125f523e9e9e",
   "metadata": {},
   "outputs": [],
   "source": [
    "root.mainloop()"
   ]
  },
  {
   "cell_type": "markdown",
   "id": "e71ab463-bced-4700-b089-2c74b9d16f66",
   "metadata": {},
   "source": [
    "### mengubah ukuran dan lokasi window"
   ]
  },
  {
   "cell_type": "code",
   "execution_count": 37,
   "id": "9f0db2cb-283e-49b8-ac03-ae08e50be485",
   "metadata": {},
   "outputs": [],
   "source": [
    "import tkinter as tk"
   ]
  },
  {
   "cell_type": "code",
   "execution_count": 38,
   "id": "76f974b3-e980-4aea-bd41-98e285badfad",
   "metadata": {},
   "outputs": [
    {
     "data": {
      "text/plain": [
       "''"
      ]
     },
     "execution_count": 38,
     "metadata": {},
     "output_type": "execute_result"
    }
   ],
   "source": [
    "root = tk.Tk()\n",
    "root.title('mengubah ukuran dan lokasi window')\n",
    "root.geometry('600x400+50+50')"
   ]
  },
  {
   "cell_type": "code",
   "execution_count": 39,
   "id": "a6db0d46-14fe-4b26-92d9-8013f00bcf9a",
   "metadata": {},
   "outputs": [],
   "source": [
    "root.mainloop()"
   ]
  },
  {
   "cell_type": "markdown",
   "id": "77b95191-e204-4ade-9845-d7548eb51207",
   "metadata": {},
   "source": [
    "### centering window"
   ]
  },
  {
   "cell_type": "code",
   "execution_count": null,
   "id": "7dfb37dd-9f8b-4173-91a4-5ff1627d0f76",
   "metadata": {},
   "outputs": [],
   "source": []
  }
 ],
 "metadata": {
  "kernelspec": {
   "display_name": "Python 3",
   "language": "python",
   "name": "python3"
  },
  "language_info": {
   "codemirror_mode": {
    "name": "ipython",
    "version": 3
   },
   "file_extension": ".py",
   "mimetype": "text/x-python",
   "name": "python",
   "nbconvert_exporter": "python",
   "pygments_lexer": "ipython3",
   "version": "3.9.4"
  }
 },
 "nbformat": 4,
 "nbformat_minor": 5
}
