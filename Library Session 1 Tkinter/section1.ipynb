{
 "cells": [
  {
   "cell_type": "markdown",
   "id": "3fee1084-3b03-425a-b767-78324407dfc9",
   "metadata": {},
   "source": [
    "# Creating a window"
   ]
  },
  {
   "cell_type": "code",
   "execution_count": null,
   "id": "99bff84e-9665-40a8-ae80-7563ee63e120",
   "metadata": {},
   "outputs": [],
   "source": [
    "import tkinter as tk\n",
    "\n",
    "root = tk.Tk()\n",
    "root.mainloop()"
   ]
  },
  {
   "cell_type": "markdown",
   "id": "cf9f871a-e325-4ed3-adf9-9c568a518929",
   "metadata": {},
   "source": [
    "# Displaying a label"
   ]
  },
  {
   "cell_type": "code",
   "execution_count": 11,
   "id": "f8fd8af3-ba86-4bdb-837f-26bdb6eadcd0",
   "metadata": {},
   "outputs": [],
   "source": [
    "import tkinter as tk\n",
    "\n",
    "\n",
    "root = tk.Tk()\n",
    "\n",
    "# place a label on the root window\n",
    "message = tk.Label(root, text=\"Hello, World!\")\n",
    "message.pack()\n",
    "\n",
    "# keep the window displaying\n",
    "root.mainloop()"
   ]
  },
  {
   "cell_type": "markdown",
   "id": "68a162a8-eb19-411c-81c7-2d3b95a98293",
   "metadata": {},
   "source": [
    "# Fixing the blur UI on Windows"
   ]
  },
  {
   "cell_type": "code",
   "execution_count": 12,
   "id": "90992555-4bc9-4053-90fa-386565fef3ea",
   "metadata": {},
   "outputs": [],
   "source": [
    "import tkinter as tk\n",
    "from ctypes import windll\n",
    "\n",
    "\n",
    "root = tk.Tk()\n",
    "\n",
    "# place a label on the root window\n",
    "message = tk.Label(root, text=\"Hello, World!\")\n",
    "message.pack()\n",
    "\n",
    "# keep the window displaying\n",
    "try:\n",
    "    from ctypes import windll\n",
    "\n",
    "    windll.shcore.SetProcessDpiAwareness(1)\n",
    "finally:\n",
    "    root.mainloop()"
   ]
  },
  {
   "cell_type": "code",
   "execution_count": null,
   "id": "651ba662-58d6-425e-867d-13c4ab82bcc2",
   "metadata": {},
   "outputs": [],
   "source": []
  }
 ],
 "metadata": {
  "kernelspec": {
   "display_name": "Python 3",
   "language": "python",
   "name": "python3"
  },
  "language_info": {
   "codemirror_mode": {
    "name": "ipython",
    "version": 3
   },
   "file_extension": ".py",
   "mimetype": "text/x-python",
   "name": "python",
   "nbconvert_exporter": "python",
   "pygments_lexer": "ipython3",
   "version": "3.9.4"
  }
 },
 "nbformat": 4,
 "nbformat_minor": 5
}
