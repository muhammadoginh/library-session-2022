{
 "cells": [
  {
   "cell_type": "code",
   "execution_count": 32,
   "id": "93535204-e8e0-4c4c-911a-82351745629d",
   "metadata": {},
   "outputs": [],
   "source": [
    "import tkinter as tk"
   ]
  },
  {
   "cell_type": "code",
   "execution_count": 33,
   "id": "1f8952fb-fcd5-4687-9f57-07dea727d5ec",
   "metadata": {},
   "outputs": [],
   "source": [
    "root = tk.Tk()"
   ]
  },
  {
   "cell_type": "code",
   "execution_count": 34,
   "id": "8a6b608f-1640-4361-a01c-815ecd174cd9",
   "metadata": {},
   "outputs": [
    {
     "data": {
      "text/plain": [
       "''"
      ]
     },
     "execution_count": 34,
     "metadata": {},
     "output_type": "execute_result"
    }
   ],
   "source": [
    "root.title('Program kalkulator')"
   ]
  },
  {
   "cell_type": "markdown",
   "id": "0ab080f9-9cab-49c2-a917-742129eb3fd2",
   "metadata": {},
   "source": [
    "### untuk mendapatkan title dari window"
   ]
  },
  {
   "cell_type": "code",
   "execution_count": 35,
   "id": "c9b96e78-1709-4050-8c2c-11e44677a4a7",
   "metadata": {},
   "outputs": [],
   "source": [
    "title = root.title()"
   ]
  },
  {
   "cell_type": "code",
   "execution_count": 36,
   "id": "22323536-832d-438a-af54-2a2cd878c4b1",
   "metadata": {},
   "outputs": [
    {
     "data": {
      "text/plain": [
       "'Program kalkulator'"
      ]
     },
     "execution_count": 36,
     "metadata": {},
     "output_type": "execute_result"
    }
   ],
   "source": [
    "title"
   ]
  },
  {
   "cell_type": "code",
   "execution_count": null,
   "id": "98140c1a-78bf-4d62-9df0-125f523e9e9e",
   "metadata": {},
   "outputs": [],
   "source": [
    "root.mainloop()"
   ]
  },
  {
   "cell_type": "markdown",
   "id": "e71ab463-bced-4700-b089-2c74b9d16f66",
   "metadata": {},
   "source": [
    "### mengubah ukuran dan lokasi window"
   ]
  },
  {
   "cell_type": "code",
   "execution_count": 37,
   "id": "9f0db2cb-283e-49b8-ac03-ae08e50be485",
   "metadata": {},
   "outputs": [],
   "source": [
    "import tkinter as tk"
   ]
  },
  {
   "cell_type": "code",
   "execution_count": 38,
   "id": "76f974b3-e980-4aea-bd41-98e285badfad",
   "metadata": {},
   "outputs": [
    {
     "data": {
      "text/plain": [
       "''"
      ]
     },
     "execution_count": 38,
     "metadata": {},
     "output_type": "execute_result"
    }
   ],
   "source": [
    "root = tk.Tk()\n",
    "root.title('mengubah ukuran dan lokasi window')\n",
    "root.geometry('600x400+50+50')"
   ]
  },
  {
   "cell_type": "code",
   "execution_count": 39,
   "id": "a6db0d46-14fe-4b26-92d9-8013f00bcf9a",
   "metadata": {},
   "outputs": [],
   "source": [
    "root.mainloop()"
   ]
  },
  {
   "cell_type": "markdown",
   "id": "77b95191-e204-4ade-9845-d7548eb51207",
   "metadata": {},
   "source": [
    "### centering window"
   ]
  },
  {
   "cell_type": "code",
   "execution_count": 1,
   "id": "7dfb37dd-9f8b-4173-91a4-5ff1627d0f76",
   "metadata": {},
   "outputs": [],
   "source": [
    "import tkinter as tk"
   ]
  },
  {
   "cell_type": "code",
   "execution_count": 2,
   "id": "37204e16-2f6b-4ea5-a540-9db7edb121f5",
   "metadata": {},
   "outputs": [],
   "source": [
    "root = tk.Tk()"
   ]
  },
  {
   "cell_type": "code",
   "execution_count": 3,
   "id": "76f8da13-ceaf-4f17-a6dc-79bffef1fcb3",
   "metadata": {},
   "outputs": [
    {
     "data": {
      "text/plain": [
       "''"
      ]
     },
     "execution_count": 3,
     "metadata": {},
     "output_type": "execute_result"
    }
   ],
   "source": [
    "root.title('Tkinter window - center')"
   ]
  },
  {
   "cell_type": "code",
   "execution_count": 4,
   "id": "2e80135d-19e1-4882-b0df-cece29b3c386",
   "metadata": {},
   "outputs": [],
   "source": [
    "window_width = 300\n",
    "window_height = 200"
   ]
  },
  {
   "cell_type": "code",
   "execution_count": 5,
   "id": "59409c07-85e6-462e-86e7-8c974631bce9",
   "metadata": {},
   "outputs": [],
   "source": [
    "screen_width = root.winfo_screenwidth()\n",
    "screen_height = root.winfo_screenheight()"
   ]
  },
  {
   "cell_type": "code",
   "execution_count": 7,
   "id": "1a98e809-fa4b-4b50-a15c-631daef134db",
   "metadata": {},
   "outputs": [
    {
     "data": {
      "text/plain": [
       "1536"
      ]
     },
     "execution_count": 7,
     "metadata": {},
     "output_type": "execute_result"
    }
   ],
   "source": [
    "screen_width"
   ]
  },
  {
   "cell_type": "code",
   "execution_count": 8,
   "id": "bd7c5551-4ef3-42a4-a07f-6e478807e27b",
   "metadata": {},
   "outputs": [
    {
     "data": {
      "text/plain": [
       "864"
      ]
     },
     "execution_count": 8,
     "metadata": {},
     "output_type": "execute_result"
    }
   ],
   "source": [
    "screen_height"
   ]
  },
  {
   "cell_type": "code",
   "execution_count": 9,
   "id": "b62e536c-eb68-4bdf-aec8-21bc702d318d",
   "metadata": {},
   "outputs": [],
   "source": [
    "center_x = int(screen_width/2 - window_width/2)"
   ]
  },
  {
   "cell_type": "code",
   "execution_count": 10,
   "id": "1718eaa1-f696-4d6c-aa36-d3a7f283463a",
   "metadata": {},
   "outputs": [],
   "source": [
    "center_y = int(screen_height/2 - window_height/2)"
   ]
  },
  {
   "cell_type": "code",
   "execution_count": 11,
   "id": "45ec1036-19b7-4c4d-964a-d21a02a26e30",
   "metadata": {},
   "outputs": [
    {
     "data": {
      "text/plain": [
       "''"
      ]
     },
     "execution_count": 11,
     "metadata": {},
     "output_type": "execute_result"
    }
   ],
   "source": [
    "root.geometry(f'{window_width}x{window_height}+{center_x}+{center_y}')"
   ]
  },
  {
   "cell_type": "code",
   "execution_count": 12,
   "id": "2a67b775-9ddf-4803-a6b7-64f7cf6d79bf",
   "metadata": {},
   "outputs": [],
   "source": [
    "root.mainloop()"
   ]
  },
  {
   "cell_type": "markdown",
   "id": "56e6c68f-e5c0-449f-8209-a21c55acf52b",
   "metadata": {},
   "source": [
    "### resizing behavour fix size"
   ]
  },
  {
   "cell_type": "code",
   "execution_count": 1,
   "id": "2410df06-e1cd-424d-a2fa-0077a833a27f",
   "metadata": {},
   "outputs": [],
   "source": [
    "import tkinter as tk"
   ]
  },
  {
   "cell_type": "code",
   "execution_count": 2,
   "id": "b7e9f654-91fd-4fd8-892d-074a39bdfdc7",
   "metadata": {},
   "outputs": [],
   "source": [
    "root = tk.Tk()"
   ]
  },
  {
   "cell_type": "code",
   "execution_count": 3,
   "id": "ebbcf5a6-9399-4613-bf5d-f4c70e879090",
   "metadata": {},
   "outputs": [
    {
     "data": {
      "text/plain": [
       "''"
      ]
     },
     "execution_count": 3,
     "metadata": {},
     "output_type": "execute_result"
    }
   ],
   "source": [
    "root.title('tkinter window demo')"
   ]
  },
  {
   "cell_type": "code",
   "execution_count": 4,
   "id": "ed61d35e-b9aa-43a3-90f1-ca8899165ffd",
   "metadata": {},
   "outputs": [
    {
     "data": {
      "text/plain": [
       "''"
      ]
     },
     "execution_count": 4,
     "metadata": {},
     "output_type": "execute_result"
    }
   ],
   "source": [
    "root.geometry('600x400+50+50')"
   ]
  },
  {
   "cell_type": "code",
   "execution_count": 5,
   "id": "48b78b60-25e4-44e7-a454-2dded0298ba5",
   "metadata": {},
   "outputs": [
    {
     "data": {
      "text/plain": [
       "''"
      ]
     },
     "execution_count": 5,
     "metadata": {},
     "output_type": "execute_result"
    }
   ],
   "source": [
    "root.resizable(False, False)"
   ]
  },
  {
   "cell_type": "code",
   "execution_count": 6,
   "id": "50679689-31a5-4553-b12f-c88c65bc3a2e",
   "metadata": {},
   "outputs": [],
   "source": [
    "root.mainloop()"
   ]
  },
  {
   "cell_type": "markdown",
   "id": "b7736c2f-c41f-4290-80b3-bc6e176b034e",
   "metadata": {},
   "source": [
    "### min max window size"
   ]
  },
  {
   "cell_type": "code",
   "execution_count": 1,
   "id": "721b5684-26a0-41aa-8191-0c943902a58c",
   "metadata": {},
   "outputs": [
    {
     "data": {
      "text/plain": [
       "''"
      ]
     },
     "execution_count": 1,
     "metadata": {},
     "output_type": "execute_result"
    }
   ],
   "source": [
    "import tkinter as tk\n",
    "root = tk.Tk()\n",
    "root.title('tkinter window demo')\n",
    "root.geometry('600x400+50+50')"
   ]
  },
  {
   "cell_type": "code",
   "execution_count": 3,
   "id": "6ce10fd0-4942-4ceb-a755-506cc4bb6209",
   "metadata": {},
   "outputs": [],
   "source": [
    "root.minsize(300, 200)\n",
    "root.maxsize(900, 600)"
   ]
  },
  {
   "cell_type": "code",
   "execution_count": 4,
   "id": "4bfac54e-db48-4f9e-843a-e6b06dd3b9d7",
   "metadata": {},
   "outputs": [],
   "source": [
    "root.mainloop()"
   ]
  },
  {
   "cell_type": "markdown",
   "id": "ad87b450-eea2-4417-b9b6-8afca2640b23",
   "metadata": {},
   "source": [
    "### transparancy"
   ]
  },
  {
   "cell_type": "code",
   "execution_count": 11,
   "id": "b2d1fb28-ad52-47e2-b15c-23f63cf6ca04",
   "metadata": {},
   "outputs": [
    {
     "data": {
      "text/plain": [
       "''"
      ]
     },
     "execution_count": 11,
     "metadata": {},
     "output_type": "execute_result"
    }
   ],
   "source": [
    "import tkinter as tk\n",
    "root = tk.Tk()\n",
    "root.title('tkinter window demo')\n",
    "root.geometry('600x400+50+50')\n",
    "root.resizable(False, False)"
   ]
  },
  {
   "cell_type": "code",
   "execution_count": 12,
   "id": "75826cad-93d2-4b3d-8985-0d23298735c9",
   "metadata": {},
   "outputs": [
    {
     "data": {
      "text/plain": [
       "''"
      ]
     },
     "execution_count": 12,
     "metadata": {},
     "output_type": "execute_result"
    }
   ],
   "source": [
    "root.attributes('-alpha', 0.5)"
   ]
  },
  {
   "cell_type": "code",
   "execution_count": 13,
   "id": "8c7d1393-2dd6-481a-94d1-dd5f643fbc2a",
   "metadata": {},
   "outputs": [
    {
     "ename": "KeyboardInterrupt",
     "evalue": "",
     "output_type": "error",
     "traceback": [
      "\u001b[1;31m---------------------------------------------------------------------------\u001b[0m",
      "\u001b[1;31mKeyboardInterrupt\u001b[0m                         Traceback (most recent call last)",
      "\u001b[1;32m<ipython-input-13-328b6b20a474>\u001b[0m in \u001b[0;36m<module>\u001b[1;34m\u001b[0m\n\u001b[1;32m----> 1\u001b[1;33m \u001b[0mroot\u001b[0m\u001b[1;33m.\u001b[0m\u001b[0mmainloop\u001b[0m\u001b[1;33m(\u001b[0m\u001b[1;33m)\u001b[0m\u001b[1;33m\u001b[0m\u001b[1;33m\u001b[0m\u001b[0m\n\u001b[0m",
      "\u001b[1;32mc:\\users\\muhammadoginh\\appdata\\local\\programs\\python\\python39\\lib\\tkinter\\__init__.py\u001b[0m in \u001b[0;36mmainloop\u001b[1;34m(self, n)\u001b[0m\n\u001b[0;32m   1427\u001b[0m     \u001b[1;32mdef\u001b[0m \u001b[0mmainloop\u001b[0m\u001b[1;33m(\u001b[0m\u001b[0mself\u001b[0m\u001b[1;33m,\u001b[0m \u001b[0mn\u001b[0m\u001b[1;33m=\u001b[0m\u001b[1;36m0\u001b[0m\u001b[1;33m)\u001b[0m\u001b[1;33m:\u001b[0m\u001b[1;33m\u001b[0m\u001b[1;33m\u001b[0m\u001b[0m\n\u001b[0;32m   1428\u001b[0m         \u001b[1;34m\"\"\"Call the mainloop of Tk.\"\"\"\u001b[0m\u001b[1;33m\u001b[0m\u001b[1;33m\u001b[0m\u001b[0m\n\u001b[1;32m-> 1429\u001b[1;33m         \u001b[0mself\u001b[0m\u001b[1;33m.\u001b[0m\u001b[0mtk\u001b[0m\u001b[1;33m.\u001b[0m\u001b[0mmainloop\u001b[0m\u001b[1;33m(\u001b[0m\u001b[0mn\u001b[0m\u001b[1;33m)\u001b[0m\u001b[1;33m\u001b[0m\u001b[1;33m\u001b[0m\u001b[0m\n\u001b[0m\u001b[0;32m   1430\u001b[0m \u001b[1;33m\u001b[0m\u001b[0m\n\u001b[0;32m   1431\u001b[0m     \u001b[1;32mdef\u001b[0m \u001b[0mquit\u001b[0m\u001b[1;33m(\u001b[0m\u001b[0mself\u001b[0m\u001b[1;33m)\u001b[0m\u001b[1;33m:\u001b[0m\u001b[1;33m\u001b[0m\u001b[1;33m\u001b[0m\u001b[0m\n",
      "\u001b[1;31mKeyboardInterrupt\u001b[0m: "
     ]
    }
   ],
   "source": [
    "root.mainloop()"
   ]
  },
  {
   "cell_type": "markdown",
   "id": "a24734a7-1834-4eae-abf9-35ce33e9e322",
   "metadata": {},
   "source": [
    "### mengubah icon default"
   ]
  },
  {
   "cell_type": "code",
   "execution_count": 1,
   "id": "8e7f7b76-23fb-4d76-bc3c-eeffb460941a",
   "metadata": {},
   "outputs": [
    {
     "data": {
      "text/plain": [
       "''"
      ]
     },
     "execution_count": 1,
     "metadata": {},
     "output_type": "execute_result"
    }
   ],
   "source": [
    "import tkinter as tk\n",
    "root = tk.Tk()\n",
    "root.title('tkinter window demo')\n",
    "root.geometry('600x400+50+50')\n",
    "root.resizable(False, False)"
   ]
  },
  {
   "cell_type": "code",
   "execution_count": 2,
   "id": "be8b5e40-6dc3-4255-bf99-570d85de9258",
   "metadata": {},
   "outputs": [],
   "source": [
    "root.iconbitmap('./assets/pythontutorial.ico')\n",
    "root.mainloop()"
   ]
  },
  {
   "cell_type": "markdown",
   "id": "6ffaa208-5b5c-4ddd-9e38-92b46baf540f",
   "metadata": {},
   "source": [
    "### tk vs ttk"
   ]
  },
  {
   "cell_type": "code",
   "execution_count": 7,
   "id": "a9d3aade-0bb6-4b4a-a2d1-6737a7348be0",
   "metadata": {},
   "outputs": [],
   "source": [
    "import tkinter as tk\n",
    "from tkinter import ttk"
   ]
  },
  {
   "cell_type": "code",
   "execution_count": 8,
   "id": "249b37ea-e655-4af2-98cc-b775ece2ec8f",
   "metadata": {},
   "outputs": [],
   "source": [
    "root = tk.Tk()"
   ]
  },
  {
   "cell_type": "code",
   "execution_count": 9,
   "id": "b2219063-f998-4fe2-bb30-46d7b9167026",
   "metadata": {},
   "outputs": [],
   "source": [
    "ttk.Label(root, text='Themed').pack()\n",
    "tk.Label(root, text='classic').pack()"
   ]
  },
  {
   "cell_type": "code",
   "execution_count": 10,
   "id": "8984373e-e842-40bb-acad-1f4fb5c7e8cb",
   "metadata": {},
   "outputs": [],
   "source": [
    "root.mainloop()"
   ]
  },
  {
   "cell_type": "markdown",
   "id": "707883f5-ff85-4f11-a6cf-075f5349025d",
   "metadata": {},
   "source": [
    "### simple button example"
   ]
  },
  {
   "cell_type": "code",
   "execution_count": 1,
   "id": "19e5057a-7ae7-4ad1-b2e2-bbc76edd0330",
   "metadata": {},
   "outputs": [],
   "source": [
    "import tkinter as tk\n",
    "from tkinter import ttk"
   ]
  },
  {
   "cell_type": "code",
   "execution_count": 2,
   "id": "6906b255-163a-4c52-bf7e-94c297c99ff6",
   "metadata": {},
   "outputs": [
    {
     "data": {
      "text/plain": [
       "''"
      ]
     },
     "execution_count": 2,
     "metadata": {},
     "output_type": "execute_result"
    }
   ],
   "source": [
    "import tkinter as tk\n",
    "root = tk.Tk()\n",
    "root.title('tkinter button demo')\n",
    "root.geometry('600x400+50+50')\n",
    "root.resizable(False, False)"
   ]
  },
  {
   "cell_type": "code",
   "execution_count": 3,
   "id": "1013c04f-809f-4682-b3a5-5facf1739b93",
   "metadata": {},
   "outputs": [],
   "source": [
    "def quit():\n",
    "    root.quit()"
   ]
  },
  {
   "cell_type": "code",
   "execution_count": 4,
   "id": "7893a192-075f-4a9d-9077-c228d74f2428",
   "metadata": {},
   "outputs": [],
   "source": [
    "exit_button = ttk.Button(\n",
    "    root, \n",
    "    text='Exit', \n",
    "    command=quit\n",
    ")"
   ]
  },
  {
   "cell_type": "code",
   "execution_count": 5,
   "id": "dad96b82-a708-4864-8f12-07dccf586d65",
   "metadata": {},
   "outputs": [],
   "source": [
    "exit_button.pack(ipadx=5, ipady=5, expand=True)"
   ]
  },
  {
   "cell_type": "code",
   "execution_count": 6,
   "id": "7a87a777-2867-4dc0-b448-c75ea02cb7b4",
   "metadata": {},
   "outputs": [],
   "source": [
    "root.mainloop()"
   ]
  },
  {
   "cell_type": "markdown",
   "id": "52e544db-0c15-4d3b-b590-56f51912b73f",
   "metadata": {},
   "source": [
    "### image button"
   ]
  },
  {
   "cell_type": "code",
   "execution_count": 6,
   "id": "15fe1523-eeff-4080-85f4-6d04c8700b03",
   "metadata": {},
   "outputs": [],
   "source": [
    "import tkinter as tk\n",
    "from tkinter import ttk\n",
    "from tkinter.messagebox import showinfo"
   ]
  },
  {
   "cell_type": "code",
   "execution_count": 7,
   "id": "378ec6a6-0d20-4095-8b86-f2daf1867f29",
   "metadata": {},
   "outputs": [
    {
     "data": {
      "text/plain": [
       "''"
      ]
     },
     "execution_count": 7,
     "metadata": {},
     "output_type": "execute_result"
    }
   ],
   "source": [
    "root = tk.Tk()\n",
    "root.title('tkinter image button demo')\n",
    "root.geometry('600x400+50+50')\n",
    "root.resizable(False, False)"
   ]
  },
  {
   "cell_type": "code",
   "execution_count": 8,
   "id": "90becade-c08c-44a0-9a99-20bbbd47dead",
   "metadata": {},
   "outputs": [],
   "source": [
    "def download_clicked():\n",
    "    showinfo(title='information', message='button clicked')"
   ]
  },
  {
   "cell_type": "code",
   "execution_count": 9,
   "id": "0735a5c6-3e58-4145-b20e-a3886ac829e8",
   "metadata": {},
   "outputs": [],
   "source": [
    "download_icon = tk.PhotoImage(file='./assets/download.png')"
   ]
  },
  {
   "cell_type": "code",
   "execution_count": 10,
   "id": "d8792c0b-cee3-4c5f-a82c-7632128926b9",
   "metadata": {},
   "outputs": [],
   "source": [
    "download_button = ttk.Button(root, image=download_icon, text='Download', compound=tk.LEFT, command=download_clicked)\n",
    "download_button.pack(ipadx=5, ipady=5, expand=True)\n",
    "root.mainloop()"
   ]
  },
  {
   "cell_type": "markdown",
   "id": "ce8f405f-c680-43e5-9413-502fb503b235",
   "metadata": {},
   "source": [
    "### temperature converter apps"
   ]
  },
  {
   "cell_type": "code",
   "execution_count": 12,
   "id": "bd93cf75-6e53-43de-856e-569fb40e0cb0",
   "metadata": {},
   "outputs": [],
   "source": [
    "import tkinter as tk\n",
    "from tkinter import ttk\n",
    "from tkinter.messagebox import showerror"
   ]
  },
  {
   "cell_type": "code",
   "execution_count": 13,
   "id": "f92c4ec5-e481-4d21-98d9-e5f715599f47",
   "metadata": {},
   "outputs": [
    {
     "data": {
      "text/plain": [
       "''"
      ]
     },
     "execution_count": 13,
     "metadata": {},
     "output_type": "execute_result"
    }
   ],
   "source": [
    "root = tk.Tk()\n",
    "root.title('Temperature converter')\n",
    "root.geometry('600x400+50+50')\n",
    "root.resizable(False, False)"
   ]
  },
  {
   "cell_type": "code",
   "execution_count": 15,
   "id": "04a73365-49ad-4e31-996b-aee901d6985f",
   "metadata": {},
   "outputs": [],
   "source": [
    "def fahrenheit_to_celcius(f):\n",
    "    return (f-32)* 5/9"
   ]
  },
  {
   "cell_type": "code",
   "execution_count": 16,
   "id": "67fc6595-7690-4fbf-8d86-28779e1f2da5",
   "metadata": {},
   "outputs": [],
   "source": [
    "frame = ttk.Frame(root)"
   ]
  },
  {
   "cell_type": "code",
   "execution_count": 17,
   "id": "b02afadd-c5bd-4de2-b4ad-3c9e09a94e84",
   "metadata": {},
   "outputs": [],
   "source": [
    "options = {'padx': 5, 'pady': 5}"
   ]
  },
  {
   "cell_type": "code",
   "execution_count": 18,
   "id": "2ce7bc43-0298-4d34-a914-ccb481e30a97",
   "metadata": {},
   "outputs": [],
   "source": [
    "temperature_label = ttk.Label(frame, text='Fahrenheit')\n",
    "temperature_label.grid(column=0, row=0, sticky='W')"
   ]
  },
  {
   "cell_type": "code",
   "execution_count": 19,
   "id": "88fb30c2-c4e4-4d28-a0cc-e1eac446d5c6",
   "metadata": {},
   "outputs": [],
   "source": [
    "temperature = tk.StringVar()\n",
    "temperature_entry = ttk.Entry(frame, textvariable=temperature)\n",
    "temperature_entry.grid(column=1, row=0)\n",
    "temperature_entry.focus()"
   ]
  },
  {
   "cell_type": "code",
   "execution_count": 20,
   "id": "96cb2737-dcb2-4456-b6f8-193b52fe67f3",
   "metadata": {},
   "outputs": [],
   "source": [
    "def convert_button():\n",
    "    try:\n",
    "        f = float(temperature.get())\n",
    "        c = fahrenheit_to_celcius(f)\n",
    "        result = f'{f} fahrenheit = {c:.0f} celcius'\n",
    "        result_label.config(text=result)\n",
    "    except ValueError as error:\n",
    "        showerror(title='Error', message=error)"
   ]
  },
  {
   "cell_type": "code",
   "execution_count": 21,
   "id": "366d7cb6-d25b-4e30-9187-15d39ae40bc8",
   "metadata": {},
   "outputs": [],
   "source": [
    "convert_button = ttk.Button(frame, text='convert')\n",
    "convert_button.grid(column=2, row=0, sticky='W')\n",
    "convert_button.configure(command=convert_button)"
   ]
  },
  {
   "cell_type": "code",
   "execution_count": 25,
   "id": "308f83f3-8c6d-4e5b-9398-24fc02e0974f",
   "metadata": {},
   "outputs": [],
   "source": [
    "result_label = ttk.Label(frame)\n",
    "result_label.grid(row=1, columnspan=3)"
   ]
  },
  {
   "cell_type": "code",
   "execution_count": 26,
   "id": "831a0ca7-f989-4510-90f8-938d4039bbc5",
   "metadata": {},
   "outputs": [],
   "source": [
    "frame.grid(padx=10, pady=10)\n",
    "\n",
    "root.mainloop()"
   ]
  },
  {
   "cell_type": "code",
   "execution_count": null,
   "id": "2376cf09-0bc5-482c-aef9-2a9f3f73de79",
   "metadata": {},
   "outputs": [],
   "source": []
  }
 ],
 "metadata": {
  "kernelspec": {
   "display_name": "Python 3",
   "language": "python",
   "name": "python3"
  },
  "language_info": {
   "codemirror_mode": {
    "name": "ipython",
    "version": 3
   },
   "file_extension": ".py",
   "mimetype": "text/x-python",
   "name": "python",
   "nbconvert_exporter": "python",
   "pygments_lexer": "ipython3",
   "version": "3.9.4"
  }
 },
 "nbformat": 4,
 "nbformat_minor": 5
}
