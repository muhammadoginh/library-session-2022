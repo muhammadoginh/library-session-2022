{
 "cells": [
  {
   "cell_type": "code",
   "execution_count": 58,
   "id": "b6bc2f36-b73c-408d-bfc6-5626dd0fcc26",
   "metadata": {},
   "outputs": [],
   "source": [
    "nama = \"Muhammad Ogin Hasanuddin\""
   ]
  },
  {
   "cell_type": "code",
   "execution_count": 59,
   "id": "e6471490-68a6-4301-b673-6c42f9e4194a",
   "metadata": {},
   "outputs": [
    {
     "data": {
      "text/plain": [
       "str"
      ]
     },
     "execution_count": 59,
     "metadata": {},
     "output_type": "execute_result"
    }
   ],
   "source": [
    "type(nama)"
   ]
  },
  {
   "cell_type": "code",
   "execution_count": 4,
   "id": "a6fbe096-d4c8-415d-b615-6f1b58de629f",
   "metadata": {},
   "outputs": [],
   "source": [
    "umur = str()"
   ]
  },
  {
   "cell_type": "code",
   "execution_count": 5,
   "id": "a3069b1d-bbc7-407d-9c9a-a3b053f61231",
   "metadata": {},
   "outputs": [
    {
     "data": {
      "text/plain": [
       "str"
      ]
     },
     "execution_count": 5,
     "metadata": {},
     "output_type": "execute_result"
    }
   ],
   "source": [
    "type(umur)"
   ]
  },
  {
   "cell_type": "code",
   "execution_count": 60,
   "id": "11808344-3cd1-43ba-bd21-70f16ee9b80d",
   "metadata": {},
   "outputs": [],
   "source": [
    "class Person:\n",
    "    # mengisi disini\n",
    "    pass"
   ]
  },
  {
   "cell_type": "code",
   "execution_count": 61,
   "id": "eab7c199-46aa-41df-98bb-e7e2c141dba9",
   "metadata": {},
   "outputs": [],
   "source": [
    "person1 = Person()"
   ]
  },
  {
   "cell_type": "code",
   "execution_count": 62,
   "id": "79d8caf6-a05e-40b6-8056-34fa18b29601",
   "metadata": {},
   "outputs": [],
   "source": [
    "person1.name = 'Jhon'"
   ]
  },
  {
   "cell_type": "code",
   "execution_count": 63,
   "id": "249ce7ae-5f60-4ee6-b36c-6994ecb76be0",
   "metadata": {},
   "outputs": [
    {
     "name": "stdout",
     "output_type": "stream",
     "text": [
      "Jhon\n"
     ]
    }
   ],
   "source": [
    "print(person1.name)"
   ]
  },
  {
   "cell_type": "code",
   "execution_count": 64,
   "id": "e6332116-f3b9-4f63-8276-f37614e175a2",
   "metadata": {},
   "outputs": [],
   "source": [
    "person2 = Person()"
   ]
  },
  {
   "cell_type": "code",
   "execution_count": 65,
   "id": "2cd05264-8e3c-47e8-9c12-468aa0747cca",
   "metadata": {},
   "outputs": [
    {
     "ename": "AttributeError",
     "evalue": "'Person' object has no attribute 'name'",
     "output_type": "error",
     "traceback": [
      "\u001b[1;31m---------------------------------------------------------------------------\u001b[0m",
      "\u001b[1;31mAttributeError\u001b[0m                            Traceback (most recent call last)",
      "\u001b[1;32m<ipython-input-65-7843711f2edd>\u001b[0m in \u001b[0;36m<module>\u001b[1;34m\u001b[0m\n\u001b[1;32m----> 1\u001b[1;33m \u001b[0mprint\u001b[0m\u001b[1;33m(\u001b[0m\u001b[0mperson2\u001b[0m\u001b[1;33m.\u001b[0m\u001b[0mname\u001b[0m\u001b[1;33m)\u001b[0m\u001b[1;33m\u001b[0m\u001b[1;33m\u001b[0m\u001b[0m\n\u001b[0m",
      "\u001b[1;31mAttributeError\u001b[0m: 'Person' object has no attribute 'name'"
     ]
    }
   ],
   "source": [
    "print(person2.name)"
   ]
  },
  {
   "cell_type": "code",
   "execution_count": 12,
   "id": "cae4a1a9-d1e4-4192-bf80-47066ba82e76",
   "metadata": {},
   "outputs": [],
   "source": [
    "class Person: \n",
    "    def __init__(self, name, age):\n",
    "        self.name = name\n",
    "        self.age = age"
   ]
  },
  {
   "cell_type": "code",
   "execution_count": 13,
   "id": "a2172340-f8ff-49a6-9102-c17fe1f1c16b",
   "metadata": {},
   "outputs": [],
   "source": [
    "person = Person('Jhon', 25)"
   ]
  },
  {
   "cell_type": "code",
   "execution_count": 14,
   "id": "e44373bf-eae7-4e3e-9b80-a189ecc9f38b",
   "metadata": {},
   "outputs": [
    {
     "name": "stdout",
     "output_type": "stream",
     "text": [
      "Jhon\n"
     ]
    }
   ],
   "source": [
    "print(person.name)"
   ]
  },
  {
   "cell_type": "code",
   "execution_count": 15,
   "id": "b9456e4f-38c7-4c9a-a1f6-8e298596cea5",
   "metadata": {},
   "outputs": [
    {
     "name": "stdout",
     "output_type": "stream",
     "text": [
      "25\n"
     ]
    }
   ],
   "source": [
    "print(person.age)"
   ]
  },
  {
   "cell_type": "code",
   "execution_count": 16,
   "id": "1efe2aff-3949-4222-9880-f2958bdb909e",
   "metadata": {},
   "outputs": [],
   "source": [
    "class Person: \n",
    "    def __init__(self, name, age):\n",
    "        self.name = name\n",
    "        self.age = age\n",
    "        \n",
    "    def greet(self):\n",
    "        return f\"Hi, it's {self.name}.\""
   ]
  },
  {
   "cell_type": "code",
   "execution_count": 17,
   "id": "60843d41-aca1-4d13-8d9a-5cbc13e38827",
   "metadata": {},
   "outputs": [],
   "source": [
    "person = Person('Jhon', 25)"
   ]
  },
  {
   "cell_type": "code",
   "execution_count": 18,
   "id": "709f27c2-bcd2-48f3-a16d-566a31ba7714",
   "metadata": {},
   "outputs": [
    {
     "name": "stdout",
     "output_type": "stream",
     "text": [
      "Hi, it's Jhon.\n"
     ]
    }
   ],
   "source": [
    "print(person.greet())"
   ]
  },
  {
   "cell_type": "code",
   "execution_count": 19,
   "id": "a8d1aa95-a387-4019-9f45-ee53fc495fd1",
   "metadata": {},
   "outputs": [],
   "source": [
    "greet = person.greet()"
   ]
  },
  {
   "cell_type": "code",
   "execution_count": 20,
   "id": "a10747c0-0dad-42df-a49a-97fb8f020434",
   "metadata": {},
   "outputs": [
    {
     "name": "stdout",
     "output_type": "stream",
     "text": [
      "Hi, it's Jhon.\n"
     ]
    }
   ],
   "source": [
    "print(greet)"
   ]
  },
  {
   "cell_type": "code",
   "execution_count": 21,
   "id": "5dd2dd40-a21a-412a-b831-e542fdf5b088",
   "metadata": {},
   "outputs": [],
   "source": [
    "class Person: \n",
    "    counter = 0\n",
    "    \n",
    "    def __init__(self, name, age):\n",
    "        self.name = name\n",
    "        self.age = age\n",
    "        \n",
    "    def greet(self):\n",
    "        return f\"Hi, it's {self.name}.\""
   ]
  },
  {
   "cell_type": "code",
   "execution_count": 22,
   "id": "6736f2db-e74c-4742-a72f-f6292b7930c4",
   "metadata": {},
   "outputs": [
    {
     "data": {
      "text/plain": [
       "0"
      ]
     },
     "execution_count": 22,
     "metadata": {},
     "output_type": "execute_result"
    }
   ],
   "source": [
    "Person.counter"
   ]
  },
  {
   "cell_type": "code",
   "execution_count": 23,
   "id": "6dd69d5d-756c-4dad-8415-550a0e4bd252",
   "metadata": {},
   "outputs": [],
   "source": [
    "person = Person('Jhon', 25)"
   ]
  },
  {
   "cell_type": "code",
   "execution_count": 24,
   "id": "7fa671fe-d34e-40e1-b1f2-1a2cb21bf11e",
   "metadata": {},
   "outputs": [
    {
     "data": {
      "text/plain": [
       "0"
      ]
     },
     "execution_count": 24,
     "metadata": {},
     "output_type": "execute_result"
    }
   ],
   "source": [
    "person.counter"
   ]
  },
  {
   "cell_type": "code",
   "execution_count": 25,
   "id": "fcc1d3bf-b6fc-43ed-81ec-564b73ed6f66",
   "metadata": {},
   "outputs": [],
   "source": [
    "class Person: \n",
    "    counter = 0\n",
    "    \n",
    "    def __init__(self, name, age):\n",
    "        self.name = name\n",
    "        self.age = age\n",
    "        Person.counter += 1 # Person.counter = Person.counter + 1\n",
    "        \n",
    "    def greet(self):\n",
    "        return f\"Hi, it's {self.name}.\""
   ]
  },
  {
   "cell_type": "code",
   "execution_count": 26,
   "id": "de4f1bd0-d222-4ff8-aa3f-f3ee34515aaf",
   "metadata": {},
   "outputs": [
    {
     "data": {
      "text/plain": [
       "0"
      ]
     },
     "execution_count": 26,
     "metadata": {},
     "output_type": "execute_result"
    }
   ],
   "source": [
    "Person.counter"
   ]
  },
  {
   "cell_type": "code",
   "execution_count": 27,
   "id": "2efde4f0-7067-48dc-bc8d-998dee9c6ac5",
   "metadata": {},
   "outputs": [],
   "source": [
    "p1 = Person('Jhon', 25)"
   ]
  },
  {
   "cell_type": "code",
   "execution_count": 28,
   "id": "c8ab117d-8dce-4d84-9ca6-05e72b50badc",
   "metadata": {},
   "outputs": [],
   "source": [
    "p2 = Person('Jane', 22)"
   ]
  },
  {
   "cell_type": "code",
   "execution_count": 29,
   "id": "68347589-4411-4f38-8b8d-8b604f22bfbd",
   "metadata": {},
   "outputs": [
    {
     "name": "stdout",
     "output_type": "stream",
     "text": [
      "2\n"
     ]
    }
   ],
   "source": [
    "print(Person.counter)"
   ]
  },
  {
   "cell_type": "code",
   "execution_count": 30,
   "id": "ca92646c-df61-400f-8b5a-d5c1ebde7c77",
   "metadata": {},
   "outputs": [],
   "source": [
    "class Person: \n",
    "    counter = 0\n",
    "    \n",
    "    def __init__(self, name, age):\n",
    "        self.name = name\n",
    "        self.age = age\n",
    "        Person.counter += 1 # Person.counter = Person.counter + 1\n",
    "        \n",
    "    def greet(self):\n",
    "        return f\"Hi, it's {self.name}.\"\n",
    "    \n",
    "    @classmethod\n",
    "    def create_anonymous(cls):\n",
    "        return Person('Anonymous', 22)"
   ]
  },
  {
   "cell_type": "code",
   "execution_count": 32,
   "id": "c268b64e-2d71-40f7-8597-941ae11958dc",
   "metadata": {},
   "outputs": [],
   "source": [
    "class TemperatureConverter:\n",
    "    @staticmethod\n",
    "    def celcius_to_fahrenheit(c):\n",
    "        return 9*c/5+32\n",
    "    \n",
    "    @staticmethod\n",
    "    def fahrenheit_to_celcius(f):\n",
    "        return 5*(f-32)/9"
   ]
  },
  {
   "cell_type": "code",
   "execution_count": 33,
   "id": "7e6ab0bf-b7a4-4fe9-9c85-3820575bc7f5",
   "metadata": {},
   "outputs": [],
   "source": [
    "f = TemperatureConverter.celcius_to_fahrenheit(30)"
   ]
  },
  {
   "cell_type": "code",
   "execution_count": 34,
   "id": "b8b63023-120c-4425-9b57-3cab503727ed",
   "metadata": {},
   "outputs": [
    {
     "name": "stdout",
     "output_type": "stream",
     "text": [
      "86.0\n"
     ]
    }
   ],
   "source": [
    "print(f)"
   ]
  },
  {
   "cell_type": "code",
   "execution_count": 39,
   "id": "adcc3a78-693a-48e7-88cf-830f8aff4e12",
   "metadata": {},
   "outputs": [],
   "source": [
    "class Employee(Person):\n",
    "    salary = 3000\n",
    "    def __init__(self, name, age, job_title):\n",
    "        super().__init__(name, age)\n",
    "        self.job_title = job_title"
   ]
  },
  {
   "cell_type": "code",
   "execution_count": 40,
   "id": "6028338a-18f2-42e8-acaf-acf7efbc5814",
   "metadata": {},
   "outputs": [
    {
     "name": "stdout",
     "output_type": "stream",
     "text": [
      "<class 'int'>\n"
     ]
    }
   ],
   "source": [
    "print(type(Employee.salary))"
   ]
  },
  {
   "cell_type": "code",
   "execution_count": 41,
   "id": "95b8a9ff-c9c5-4a89-8795-83d3db15829d",
   "metadata": {},
   "outputs": [
    {
     "name": "stdout",
     "output_type": "stream",
     "text": [
      "3000\n"
     ]
    }
   ],
   "source": [
    "print(Employee.salary)"
   ]
  },
  {
   "cell_type": "code",
   "execution_count": 42,
   "id": "8cc5100f-cf43-4512-b8e4-f261fd4aee17",
   "metadata": {},
   "outputs": [],
   "source": [
    "p1 = Employee('Jhon', 25, \"programmer\")"
   ]
  },
  {
   "cell_type": "code",
   "execution_count": 43,
   "id": "86af4760-0f6a-4c6e-b1f7-123a0a4dfbf7",
   "metadata": {},
   "outputs": [],
   "source": [
    "p2 = Person('Jane', 22)"
   ]
  },
  {
   "cell_type": "code",
   "execution_count": 44,
   "id": "fb1ff051-c406-4c53-83d7-e51d9ee82443",
   "metadata": {},
   "outputs": [
    {
     "ename": "AttributeError",
     "evalue": "'Person' object has no attribute 'salary'",
     "output_type": "error",
     "traceback": [
      "\u001b[1;31m---------------------------------------------------------------------------\u001b[0m",
      "\u001b[1;31mAttributeError\u001b[0m                            Traceback (most recent call last)",
      "\u001b[1;32m<ipython-input-44-0f184b01f641>\u001b[0m in \u001b[0;36m<module>\u001b[1;34m\u001b[0m\n\u001b[1;32m----> 1\u001b[1;33m \u001b[0mp2\u001b[0m\u001b[1;33m.\u001b[0m\u001b[0msalary\u001b[0m\u001b[1;33m\u001b[0m\u001b[1;33m\u001b[0m\u001b[0m\n\u001b[0m",
      "\u001b[1;31mAttributeError\u001b[0m: 'Person' object has no attribute 'salary'"
     ]
    }
   ],
   "source": [
    "p2.salary"
   ]
  },
  {
   "cell_type": "code",
   "execution_count": 45,
   "id": "cd4dc23b-e0db-4049-bd6a-2ca9092fee25",
   "metadata": {},
   "outputs": [
    {
     "data": {
      "text/plain": [
       "3000"
      ]
     },
     "execution_count": 45,
     "metadata": {},
     "output_type": "execute_result"
    }
   ],
   "source": [
    "p1.salary"
   ]
  },
  {
   "cell_type": "code",
   "execution_count": 50,
   "id": "7ffe87c5-d87f-4e13-bdea-1e87f664be18",
   "metadata": {},
   "outputs": [],
   "source": [
    "class Person:\n",
    "    def __init__(self, name):\n",
    "        self.name = name\n",
    "        \n",
    "    def greet(self):\n",
    "        return f\"Hi, it's {self.name}.\""
   ]
  },
  {
   "cell_type": "code",
   "execution_count": 51,
   "id": "adfc803c-7573-4fa4-aa55-0c9d725e32ab",
   "metadata": {},
   "outputs": [],
   "source": [
    "class Employee:\n",
    "    def __init__(self, name, job_title):\n",
    "        self.name = name\n",
    "        self.job_title = job_title\n",
    "        \n",
    "    def greet(self):\n",
    "        return f\"Hi, it's {self.name}.\""
   ]
  },
  {
   "cell_type": "code",
   "execution_count": 52,
   "id": "e2dc731f-74ef-40ab-90d9-c770ddb3ecf1",
   "metadata": {},
   "outputs": [],
   "source": [
    "class Employee(Person):\n",
    "    def __init__(self, name, job_title):\n",
    "        self.name = name\n",
    "        self.job_title = job_title"
   ]
  },
  {
   "cell_type": "code",
   "execution_count": 56,
   "id": "ce73857f-09f3-42ac-9a41-608c4c86f3ff",
   "metadata": {},
   "outputs": [],
   "source": [
    "employee = Employee('Jhon', 'Programmer')"
   ]
  },
  {
   "cell_type": "code",
   "execution_count": 57,
   "id": "370d1761-7078-4d7b-a56e-f9f0baab69a0",
   "metadata": {},
   "outputs": [
    {
     "name": "stdout",
     "output_type": "stream",
     "text": [
      "Hi, it's Jhon.\n"
     ]
    }
   ],
   "source": [
    "print(employee.greet())"
   ]
  },
  {
   "cell_type": "code",
   "execution_count": 53,
   "id": "cb4a592d-87d3-4fb6-81a1-47bde6f88f96",
   "metadata": {},
   "outputs": [],
   "source": [
    "x = 5"
   ]
  },
  {
   "cell_type": "code",
   "execution_count": 54,
   "id": "95999985-afb0-490d-be66-8baa888f9f4c",
   "metadata": {},
   "outputs": [],
   "source": [
    "x = 3"
   ]
  },
  {
   "cell_type": "code",
   "execution_count": 55,
   "id": "4ab16d8d-6345-44f5-a6c3-672c2c5de74f",
   "metadata": {},
   "outputs": [
    {
     "name": "stdout",
     "output_type": "stream",
     "text": [
      "3\n"
     ]
    }
   ],
   "source": [
    "print(x)"
   ]
  },
  {
   "cell_type": "code",
   "execution_count": null,
   "id": "420b4f26-b993-4408-b298-efdf1eb7902b",
   "metadata": {},
   "outputs": [],
   "source": []
  }
 ],
 "metadata": {
  "kernelspec": {
   "display_name": "Python 3",
   "language": "python",
   "name": "python3"
  },
  "language_info": {
   "codemirror_mode": {
    "name": "ipython",
    "version": 3
   },
   "file_extension": ".py",
   "mimetype": "text/x-python",
   "name": "python",
   "nbconvert_exporter": "python",
   "pygments_lexer": "ipython3",
   "version": "3.9.4"
  }
 },
 "nbformat": 4,
 "nbformat_minor": 5
}
