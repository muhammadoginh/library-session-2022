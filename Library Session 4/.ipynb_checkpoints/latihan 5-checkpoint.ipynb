{
 "cells": [
  {
   "cell_type": "markdown",
   "id": "6e8526ba-bd47-4302-9e86-c49b257365ad",
   "metadata": {},
   "source": [
    "## Introduction\n",
    "\n",
    "Run the following cell to load your data and some utility functions."
   ]
  },
  {
   "cell_type": "code",
   "execution_count": null,
   "id": "01346b6a-4c4b-4902-99b7-ce2e8713441d",
   "metadata": {},
   "outputs": [],
   "source": [
    "import pandas as pd\n",
    "\n",
    "reviews = pd.read_csv(\"winemag-data-130k-v2.csv\", index_col=0)\n",
    "\n",
    "print(\"Setup complete.\")"
   ]
  },
  {
   "cell_type": "markdown",
   "id": "5fd44fe0-908d-4a15-ad66-528e4ca869a6",
   "metadata": {},
   "source": [
    "## Exercises"
   ]
  },
  {
   "cell_type": "markdown",
   "id": "66769b5e-3972-4c43-a747-58691f1c9ffe",
   "metadata": {},
   "source": [
    "## 1. \n",
    "What is the data type of the `points` column in the dataset?"
   ]
  },
  {
   "cell_type": "code",
   "execution_count": null,
   "id": "53844441-cb20-44f0-8d46-b617b3fe471a",
   "metadata": {},
   "outputs": [],
   "source": [
    "# Your code here\n",
    "dtype = ____"
   ]
  },
  {
   "cell_type": "code",
   "execution_count": null,
   "id": "20cb5dc5-981a-47ec-aa1b-35a2c4adef62",
   "metadata": {},
   "outputs": [],
   "source": [
    "dtype = reviews.points.dtype"
   ]
  },
  {
   "cell_type": "markdown",
   "id": "1e8f27fc-7f80-4f5b-bc53-4fe62d1aaf67",
   "metadata": {},
   "source": [
    "## 2. \n",
    "Create a Series from entries in the `points` column, but convert the entries to strings. Hint: strings are `str` in native Python."
   ]
  },
  {
   "cell_type": "code",
   "execution_count": null,
   "id": "92b7cd33-941a-42f8-a849-89b0462dc5e4",
   "metadata": {},
   "outputs": [],
   "source": [
    "point_strings = ____"
   ]
  },
  {
   "cell_type": "code",
   "execution_count": null,
   "id": "b7a51745-4705-4027-80f5-842563439f74",
   "metadata": {},
   "outputs": [],
   "source": [
    "Solution:\n",
    "\n",
    "point_strings = reviews.points.astype(str)"
   ]
  },
  {
   "cell_type": "markdown",
   "id": "dd0d4672-362c-4de8-91e3-413c0e69c520",
   "metadata": {},
   "source": [
    "## 3.\n",
    "Sometimes the price column is null. How many reviews in the dataset are missing a price?"
   ]
  },
  {
   "cell_type": "code",
   "execution_count": null,
   "id": "d86a8b24-5609-459a-8a90-3387471d6cc2",
   "metadata": {},
   "outputs": [],
   "source": [
    "n_missing_prices = ____"
   ]
  },
  {
   "cell_type": "code",
   "execution_count": null,
   "id": "7ebe4cdd-a75b-493d-923e-58ec0068461f",
   "metadata": {},
   "outputs": [],
   "source": [
    "Solution:\n",
    "\n",
    "missing_price_reviews = reviews[reviews.price.isnull()]\n",
    "n_missing_prices = len(missing_price_reviews)\n",
    "# Cute alternative solution: if we sum a boolean series, True is treated as 1 and False as 0\n",
    "n_missing_prices = reviews.price.isnull().sum()\n",
    "# or equivalently:\n",
    "n_missing_prices = pd.isnull(reviews.price).sum()"
   ]
  },
  {
   "cell_type": "markdown",
   "id": "70165471-40f6-4726-837d-46201112f5bd",
   "metadata": {},
   "source": [
    "## 4.\n",
    "What are the most common wine-producing regions? Create a Series counting the number of times each value occurs in the `region_1` field. This field is often missing data, so replace missing values with `Unknown`. Sort in descending order.  Your output should look something like this:\n",
    "\n",
    "```\n",
    "Unknown                    21247\n",
    "Napa Valley                 4480\n",
    "                           ...  \n",
    "Bardolino Superiore            1\n",
    "Primitivo del Tarantino        1\n",
    "Name: region_1, Length: 1230, dtype: int64\n",
    "```"
   ]
  },
  {
   "cell_type": "code",
   "execution_count": null,
   "id": "034e2396-9420-46b9-9327-87803cedbebc",
   "metadata": {},
   "outputs": [],
   "source": [
    "reviews_per_region = ____"
   ]
  },
  {
   "cell_type": "code",
   "execution_count": null,
   "id": "bf7653eb-1f37-4fea-8d04-4bd500e7e406",
   "metadata": {},
   "outputs": [],
   "source": [
    "Solution:\n",
    "\n",
    "reviews_per_region = reviews.region_1.fillna('Unknown').value_counts().sort_values(ascending=False)"
   ]
  }
 ],
 "metadata": {
  "kernelspec": {
   "display_name": "Python 3",
   "language": "python",
   "name": "python3"
  },
  "language_info": {
   "codemirror_mode": {
    "name": "ipython",
    "version": 3
   },
   "file_extension": ".py",
   "mimetype": "text/x-python",
   "name": "python",
   "nbconvert_exporter": "python",
   "pygments_lexer": "ipython3",
   "version": "3.9.4"
  }
 },
 "nbformat": 4,
 "nbformat_minor": 5
}
