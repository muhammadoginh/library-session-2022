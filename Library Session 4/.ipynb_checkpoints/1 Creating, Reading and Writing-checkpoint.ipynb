{
 "cells": [
  {
   "cell_type": "markdown",
   "id": "2e378e8b-cbdc-4f9a-8ace-13d6ee9bd781",
   "metadata": {},
   "source": [
    "# Creating, Reading and Writing"
   ]
  },
  {
   "cell_type": "markdown",
   "id": "7305d6a8-e96a-46cb-9add-506aca02ce82",
   "metadata": {},
   "source": [
    "You can't work with data if you can't read it. Get started here."
   ]
  },
  {
   "cell_type": "markdown",
   "id": "77166e68-99b1-496b-be4f-fd8932323ccb",
   "metadata": {},
   "source": [
    "## Introduction"
   ]
  },
  {
   "cell_type": "markdown",
   "id": "4e12702f-4d94-44dd-bc36-4c5fe839670a",
   "metadata": {},
   "source": [
    "In this micro-course, you'll learn all about pandas, the most popular Python library for data analysis."
   ]
  },
  {
   "cell_type": "markdown",
   "id": "aee8879f-0bca-4e3f-b376-e484487b73ae",
   "metadata": {},
   "source": [
    "Along the way, you'll complete several hands-on exercises with real-world data. We recommend that you work on the exercises while reading the corresponding tutorials."
   ]
  },
  {
   "cell_type": "markdown",
   "id": "6b5a3db7-66d3-4fff-a881-fe64111c7d0f",
   "metadata": {},
   "source": [
    "In this tutorial, you will learn how to create your own data, along with how to work with data that already exists."
   ]
  },
  {
   "cell_type": "markdown",
   "id": "124d55f9-4c0a-432b-8792-e9473dde07a0",
   "metadata": {},
   "source": [
    "## Getting started"
   ]
  },
  {
   "cell_type": "markdown",
   "id": "7e6ff575-9cb7-4489-9156-da7eca425516",
   "metadata": {},
   "source": [
    "To use pandas, you'll typically start with the following line of code."
   ]
  },
  {
   "cell_type": "code",
   "execution_count": null,
   "id": "b6376bb1-9abd-4b06-8b18-c99cea474f0e",
   "metadata": {},
   "outputs": [],
   "source": [
    "import pandas as pd"
   ]
  },
  {
   "cell_type": "markdown",
   "id": "c7b4bea5-e59a-435f-9853-b48fd818b3f4",
   "metadata": {},
   "source": [
    "## Creating data"
   ]
  },
  {
   "cell_type": "markdown",
   "id": "d4d197c8-fa7b-48c8-a4c3-1558f3608bbc",
   "metadata": {},
   "source": [
    "There are two core objects in pandas: the DataFrame and the Series."
   ]
  },
  {
   "cell_type": "markdown",
   "id": "2455732f-72f3-44e3-911a-2b31a507bdec",
   "metadata": {},
   "source": [
    "### Series"
   ]
  },
  {
   "cell_type": "markdown",
   "id": "c03e85d8-ce00-45ba-9357-6a0d7a4c2a61",
   "metadata": {},
   "source": [
    "A Series is a sequence of data values. If a DataFrame is a table, a Series is a list. And in fact you can create one with nothing more than a list:"
   ]
  },
  {
   "cell_type": "code",
   "execution_count": null,
   "id": "38173806-04fb-47e2-aa22-3f4be201c04a",
   "metadata": {},
   "outputs": [],
   "source": [
    "pd.Series([1, 2, 3, 4, 5])"
   ]
  },
  {
   "cell_type": "markdown",
   "id": "d8caf138-01ac-46eb-a8c2-8b549eee3f5a",
   "metadata": {},
   "source": [
    "A Series is, in essence, a single column of a DataFrame. So you can assign row labels to the Series the same way as before, using an index parameter. However, a Series does not have a column name, it only has one overall name:"
   ]
  },
  {
   "cell_type": "code",
   "execution_count": null,
   "id": "89dd92e0-020c-49f0-a2b8-c1a1fdfdf4b9",
   "metadata": {},
   "outputs": [],
   "source": [
    "pd.Series([30, 35, 40], index=['2015 Sales', '2016 Sales', '2017 Sales'], name='Product A')"
   ]
  },
  {
   "cell_type": "markdown",
   "id": "d1861d8d-e795-4b29-a09c-a21c11a2fb63",
   "metadata": {},
   "source": [
    "The Series and the DataFrame are intimately related. It's helpful to think of a DataFrame as actually being just a bunch of Series \"glued together\". We'll see more of this in the next section of this tutorial."
   ]
  },
  {
   "cell_type": "markdown",
   "id": "7093b220-1d46-4189-a6d1-f2d8eb565cb0",
   "metadata": {},
   "source": [
    "### DataFrame"
   ]
  },
  {
   "cell_type": "markdown",
   "id": "cdb27fb9-809b-406b-bd95-8be55b0ed5cc",
   "metadata": {},
   "source": [
    "A DataFrame is a table. It contains an array of individual entries, each of which has a certain value. Each entry corresponds to a row (or record) and a column."
   ]
  },
  {
   "cell_type": "markdown",
   "id": "d6d7dc7c-064f-40bd-9633-28da8f515f1e",
   "metadata": {},
   "source": [
    "For example, consider the following simple DataFrame:"
   ]
  },
  {
   "cell_type": "code",
   "execution_count": null,
   "id": "9c821abb-f293-49f3-b68c-65181c2c6eb5",
   "metadata": {},
   "outputs": [],
   "source": [
    "pd.DataFrame({'Yes': [50, 21], 'No': [131, 2]})"
   ]
  },
  {
   "cell_type": "markdown",
   "id": "b37265d5-a285-4ff9-9b83-a2fa41eb01d7",
   "metadata": {},
   "source": [
    "In this example, the \"0, No\" entry has the value of 131. The \"0, Yes\" entry has a value of 50, and so on."
   ]
  },
  {
   "cell_type": "markdown",
   "id": "eb9e2778-a3f2-4118-98e2-9616500aa3fb",
   "metadata": {},
   "source": [
    "DataFrame entries are not limited to integers. For instance, here's a DataFrame whose values are strings:"
   ]
  },
  {
   "cell_type": "code",
   "execution_count": null,
   "id": "8fde417b-2c7f-43ba-897b-55ef00f3edc2",
   "metadata": {},
   "outputs": [],
   "source": [
    "pd.DataFrame({'Bob': ['I liked it.', 'It was awful.'], 'Sue': ['Pretty good.', 'Bland.']})"
   ]
  },
  {
   "cell_type": "markdown",
   "id": "b098e007-a705-41c5-9c23-557c0d208687",
   "metadata": {},
   "source": [
    "We are using the `pd.DataFrame()` constructor to generate these DataFrame objects. The syntax for declaring a new one is a dictionary whose keys are the column names (`Bob` and `Sue` in this example), and whose values are a list of entries. This is the standard way of constructing a new DataFrame, and the one you are most likely to encounter."
   ]
  },
  {
   "cell_type": "markdown",
   "id": "adbde1f3-a1ff-4548-95b2-7025e8bafbeb",
   "metadata": {},
   "source": [
    "The dictionary-list constructor assigns values to the column labels, but just uses an ascending count from 0 (0, 1, 2, 3, ...) for the row labels. Sometimes this is OK, but oftentimes we will want to assign these labels ourselves."
   ]
  },
  {
   "cell_type": "markdown",
   "id": "1fa77434-257d-4b5a-ae37-33880f261d96",
   "metadata": {},
   "source": [
    "The list of row labels used in a DataFrame is known as an Index. We can assign values to it by using an index parameter in our constructor:"
   ]
  },
  {
   "cell_type": "code",
   "execution_count": null,
   "id": "3b1fc9d6-f3df-4c6a-abee-ad3b11fb2740",
   "metadata": {},
   "outputs": [],
   "source": [
    "pd.DataFrame({'Bob': ['I liked it.', 'It was awful.'], \n",
    "              'Sue': ['Pretty good.', 'Bland.']},\n",
    "             index=['Product A', 'Product B'])"
   ]
  },
  {
   "cell_type": "markdown",
   "id": "dd8ed753-7d60-4e16-baa4-d5d86e7c3d11",
   "metadata": {},
   "source": [
    "## Reading data files"
   ]
  },
  {
   "cell_type": "markdown",
   "id": "7929cb63-48f2-4013-b7aa-0b236149b364",
   "metadata": {},
   "source": [
    "Being able to create a DataFrame or Series by hand is handy. But, most of the time, we won't actually be creating our own data by hand. Instead, we'll be working with data that already exists."
   ]
  },
  {
   "cell_type": "markdown",
   "id": "9c765590-3141-4938-a97e-abafb8d4beb8",
   "metadata": {},
   "source": [
    "Data can be stored in any of a number of different forms and formats. By far the most basic of these is the humble CSV file. When you open a CSV file you get something that looks like this:"
   ]
  },
  {
   "cell_type": "raw",
   "id": "775c2099-24de-4c09-be37-a1c7bb4eaac0",
   "metadata": {},
   "source": [
    "Product A,Product B,Product C,\n",
    "30,21,9,\n",
    "35,34,1,\n",
    "41,11,11"
   ]
  },
  {
   "cell_type": "markdown",
   "id": "1e4a546e-03a6-48c5-9468-e3e5759eb5b6",
   "metadata": {},
   "source": [
    "So a CSV file is a table of values separated by commas. Hence the name: \"Comma-Separated Values\", or CSV."
   ]
  },
  {
   "cell_type": "markdown",
   "id": "971267cf-bfdf-47a1-a0de-309bc5d4b1a2",
   "metadata": {},
   "source": [
    "Let's now set aside our toy datasets and see what a real dataset looks like when we read it into a DataFrame. We'll use the `pd.read_csv()` function to read the data into a DataFrame. This goes thusly:"
   ]
  },
  {
   "cell_type": "code",
   "execution_count": null,
   "id": "d3c8b2c2-805d-48ff-9138-93f779ac355c",
   "metadata": {},
   "outputs": [],
   "source": [
    "wine_reviews = pd.read_csv(\"winemag-data-130k-v2.csv\")"
   ]
  },
  {
   "cell_type": "markdown",
   "id": "daeea404-0a59-48aa-bb78-0e88ef30f759",
   "metadata": {},
   "source": [
    "get data from: https://www.kaggle.com/datasets/christopheiv/winemagdata130k?resource=download&select=winemag-data-130k-v2.csv"
   ]
  },
  {
   "cell_type": "markdown",
   "id": "de3f1c03-a415-4a4f-bdc5-dc265e3508f6",
   "metadata": {},
   "source": [
    "We can use the shape attribute to check how large the resulting DataFrame is:"
   ]
  },
  {
   "cell_type": "code",
   "execution_count": null,
   "id": "ee38e058-3feb-4557-b162-a3cf1cd245f0",
   "metadata": {},
   "outputs": [],
   "source": [
    "wine_reviews.shape"
   ]
  },
  {
   "cell_type": "markdown",
   "id": "c706d535-c528-473a-ad01-3dffb7e78bb7",
   "metadata": {},
   "source": [
    "So our new DataFrame has 130,000 records split across 14 different columns. That's almost 2 million entries!\n",
    "\n",
    "We can examine the contents of the resultant DataFrame using the head() command, which grabs the first five rows:"
   ]
  },
  {
   "cell_type": "code",
   "execution_count": null,
   "id": "94551eba-47e8-4fa8-b72d-7559115bdf92",
   "metadata": {},
   "outputs": [],
   "source": [
    "wine_reviews.head()"
   ]
  },
  {
   "cell_type": "markdown",
   "id": "cbdb47ed-9ccd-455a-ac75-c230e82758e6",
   "metadata": {},
   "source": [
    "The pd.read_csv() function is well-endowed, with over 30 optional parameters you can specify. For example, you can see in this dataset that the CSV file has a built-in index, which pandas did not pick up on automatically. To make pandas use that column for the index (instead of creating a new one from scratch), we can specify an index_col."
   ]
  },
  {
   "cell_type": "code",
   "execution_count": null,
   "id": "4e201888-1726-4a6d-a2b3-5f3b659bd2c8",
   "metadata": {},
   "outputs": [],
   "source": [
    "wine_reviews = pd.read_csv(\"winemag-data-130k-v2.csv\", index_col=0)\n",
    "wine_reviews.head()"
   ]
  }
 ],
 "metadata": {
  "kernelspec": {
   "display_name": "Python 3",
   "language": "python",
   "name": "python3"
  },
  "language_info": {
   "codemirror_mode": {
    "name": "ipython",
    "version": 3
   },
   "file_extension": ".py",
   "mimetype": "text/x-python",
   "name": "python",
   "nbconvert_exporter": "python",
   "pygments_lexer": "ipython3",
   "version": "3.9.4"
  }
 },
 "nbformat": 4,
 "nbformat_minor": 5
}
