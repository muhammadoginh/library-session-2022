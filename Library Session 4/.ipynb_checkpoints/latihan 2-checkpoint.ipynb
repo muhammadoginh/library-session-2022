{
 "cells": [
  {
   "cell_type": "markdown",
   "id": "3b2eb316-90e8-48ad-a46e-a22e7817f2de",
   "metadata": {},
   "source": [
    "## Introduction"
   ]
  },
  {
   "cell_type": "markdown",
   "id": "70a478a1-af03-41f4-8549-b830ac3927d0",
   "metadata": {},
   "source": [
    "In this set of exercises we will work with the [Wine Reviews dataset](https://www.kaggle.com/datasets/zynicide/wine-reviews)."
   ]
  },
  {
   "cell_type": "markdown",
   "id": "4b5a3b6b-2a88-4125-90e7-fea457bf0d92",
   "metadata": {},
   "source": [
    "Run the following cell to load your data and some utility functions "
   ]
  },
  {
   "cell_type": "code",
   "execution_count": null,
   "id": "ae34aea9-659c-4ade-9563-fc40a3ab80aa",
   "metadata": {},
   "outputs": [],
   "source": [
    "import pandas as pd\n",
    "\n",
    "reviews = pd.read_csv(\"winemag-data-130k-v2.csv\", index_col=0)\n",
    "pd.set_option(\"display.max_rows\", 5)\n",
    "print(\"Setup complete.\")"
   ]
  },
  {
   "cell_type": "markdown",
   "id": "6e3068c2-026a-41b5-af74-9a9ba31fec66",
   "metadata": {},
   "source": [
    "Look at an overview of your data by running the following line."
   ]
  },
  {
   "cell_type": "code",
   "execution_count": null,
   "id": "a0b6a74e-8b98-43a7-bbf1-fa95832e6c42",
   "metadata": {},
   "outputs": [],
   "source": [
    "reviews.head()"
   ]
  },
  {
   "cell_type": "markdown",
   "id": "ff8d7f19-f3e1-47c0-8f30-0ecf7a86d408",
   "metadata": {},
   "source": [
    "## Exercise"
   ]
  },
  {
   "cell_type": "markdown",
   "id": "10cd74c3-dd1a-4a13-a7ce-4f60d2401d6f",
   "metadata": {},
   "source": [
    "## 1.\n",
    "\n",
    "Select the `description` column from `reviews` and assign the result to the variable `desc`."
   ]
  },
  {
   "cell_type": "code",
   "execution_count": null,
   "id": "969766db-4d12-4d8f-84b9-7c82683cce8f",
   "metadata": {},
   "outputs": [],
   "source": [
    "# Your code here\n",
    "desc = ___\n",
    "\n",
    "# Check your answer\n",
    "desc"
   ]
  },
  {
   "cell_type": "markdown",
   "id": "dd1ab7f5-28ff-4bf8-ba97-2a66d264c553",
   "metadata": {},
   "source": [
    "klik untuk melihat jawaban\n",
    "<!-- desc = reviews.description\n",
    "or\n",
    "\n",
    "desc = reviews[\"description\"]\n",
    "desc is a pandas Series object, with an index matching the reviews DataFrame. In general, when we select a single column from a DataFrame, we'll get a Series. -->"
   ]
  },
  {
   "cell_type": "markdown",
   "id": "f5eb404e-448d-497d-b0d8-12ac0a0e9e49",
   "metadata": {},
   "source": [
    "## 2.\n",
    "\n",
    "Select the first value from the description column of `reviews`, assigning it to variable `first_description`."
   ]
  },
  {
   "cell_type": "code",
   "execution_count": null,
   "id": "67c29d49-4e4a-4ecc-8de7-fa26478a8229",
   "metadata": {},
   "outputs": [],
   "source": [
    "# Your code here\n",
    "first_description = ____\n",
    "\n",
    "# Check your answer\n",
    "first_description"
   ]
  },
  {
   "cell_type": "markdown",
   "id": "6c0e082e-a499-4584-aa9c-78ba864da2b9",
   "metadata": {},
   "source": [
    "klik untuk melihat jawaban\n",
    "<!-- first_description = reviews.description.iloc[0]\n",
    "Note that while this is the preferred way to obtain the entry in the DataFrame, many other options will return a valid result, such as reviews.description.loc[0], reviews.description[0], and more! -->"
   ]
  },
  {
   "cell_type": "markdown",
   "id": "05a651a3-3583-47a0-bbef-00a7ed1b89cd",
   "metadata": {},
   "source": [
    "## 3. \n",
    "\n",
    "Select the first row of data (the first record) from `reviews`, assigning it to the variable `first_row`."
   ]
  },
  {
   "cell_type": "code",
   "execution_count": null,
   "id": "1d2c7a3f-0f2e-4d1e-a63e-288141b09c0b",
   "metadata": {},
   "outputs": [],
   "source": [
    "# Your code here\n",
    "first_row = ____\n",
    "\n",
    "# Check your answer\n",
    "first_row"
   ]
  },
  {
   "cell_type": "markdown",
   "id": "1d8da6fc-18c1-4e96-86bf-7a62f89f428b",
   "metadata": {},
   "source": [
    "klik untuk melihat jawaban\n",
    "<!-- To obtain a specific row of a DataFrame, we can use the iloc operator.\n",
    "first_row = reviews.iloc[0] -->"
   ]
  },
  {
   "cell_type": "markdown",
   "id": "3e1e5b69-7327-417b-91c7-eb7b0fb4ccff",
   "metadata": {},
   "source": [
    "## 4.\n",
    "\n",
    "Select the first 10 values from the `description` column in `reviews`, assigning the result to variable `first_descriptions`.\n",
    "\n",
    "Hint: format your output as a pandas Series."
   ]
  },
  {
   "cell_type": "code",
   "execution_count": null,
   "id": "a2f3cfa5-44e3-4776-98b5-86ec4b6b124e",
   "metadata": {},
   "outputs": [],
   "source": [
    "# Your code here\n",
    "first_descriptions = ____\n",
    "\n",
    "# Check your answer\n",
    "q4.check()\n",
    "first_descriptions"
   ]
  },
  {
   "cell_type": "markdown",
   "id": "acad2a49-5594-41d3-9634-536d8c6d7200",
   "metadata": {},
   "source": [
    "klik untuk melihat jawaban\n",
    "<!-- first_descriptions = reviews.description.iloc[:10]\n",
    "Note that many other options will return a valid result, such as desc.head(10) and reviews.loc[:9, \"description\"]. -->"
   ]
  },
  {
   "cell_type": "markdown",
   "id": "13053d7e-ea57-44fb-b548-d352b1bd29e5",
   "metadata": {},
   "source": [
    "## 5.\n",
    "\n",
    "Select the records with index labels `1`, `2`, `3`, `5`, and `8`, assigning the result to the variable `sample_reviews`.\n",
    "\n",
    "In other words, generate the following DataFrame:\n",
    "\n",
    "![](https://i.imgur.com/sHZvI1O.png)"
   ]
  },
  {
   "cell_type": "code",
   "execution_count": null,
   "id": "3d2aa52a-28ab-4633-ac58-f3e602e8d58c",
   "metadata": {},
   "outputs": [],
   "source": [
    "sample_reviews = ____\n",
    "\n",
    "# Check your answer\n",
    "sample_reviews"
   ]
  },
  {
   "cell_type": "markdown",
   "id": "55e3120e-5e8a-4c9f-98b7-3fa9cece01b1",
   "metadata": {},
   "source": [
    "klik untuk melihat jawaban\n",
    "<!-- indices = [1,2,3,5,8]\n",
    "sample_reviews = reviews.iloc[indices] -->"
   ]
  },
  {
   "cell_type": "markdown",
   "id": "2818fa7f-20d5-4adb-bda5-30346725f8f1",
   "metadata": {},
   "source": [
    "## 6.\n",
    "\n",
    "Create a variable `df` containing the `country`, `province`, `region_1`, and `region_2` columns of the records with the index labels `0`, `1`, `10`, and `100`. In other words, generate the following DataFrame:\n",
    "\n",
    "![](https://i.imgur.com/FUCGiKP.png)"
   ]
  },
  {
   "cell_type": "code",
   "execution_count": null,
   "id": "999b02b8-ae53-42be-9c1e-1902e23db88a",
   "metadata": {},
   "outputs": [],
   "source": [
    "df = ____\n",
    "\n",
    "# Check your answer\n",
    "df"
   ]
  },
  {
   "cell_type": "markdown",
   "id": "dce4c0d3-f9ea-4376-b426-3a33029dfdbc",
   "metadata": {},
   "source": [
    "klik untuk melihat jawaban\n",
    "<!-- cols = ['country', 'province', 'region_1', 'region_2']\n",
    "indices = [0, 1, 10, 100]\n",
    "df = reviews.loc[indices, cols] -->"
   ]
  },
  {
   "cell_type": "markdown",
   "id": "5bfe5fd3-19c1-4e54-b63e-de2c9fee7bc5",
   "metadata": {},
   "source": [
    "## 7.\n",
    "\n",
    "Create a variable `df` containing the `country` and `variety` columns of the first 100 records. \n",
    "\n",
    "Hint: you may use `loc` or `iloc`. When working on the answer this question and the several of the ones that follow, keep the following \"gotcha\" described in the tutorial:\n",
    "\n",
    "> `iloc` uses the Python stdlib indexing scheme, where the first element of the range is included and the last one excluded. \n",
    "`loc`, meanwhile, indexes inclusively. \n",
    "\n",
    "> This is particularly confusing when the DataFrame index is a simple numerical list, e.g. `0,...,1000`. In this case `df.iloc[0:1000]` will return 1000 entries, while `df.loc[0:1000]` return 1001 of them! To get 1000 elements using `loc`, you will need to go one lower and ask for `df.loc[0:999]`. "
   ]
  },
  {
   "cell_type": "code",
   "execution_count": null,
   "id": "9ebf0c95-c006-4a5a-815e-2fe766294de2",
   "metadata": {},
   "outputs": [],
   "source": [
    "df = ____\n",
    "\n",
    "# Check your answer\n",
    "df"
   ]
  },
  {
   "cell_type": "markdown",
   "id": "fc47cc3b-5b50-4432-8260-abf1aafc20e9",
   "metadata": {},
   "source": [
    "klik untuk melihat jawaban\n",
    "\n",
    "<!-- cols = ['country', 'variety']\n",
    "df = reviews.loc[:99, cols]\n",
    "or\n",
    "\n",
    "cols_idx = [0, 11]\n",
    "df = reviews.iloc[:100, cols_idx] -->"
   ]
  },
  {
   "cell_type": "markdown",
   "id": "5f94f587-12e2-42a3-a20d-087004d414ad",
   "metadata": {},
   "source": [
    "## 8.\n",
    "\n",
    "Create a DataFrame `italian_wines` containing reviews of wines made in `Italy`. Hint: `reviews.country` equals what?"
   ]
  },
  {
   "cell_type": "code",
   "execution_count": null,
   "id": "8db1e03b-b40e-4f3e-87df-c81aee94d8df",
   "metadata": {},
   "outputs": [],
   "source": [
    "italian_wines = ____\n",
    "\n",
    "# Check your answer\n",
    "italian_wines"
   ]
  },
  {
   "cell_type": "markdown",
   "id": "f7bc4a58-9ada-4906-a1f9-2afa5dc1d86f",
   "metadata": {},
   "source": [
    "klik untuk melihat jawaban\n",
    "<!-- italian_wines = reviews[reviews.country == 'Italy'] -->"
   ]
  },
  {
   "cell_type": "markdown",
   "id": "468b0178-8cda-4e9c-b6e7-c80c6f68f60b",
   "metadata": {},
   "source": [
    "## 9.\n",
    "\n",
    "Create a DataFrame `top_oceania_wines` containing all reviews with at least 95 points (out of 100) for wines from Australia or New Zealand."
   ]
  },
  {
   "cell_type": "code",
   "execution_count": null,
   "id": "f3d9940f-2519-4f0b-b2f6-2f33065fd9f6",
   "metadata": {},
   "outputs": [],
   "source": [
    "top_oceania_wines = ____\n",
    "\n",
    "# Check your answer\n",
    "top_oceania_wines"
   ]
  },
  {
   "cell_type": "markdown",
   "id": "a8ea9a8e-0539-405a-832d-41aff0b7f16f",
   "metadata": {},
   "source": [
    "<details><summary>klik untuk melihat jawaban</summary>\n",
    "<p>\n",
    "\n",
    "```python\n",
    "top_oceania_wines = reviews.loc[\n",
    "    (reviews.country.isin(['Australia', 'New Zealand']))\n",
    "    & (reviews.points >= 95)\n",
    "]\n",
    "```\n",
    "    \n",
    "</p>\n",
    "</details>"
   ]
  }
 ],
 "metadata": {
  "kernelspec": {
   "display_name": "Python 3",
   "language": "python",
   "name": "python3"
  },
  "language_info": {
   "codemirror_mode": {
    "name": "ipython",
    "version": 3
   },
   "file_extension": ".py",
   "mimetype": "text/x-python",
   "name": "python",
   "nbconvert_exporter": "python",
   "pygments_lexer": "ipython3",
   "version": "3.9.4"
  }
 },
 "nbformat": 4,
 "nbformat_minor": 5
}
