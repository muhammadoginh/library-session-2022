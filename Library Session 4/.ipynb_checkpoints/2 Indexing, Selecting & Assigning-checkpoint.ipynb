{
 "cells": [
  {
   "cell_type": "markdown",
   "id": "e46b11ba-01bf-43ab-b048-647188f0895d",
   "metadata": {},
   "source": [
    "# Indexing, Selecting & Assigning"
   ]
  },
  {
   "cell_type": "markdown",
   "id": "3d612728-f72e-40d1-a346-d188fffae6e6",
   "metadata": {},
   "source": [
    "data scientists do this dozens of times a day. You can, too!"
   ]
  },
  {
   "cell_type": "markdown",
   "id": "18984c04-21c0-4c84-b6fc-b739c96ba6da",
   "metadata": {},
   "source": [
    "## Introduction"
   ]
  },
  {
   "cell_type": "markdown",
   "id": "d4bff22e-9b70-4834-a5e5-1e2925c62312",
   "metadata": {},
   "source": [
    "Selecting specific values of a pandas DataFrame or Series to work on is an implicit step in almost any data operation you'll run, so one of the first things you need to learn in working with data in Python is how to go about selecting the data points relevant to you quickly and effectively."
   ]
  },
  {
   "cell_type": "code",
   "execution_count": null,
   "id": "8e9ebeb7-97f2-4756-bd12-958eb96ba853",
   "metadata": {},
   "outputs": [],
   "source": [
    "import pandas as pd\n",
    "reviews = pd.read_csv(\"winemag-data-130k-v2.csv\", index_col=0)\n",
    "pd.set_option('max_rows', 5)"
   ]
  },
  {
   "cell_type": "markdown",
   "id": "18b4a2b7-5e59-41d9-bc80-676a34d0d677",
   "metadata": {},
   "source": [
    "## Native accessors"
   ]
  },
  {
   "cell_type": "markdown",
   "id": "21f788e2-bfe5-4952-a1c9-26a1a27c01d2",
   "metadata": {},
   "source": [
    "Native Python objects provide good ways of indexing data. Pandas carries all of these over, which helps make it easy to start with.\n",
    "\n",
    "Consider this DataFrame:"
   ]
  },
  {
   "cell_type": "code",
   "execution_count": null,
   "id": "3752471f-779f-4926-8165-05bbae2d377c",
   "metadata": {},
   "outputs": [],
   "source": [
    "reviews"
   ]
  },
  {
   "cell_type": "markdown",
   "id": "d3384933-e19b-4bd9-a2a8-d0f7cf1408d0",
   "metadata": {},
   "source": [
    "In Python, we can access the property of an object by accessing it as an attribute. A book object, for example, might have a title property, which we can access by calling book.title. Columns in a pandas DataFrame work in much the same way."
   ]
  },
  {
   "cell_type": "markdown",
   "id": "4aca6b00-ef68-4543-b03b-f0249e3b31b2",
   "metadata": {},
   "source": [
    "Hence to access the country property of reviews we can use:"
   ]
  },
  {
   "cell_type": "code",
   "execution_count": null,
   "id": "3cfd905d-32f9-407f-b8eb-dbcbc0733b14",
   "metadata": {},
   "outputs": [],
   "source": [
    "reviews.country"
   ]
  },
  {
   "cell_type": "markdown",
   "id": "6d4efbaa-039c-4f7e-8d23-51678fe08631",
   "metadata": {},
   "source": [
    "If we have a Python dictionary, we can access its values using the indexing ([]) operator. We can do the same with columns in a DataFrame:"
   ]
  },
  {
   "cell_type": "code",
   "execution_count": null,
   "id": "4b9a269b-f128-4a02-ba76-4f87856528d8",
   "metadata": {},
   "outputs": [],
   "source": [
    "reviews['country']"
   ]
  },
  {
   "cell_type": "markdown",
   "id": "29c5f81f-7114-42e2-82fa-28dfd1e9d931",
   "metadata": {},
   "source": [
    "These are the two ways of selecting a specific Series out of a DataFrame. Neither of them is more or less syntactically valid than the other, but the indexing operator [] does have the advantage that it can handle column names with reserved characters in them (e.g. if we had a country providence column, reviews.country providence wouldn't work).\n",
    "\n",
    "Doesn't a pandas Series look kind of like a fancy dictionary? It pretty much is, so it's no surprise that, to drill down to a single specific value, we need only use the indexing operator [] once more:"
   ]
  },
  {
   "cell_type": "code",
   "execution_count": null,
   "id": "42e5611b-0889-4b18-9444-4364353ea865",
   "metadata": {},
   "outputs": [],
   "source": [
    "reviews['country'][0]"
   ]
  },
  {
   "cell_type": "markdown",
   "id": "953b9aa8-d79e-4f3b-853e-0547112e40eb",
   "metadata": {},
   "source": [
    "## Indexing in pandas"
   ]
  },
  {
   "cell_type": "markdown",
   "id": "26812d94-f98c-4b16-a508-46656e5765f4",
   "metadata": {},
   "source": [
    "The indexing operator and attribute selection are nice because they work just like they do in the rest of the Python ecosystem. As a novice, this makes them easy to pick up and use. However, pandas has its own accessor operators, loc and iloc. For more advanced operations, these are the ones you're supposed to be using."
   ]
  },
  {
   "cell_type": "markdown",
   "id": "a7aeef83-5915-4af5-b940-bca7139bedfe",
   "metadata": {},
   "source": [
    "### Index-based selection"
   ]
  },
  {
   "cell_type": "markdown",
   "id": "59a0160b-9dcc-4cf2-984e-ec823058b019",
   "metadata": {},
   "source": [
    "Pandas indexing works in one of two paradigms. The first is **index-based selection**: selecting data based on its numerical position in the data. iloc follows this paradigm."
   ]
  },
  {
   "cell_type": "markdown",
   "id": "5efdaa27-3f32-453f-9905-dca402d725df",
   "metadata": {},
   "source": [
    "To select the first row of data in a DataFrame, we may use the following:"
   ]
  },
  {
   "cell_type": "code",
   "execution_count": null,
   "id": "d46b09e4-a2ce-4293-aff1-3b534052404e",
   "metadata": {},
   "outputs": [],
   "source": [
    "reviews.iloc[0]"
   ]
  },
  {
   "cell_type": "markdown",
   "id": "01b02e2b-8e8d-4f99-a1f1-da3e0a1fb147",
   "metadata": {},
   "source": [
    "Both loc and iloc are row-first, column-second. This is the opposite of what we do in native Python, which is column-first, row-second.\n",
    "\n",
    "This means that it's marginally easier to retrieve rows, and marginally harder to get retrieve columns. To get a column with iloc, we can do the following:"
   ]
  },
  {
   "cell_type": "code",
   "execution_count": null,
   "id": "6c86d59c-50a5-4bce-8d6c-fc92898a54b7",
   "metadata": {},
   "outputs": [],
   "source": [
    "reviews.iloc[:, 0]"
   ]
  },
  {
   "cell_type": "markdown",
   "id": "d2e0a3e9-8a8f-4cdb-b517-bb245fed4486",
   "metadata": {},
   "source": [
    "On its own, the : operator, which also comes from native Python, means \"everything\". When combined with other selectors, however, it can be used to indicate a range of values. For example, to select the country column from just the first, second, and third row, we would do:"
   ]
  },
  {
   "cell_type": "code",
   "execution_count": null,
   "id": "88fb102a-1720-48da-95c8-4e24a83f2c80",
   "metadata": {},
   "outputs": [],
   "source": [
    "reviews.iloc[:3, 0]"
   ]
  },
  {
   "cell_type": "markdown",
   "id": "07243c1c-972f-49b2-9db4-97cbbbe0fbc2",
   "metadata": {},
   "source": [
    "Or, to select just the second and third entries, we would do:"
   ]
  },
  {
   "cell_type": "code",
   "execution_count": null,
   "id": "a68f30cd-88d1-4c48-8f6b-d8d12b4ccc1e",
   "metadata": {},
   "outputs": [],
   "source": [
    "reviews.iloc[1:3, 0]"
   ]
  },
  {
   "cell_type": "markdown",
   "id": "451b613d-7964-48dc-a0a9-9d84b98a1d26",
   "metadata": {},
   "source": [
    "It's also possible to pass a list:"
   ]
  },
  {
   "cell_type": "code",
   "execution_count": null,
   "id": "dc15a0d2-ddc9-4f23-8d45-d5b46fae11dc",
   "metadata": {},
   "outputs": [],
   "source": [
    "reviews.iloc[[0, 1, 2], 0]"
   ]
  },
  {
   "cell_type": "markdown",
   "id": "19863c63-3937-40dd-8686-e3888b15050f",
   "metadata": {},
   "source": [
    "Finally, it's worth knowing that negative numbers can be used in selection. This will start counting forwards from the end of the values. So for example here are the last five elements of the dataset."
   ]
  },
  {
   "cell_type": "code",
   "execution_count": null,
   "id": "c6f5ad04-e427-422a-9afb-f9f5094400e8",
   "metadata": {},
   "outputs": [],
   "source": [
    "reviews.iloc[-5:]"
   ]
  },
  {
   "cell_type": "markdown",
   "id": "a128cb00-461a-49b9-a0ed-4303d850efa9",
   "metadata": {},
   "source": [
    "### Label-based selection"
   ]
  },
  {
   "cell_type": "markdown",
   "id": "4e111ec4-de36-494d-ad24-bc6e0ef949b3",
   "metadata": {},
   "source": [
    "The second paradigm for attribute selection is the one followed by the loc operator: label-based selection. In this paradigm, it's the data index value, not its position, which matters.\n",
    "\n",
    "For example, to get the first entry in reviews, we would now do the following:"
   ]
  },
  {
   "cell_type": "code",
   "execution_count": null,
   "id": "d884dd56-5a76-4d30-855e-8c0902c93fa8",
   "metadata": {},
   "outputs": [],
   "source": [
    "reviews.loc[0, 'country']"
   ]
  },
  {
   "cell_type": "markdown",
   "id": "04c8f49a-9394-4dff-af89-3474a4f9b162",
   "metadata": {},
   "source": [
    "iloc is conceptually simpler than loc because it ignores the dataset's indices. When we use iloc we treat the dataset like a big matrix (a list of lists), one that we have to index into by position. loc, by contrast, uses the information in the indices to do its work. Since your dataset usually has meaningful indices, it's usually easier to do things using loc instead. For example, here's one operation that's much easier using loc:"
   ]
  },
  {
   "cell_type": "code",
   "execution_count": null,
   "id": "a5757596-3308-4558-8a49-d5f47af6bec1",
   "metadata": {},
   "outputs": [],
   "source": [
    "reviews.loc[:, ['taster_name', 'taster_twitter_handle', 'points']]"
   ]
  },
  {
   "cell_type": "markdown",
   "id": "5ed13d0e-384b-4149-8ae7-ac15cea16e50",
   "metadata": {},
   "source": [
    "### Choosing between loc and iloc"
   ]
  },
  {
   "cell_type": "markdown",
   "id": "4ab0dfad-cdf8-46c5-a77c-8224c7c8652b",
   "metadata": {},
   "source": [
    "When choosing or transitioning between loc and iloc, there is one \"gotcha\" worth keeping in mind, which is that the two methods use slightly different indexing schemes.\n",
    "\n",
    "iloc uses the Python stdlib indexing scheme, where the first element of the range is included and the last one excluded. So 0:10 will select entries 0,...,9. loc, meanwhile, indexes inclusively. So 0:10 will select entries 0,...,10.\n",
    "\n",
    "Why the change? Remember that loc can index any stdlib type: strings, for example. If we have a DataFrame with index values Apples, ..., Potatoes, ..., and we want to select \"all the alphabetical fruit choices between Apples and Potatoes\", then it's a lot more convenient to index df.loc['Apples':'Potatoes'] than it is to index something like df.loc['Apples', 'Potatoet'] (t coming after s in the alphabet).\n",
    "\n",
    "This is particularly confusing when the DataFrame index is a simple numerical list, e.g. 0,...,1000. In this case df.iloc[0:1000] will return 1000 entries, while df.loc[0:1000] return 1001 of them! To get 1000 elements using loc, you will need to go one lower and ask for df.loc[0:999].\n",
    "\n",
    "Otherwise, the semantics of using loc are the same as those for iloc."
   ]
  },
  {
   "cell_type": "markdown",
   "id": "69ea2324-e71f-4094-9e7c-b0cd4353a00f",
   "metadata": {},
   "source": [
    "## Manipulating the index"
   ]
  },
  {
   "cell_type": "markdown",
   "id": "65e9b3e0-bdff-4635-bee6-5ae89604b905",
   "metadata": {},
   "source": [
    "Label-based selection derives its power from the labels in the index. Critically, the index we use is not immutable. We can manipulate the index in any way we see fit.\n",
    "\n",
    "The set_index() method can be used to do the job. Here is what happens when we set_index to the title field:"
   ]
  },
  {
   "cell_type": "code",
   "execution_count": null,
   "id": "0c47f17b-8097-4f42-ac19-aa842061ea13",
   "metadata": {},
   "outputs": [],
   "source": [
    "reviews.set_index(\"title\")"
   ]
  },
  {
   "cell_type": "markdown",
   "id": "ee1b887b-c803-4aa9-b988-5d06988d2c73",
   "metadata": {},
   "source": [
    "This is useful if you can come up with an index for the dataset which is better than the current one."
   ]
  },
  {
   "cell_type": "markdown",
   "id": "8070afeb-b287-4e3d-b44a-2f04fb5ac548",
   "metadata": {},
   "source": [
    "## Conditional selection"
   ]
  },
  {
   "cell_type": "markdown",
   "id": "a713a13d-f8a8-49e0-b470-95b874ec1cbf",
   "metadata": {},
   "source": [
    "So far we've been indexing various strides of data, using structural properties of the DataFrame itself. To do interesting things with the data, however, we often need to ask questions based on conditions.\n",
    "\n",
    "For example, suppose that we're interested specifically in better-than-average wines produced in Italy."
   ]
  },
  {
   "cell_type": "markdown",
   "id": "fb403f56-d241-414c-a370-2d7389b2bd2b",
   "metadata": {},
   "source": [
    "We can start by checking if each wine is Italian or not:"
   ]
  },
  {
   "cell_type": "code",
   "execution_count": null,
   "id": "03d793e0-39c5-4bff-b83b-908fe9a173e2",
   "metadata": {},
   "outputs": [],
   "source": [
    "reviews.country == 'Italy'"
   ]
  },
  {
   "cell_type": "markdown",
   "id": "c6021f6e-c5e6-4854-8418-d693e09b9216",
   "metadata": {},
   "source": [
    "This operation produced a Series of True/False booleans based on the country of each record. This result can then be used inside of loc to select the relevant data:"
   ]
  },
  {
   "cell_type": "code",
   "execution_count": null,
   "id": "035ca9a5-c9e6-419f-9e65-7f5ea8fdf286",
   "metadata": {},
   "outputs": [],
   "source": [
    "reviews.loc[reviews.country == 'Italy']"
   ]
  },
  {
   "cell_type": "markdown",
   "id": "71fde171-d53b-4e47-98ca-960e0a7e40bf",
   "metadata": {},
   "source": [
    "This DataFrame has ~20,000 rows. The original had ~130,000. That means that around 15% of wines originate from Italy.\n",
    "\n",
    "We also wanted to know which ones are better than average. Wines are reviewed on a 80-to-100 point scale, so this could mean wines that accrued at least 90 points.\n",
    "\n",
    "We can use the ampersand (&) to bring the two questions together:"
   ]
  },
  {
   "cell_type": "code",
   "execution_count": null,
   "id": "6ab67421-f958-4e1e-8c7a-929a84b48d7c",
   "metadata": {},
   "outputs": [],
   "source": [
    "reviews.loc[(reviews.country == 'Italy') & (reviews.points >= 90)]"
   ]
  },
  {
   "cell_type": "markdown",
   "id": "700aedc7-c634-4f99-b6e2-983d8aab62c9",
   "metadata": {},
   "source": [
    "Suppose we'll buy any wine that's made in Italy or which is rated above average. For this we use a pipe (|):"
   ]
  },
  {
   "cell_type": "code",
   "execution_count": null,
   "id": "9eb76074-df9a-43c8-b930-9fd9024a5bfe",
   "metadata": {},
   "outputs": [],
   "source": [
    "reviews.loc[(reviews.country == 'Italy') | (reviews.points >= 90)]"
   ]
  },
  {
   "cell_type": "markdown",
   "id": "bb6ab8e5-a346-4ca9-8c2a-787da961ba55",
   "metadata": {},
   "source": [
    "Pandas comes with a few built-in conditional selectors, two of which we will highlight here.\n",
    "\n",
    "The first is isin. isin is lets you select data whose value \"is in\" a list of values. For example, here's how we can use it to select wines only from Italy or France:"
   ]
  },
  {
   "cell_type": "code",
   "execution_count": null,
   "id": "2cf4e8e9-23d3-4b69-b38a-f9b79343fd37",
   "metadata": {},
   "outputs": [],
   "source": [
    "reviews.loc[reviews.country.isin(['Italy', 'France'])]"
   ]
  },
  {
   "cell_type": "markdown",
   "id": "00872451-8927-4d98-ac96-6f4d4e0e35ce",
   "metadata": {},
   "source": [
    "The second is isnull (and its companion notnull). These methods let you highlight values which are (or are not) empty (NaN). For example, to filter out wines lacking a price tag in the dataset, here's what we would do:"
   ]
  },
  {
   "cell_type": "code",
   "execution_count": null,
   "id": "48113d07-d96b-4380-9cef-b87d9d1e5376",
   "metadata": {},
   "outputs": [],
   "source": [
    "reviews.loc[reviews.price.notnull()]"
   ]
  },
  {
   "cell_type": "markdown",
   "id": "ecf3ebd3-65d1-4b2d-af55-bce6ed1d7794",
   "metadata": {},
   "source": [
    "## Assigning data"
   ]
  },
  {
   "cell_type": "markdown",
   "id": "15226211-f9e8-4abd-84bf-bde3f132a90e",
   "metadata": {},
   "source": [
    "Going the other way, assigning data to a DataFrame is easy. You can assign either a constant value:"
   ]
  },
  {
   "cell_type": "code",
   "execution_count": null,
   "id": "ba82fa2e-a3fe-497d-97a6-46e7fa591ea9",
   "metadata": {},
   "outputs": [],
   "source": [
    "reviews['critic'] = 'everyone'\n",
    "reviews['critic']"
   ]
  },
  {
   "cell_type": "markdown",
   "id": "6ebdb273-4ee8-4789-a77b-f3158d94a605",
   "metadata": {},
   "source": [
    "Or with an iterable of values:"
   ]
  },
  {
   "cell_type": "code",
   "execution_count": null,
   "id": "cf980e16-fbe1-4be3-9ee2-11bf8eca630d",
   "metadata": {},
   "outputs": [],
   "source": [
    "reviews['index_backwards'] = range(len(reviews), 0, -1)\n",
    "reviews['index_backwards']"
   ]
  },
  {
   "cell_type": "code",
   "execution_count": null,
   "id": "2c3ab7a1-e591-49ee-a3c5-af9a2d3f80c6",
   "metadata": {},
   "outputs": [],
   "source": []
  },
  {
   "cell_type": "code",
   "execution_count": null,
   "id": "8d30093f-bd63-4904-a16f-5e934d4c9f2a",
   "metadata": {},
   "outputs": [],
   "source": []
  }
 ],
 "metadata": {
  "kernelspec": {
   "display_name": "Python 3",
   "language": "python",
   "name": "python3"
  },
  "language_info": {
   "codemirror_mode": {
    "name": "ipython",
    "version": 3
   },
   "file_extension": ".py",
   "mimetype": "text/x-python",
   "name": "python",
   "nbconvert_exporter": "python",
   "pygments_lexer": "ipython3",
   "version": "3.9.4"
  }
 },
 "nbformat": 4,
 "nbformat_minor": 5
}
