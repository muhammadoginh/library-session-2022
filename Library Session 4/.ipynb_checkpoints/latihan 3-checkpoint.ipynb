{
 "cells": [
  {
   "cell_type": "markdown",
   "id": "5b386452-904c-49a4-bcaf-11b0c0fd24f5",
   "metadata": {},
   "source": [
    "## Introduction"
   ]
  },
  {
   "cell_type": "markdown",
   "id": "78193e8a-6336-4ae7-990c-7ed4997f3bb9",
   "metadata": {},
   "source": [
    "Now you are ready to get a deeper understanding of your data.\n",
    "\n",
    "Run the following cell to load your data and some utility functions"
   ]
  },
  {
   "cell_type": "code",
   "execution_count": null,
   "id": "8489ca42-4c9a-4bbd-8c2d-0adb8a7591b8",
   "metadata": {},
   "outputs": [],
   "source": [
    "import pandas as pd\n",
    "pd.set_option(\"display.max_rows\", 5)\n",
    "reviews = pd.read_csv(\"/winemag-data-130k-v2.csv\", index_col=0)\n",
    "\n",
    "print(\"Setup complete.\")"
   ]
  },
  {
   "cell_type": "markdown",
   "id": "faae3021-d36c-4339-a728-e48d1f02db73",
   "metadata": {},
   "source": [
    "Look at an overview of your data by running the following line."
   ]
  },
  {
   "cell_type": "code",
   "execution_count": null,
   "id": "e660547a-57bf-4b2a-92cd-ea8cd32f843a",
   "metadata": {},
   "outputs": [],
   "source": [
    "reviews.head()"
   ]
  },
  {
   "cell_type": "markdown",
   "id": "18b0b6ef-ab9b-49f0-b42c-8e20f4700b57",
   "metadata": {},
   "source": [
    "## Exercises"
   ]
  },
  {
   "cell_type": "markdown",
   "id": "f01d28c4-534b-4507-857e-1112b49b7667",
   "metadata": {},
   "source": [
    "## 1.\n",
    "\n",
    "What is the median of the `points` column in the `reviews` DataFrame?"
   ]
  },
  {
   "cell_type": "markdown",
   "id": "8ba8a744-81e4-4d76-b4c4-0d7ab1366eb5",
   "metadata": {},
   "source": [
    "median_points = ___"
   ]
  },
  {
   "cell_type": "code",
   "execution_count": null,
   "id": "7a0184f1-1343-4d76-aabd-2bcf21c3ad57",
   "metadata": {},
   "outputs": [],
   "source": [
    "Hint: Use the median function (a built-in pandas function, like the mean function or the unique function).\n",
    "\n",
    "Solution:\n",
    "\n",
    "median_points = reviews.points.median()"
   ]
  },
  {
   "cell_type": "markdown",
   "id": "296c73a4-cd2e-40c4-84af-6d224e747b90",
   "metadata": {},
   "source": [
    "## 2. \n",
    "What countries are represented in the dataset? (Your answer should not include any duplicates.)"
   ]
  },
  {
   "cell_type": "code",
   "execution_count": null,
   "id": "fb8adfc1-740c-47a7-a22d-8859a7062c61",
   "metadata": {},
   "outputs": [],
   "source": [
    "countries = ___"
   ]
  },
  {
   "cell_type": "code",
   "execution_count": null,
   "id": "adaf3760-76de-436f-a274-5ee64c831bc8",
   "metadata": {},
   "outputs": [],
   "source": [
    "Hint: Use the unique function to get a list of unique entries in a column.\n",
    "\n",
    "Solution:\n",
    "\n",
    "countries = reviews.country.unique()"
   ]
  },
  {
   "cell_type": "markdown",
   "id": "a994f09f-f45e-4909-b3b6-8933e30ecc9b",
   "metadata": {},
   "source": [
    "## 3.\n",
    "How often does each country appear in the dataset? Create a Series `reviews_per_country` mapping countries to the count of reviews of wines from that country."
   ]
  },
  {
   "cell_type": "code",
   "execution_count": null,
   "id": "a1a623cc-29a0-4783-9fdf-5a4254192eec",
   "metadata": {},
   "outputs": [],
   "source": [
    "reviews_per_country = ___"
   ]
  },
  {
   "cell_type": "code",
   "execution_count": null,
   "id": "47e537b9-9e2d-4841-af73-5d3171ff6952",
   "metadata": {},
   "outputs": [],
   "source": [
    "Hint: To see a list of unique values and how often they occur in a Series, use the value_counts method.\n",
    "\n",
    "Solution:\n",
    "\n",
    "reviews_per_country = reviews.country.value_counts()"
   ]
  },
  {
   "cell_type": "markdown",
   "id": "f7c2eac7-795b-43ca-ae87-27a8cfa19f49",
   "metadata": {},
   "source": [
    "## 4.\n",
    "Create variable `centered_price` containing a version of the `price` column with the mean price subtracted.\n",
    "\n",
    "(Note: this 'centering' transformation is a common preprocessing step before applying various machine learning algorithms.) "
   ]
  },
  {
   "cell_type": "code",
   "execution_count": null,
   "id": "2cd986d6-89cd-498f-8c1e-ab68e7ce6ed3",
   "metadata": {},
   "outputs": [],
   "source": [
    "centered_price = ___"
   ]
  },
  {
   "cell_type": "code",
   "execution_count": null,
   "id": "d180217a-a7eb-44c4-8900-cbf14d84306e",
   "metadata": {},
   "outputs": [],
   "source": [
    "Hint: To get the mean of a column in a Pandas DataFrame, use the mean function.\n",
    "\n",
    "Solution:\n",
    "\n",
    "centered_price = reviews.price - reviews.price.mean()"
   ]
  },
  {
   "cell_type": "markdown",
   "id": "a67afb9a-59c3-494e-a342-6d35fcd9f84c",
   "metadata": {},
   "source": [
    "## 5.\n",
    "I'm an economical wine buyer. Which wine is the \"best bargain\"? Create a variable `bargain_wine` with the title of the wine with the highest points-to-price ratio in the dataset."
   ]
  },
  {
   "cell_type": "code",
   "execution_count": null,
   "id": "ad07a4af-3316-4529-8110-8df0a351a034",
   "metadata": {},
   "outputs": [],
   "source": [
    "bargain_wine = ___"
   ]
  },
  {
   "cell_type": "code",
   "execution_count": null,
   "id": "296b6a33-99e2-42c4-9538-6ddeeb42e6eb",
   "metadata": {},
   "outputs": [],
   "source": [
    "Hint: The idxmax method may be useful here.\n",
    "\n",
    "Solution:\n",
    "\n",
    "bargain_idx = (reviews.points / reviews.price).idxmax()\n",
    "bargain_wine = reviews.loc[bargain_idx, 'title']"
   ]
  },
  {
   "cell_type": "markdown",
   "id": "3188e2d1-877a-40a4-a819-43038eb9dee1",
   "metadata": {},
   "source": [
    "## 6.\n",
    "There are only so many words you can use when describing a bottle of wine. Is a wine more likely to be \"tropical\" or \"fruity\"? Create a Series `descriptor_counts` counting how many times each of these two words appears in the `description` column in the dataset. (For simplicity, let's ignore the capitalized versions of these words.)"
   ]
  },
  {
   "cell_type": "code",
   "execution_count": null,
   "id": "35eec7a0-89f9-4716-ba0b-dcec58028859",
   "metadata": {},
   "outputs": [],
   "source": [
    "descriptor_counts = ___"
   ]
  },
  {
   "cell_type": "code",
   "execution_count": null,
   "id": "d4be0130-0a55-42eb-b914-ff6d06a4b7f3",
   "metadata": {},
   "outputs": [],
   "source": [
    "Hint: Use a map to check each description for the string tropical, then count up the number of times this is True. Repeat this for fruity. Finally, create a Series combining the two values.\n",
    "\n",
    "Solution:\n",
    "\n",
    "n_trop = reviews.description.map(lambda desc: \"tropical\" in desc).sum()\n",
    "n_fruity = reviews.description.map(lambda desc: \"fruity\" in desc).sum()\n",
    "descriptor_counts = pd.Series([n_trop, n_fruity], index=['tropical', 'fruity'])"
   ]
  },
  {
   "cell_type": "markdown",
   "id": "01800ea2-320f-4a9c-9044-a56202fa4551",
   "metadata": {},
   "source": [
    "## 7.\n",
    "We'd like to host these wine reviews on our website, but a rating system ranging from 80 to 100 points is too hard to understand - we'd like to translate them into simple star ratings. A score of 95 or higher counts as 3 stars, a score of at least 85 but less than 95 is 2 stars. Any other score is 1 star.\n",
    "\n",
    "Also, the Canadian Vintners Association bought a lot of ads on the site, so any wines from Canada should automatically get 3 stars, regardless of points.\n",
    "\n",
    "Create a series `star_ratings` with the number of stars corresponding to each review in the dataset."
   ]
  },
  {
   "cell_type": "code",
   "execution_count": null,
   "id": "b9929ec8-9387-46b4-a007-4bfbfc6e9b43",
   "metadata": {},
   "outputs": [],
   "source": [
    "star_ratings = ___"
   ]
  },
  {
   "cell_type": "code",
   "execution_count": null,
   "id": "388b31c2-8870-4731-919b-c6d5bf94cad1",
   "metadata": {},
   "outputs": [],
   "source": [
    "Hint: Begin by writing a custom function that accepts a row from the DataFrame as input and returns the star rating corresponding to the row. Then, use DataFrame.apply to apply the custom function to every row in the dataset.\n",
    "\n",
    "Solution:\n",
    "\n",
    "def stars(row):\n",
    "    if row.country == 'Canada':\n",
    "        return 3\n",
    "    elif row.points >= 95:\n",
    "        return 3\n",
    "    elif row.points >= 85:\n",
    "        return 2\n",
    "    else:\n",
    "        return 1\n",
    "\n",
    "star_ratings = reviews.apply(stars, axis='columns')"
   ]
  }
 ],
 "metadata": {
  "kernelspec": {
   "display_name": "Python 3",
   "language": "python",
   "name": "python3"
  },
  "language_info": {
   "codemirror_mode": {
    "name": "ipython",
    "version": 3
   },
   "file_extension": ".py",
   "mimetype": "text/x-python",
   "name": "python",
   "nbconvert_exporter": "python",
   "pygments_lexer": "ipython3",
   "version": "3.9.4"
  }
 },
 "nbformat": 4,
 "nbformat_minor": 5
}
