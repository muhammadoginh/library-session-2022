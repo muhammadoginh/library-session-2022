{
 "cells": [
  {
   "cell_type": "markdown",
   "id": "556800f9-4e64-49e2-bb3d-c069ead80dac",
   "metadata": {},
   "source": [
    "## Introduction"
   ]
  },
  {
   "cell_type": "markdown",
   "id": "59038967-aad2-47cc-b804-9e0f167a38c1",
   "metadata": {},
   "source": [
    "The first step in most data analytics projects is reading the data file. In this exercise, you'll create Series and DataFrame objects, both by hand and by reading data files."
   ]
  },
  {
   "cell_type": "markdown",
   "id": "edc02f1a-1aea-44a1-ad12-dc344150fee9",
   "metadata": {},
   "source": [
    "Run the code cell below to load libraries you will need"
   ]
  },
  {
   "cell_type": "code",
   "execution_count": 1,
   "id": "e8e217be-10ee-4647-a4f2-3f9864b49138",
   "metadata": {},
   "outputs": [
    {
     "name": "stdout",
     "output_type": "stream",
     "text": [
      "Setup complete.\n"
     ]
    }
   ],
   "source": [
    "import pandas as pd\n",
    "print(\"Setup complete.\")"
   ]
  },
  {
   "cell_type": "markdown",
   "id": "9b3e5464-44ce-4823-8603-bcaa857386bd",
   "metadata": {},
   "source": [
    "## Exercise"
   ]
  },
  {
   "cell_type": "markdown",
   "id": "5f5b8159-f7d0-46f3-8a6f-58ae26a4a48e",
   "metadata": {},
   "source": [
    "## 1.\n",
    "\n",
    "In the cell below, create a DataFrame `fruits` that looks like this:\n",
    "\n",
    "![](https://i.imgur.com/Ax3pp2A.png)"
   ]
  },
  {
   "cell_type": "code",
   "execution_count": null,
   "id": "0c598834-4e6d-4441-afc0-28432edac905",
   "metadata": {},
   "outputs": [],
   "source": [
    "# Your code goes here. Create a dataframe matching the above diagram and assign it to the variable fruits.\n",
    "fruits = __\n",
    "\n",
    "# Check your answer\n",
    "fruits"
   ]
  },
  {
   "cell_type": "markdown",
   "id": "49df941c-c295-4866-9415-682d99253b00",
   "metadata": {},
   "source": [
    "klik untuk cek solusi\n",
    "<!-- fruits = pd.DataFrame([[30, 21]], columns=['Apples', 'Bananas']) -->"
   ]
  },
  {
   "cell_type": "markdown",
   "id": "7f365b6e-aa63-4f92-bf3a-8509d01a9b08",
   "metadata": {},
   "source": [
    "## 2.\n",
    "\n",
    "Create a dataframe `fruit_sales` that matches the diagram below:\n",
    "\n",
    "![](https://i.imgur.com/CHPn7ZF.png)"
   ]
  },
  {
   "cell_type": "code",
   "execution_count": null,
   "id": "19c8acea-1a9e-4e08-87c1-8fb67527af75",
   "metadata": {},
   "outputs": [],
   "source": [
    "# Your code goes here. Create a dataframe matching the above diagram and assign it to the variable fruit_sales.\n",
    "fruit_sales = ____\n",
    "\n",
    "# Check your answer\n",
    "fruit_sales"
   ]
  },
  {
   "cell_type": "markdown",
   "id": "62995818-8892-4f7f-bbab-00d6fd6a1b1a",
   "metadata": {},
   "source": [
    "klik untuk cek solusi\n",
    "<!-- fruit_sales = pd.DataFrame([[35, 21], [41, 34]], columns=['Apples', 'Bananas'],\n",
    "                index=['2017 Sales', '2018 Sales']) -->"
   ]
  },
  {
   "cell_type": "markdown",
   "id": "68f0fd0a-f976-47e8-9266-1e36385792d2",
   "metadata": {},
   "source": [
    "## 3.\n",
    "\n",
    "Create a variable `ingredients` with a Series that looks like:\n",
    "\n",
    "```\n",
    "Flour     4 cups\n",
    "Milk       1 cup\n",
    "Eggs     2 large\n",
    "Spam       1 can\n",
    "Name: Dinner, dtype: object\n",
    "```"
   ]
  },
  {
   "cell_type": "code",
   "execution_count": null,
   "id": "c4196c25-9ddf-4699-be5c-d3e53d248bc8",
   "metadata": {},
   "outputs": [],
   "source": [
    "ingredients = ____\n",
    "\n",
    "# Check your answer\n",
    "ingredients"
   ]
  },
  {
   "cell_type": "markdown",
   "id": "d5c7528f-1947-4dfd-b5af-8a531b436efa",
   "metadata": {},
   "source": [
    "klik untuk cek solusi\n",
    "<!-- ingredients = pd.Series(['4 cups', '1 cup', '2 large', '1 can'], index=['Flour', 'Milk', 'Eggs', 'Spam'], name='Dinner') -->"
   ]
  },
  {
   "cell_type": "markdown",
   "id": "7a737368-c4fa-4faf-b054-060ab926b1cc",
   "metadata": {},
   "source": [
    "## 4.\n",
    "​\n",
    "Read the following csv dataset of wine reviews into a DataFrame called `reviews`:\n",
    "​\n",
    "![](https://i.imgur.com/74RCZtU.png)\n",
    "​\n",
    "\n",
    "The filepath to the csv file is `winemag-data_first150k.csv`. Data can be obtained from: https://www.kaggle.com/datasets/christopheiv/winefirst150. The first few lines look like:\n",
    "​\n",
    "```\n",
    ",country,description,designation,points,price,province,region_1,region_2,variety,winery\n",
    "0,US,\"This tremendous 100% varietal wine[...]\",Martha's Vineyard,96,235.0,California,Napa Valley,Napa,Cabernet Sauvignon,Heitz\n",
    "1,Spain,\"Ripe aromas of fig, blackberry and[...]\",Carodorum Selección Especial Reserva,96,110.0,Northern Spain,Toro,,Tinta de Toro,Bodega Carmen Rodríguez\n",
    "```"
   ]
  },
  {
   "cell_type": "code",
   "execution_count": null,
   "id": "d4717b9a-7639-4c6e-a559-cb2e509ba4ef",
   "metadata": {},
   "outputs": [],
   "source": [
    "reviews = ____\n",
    "\n",
    "# Check your answer\n",
    "reviews"
   ]
  },
  {
   "cell_type": "markdown",
   "id": "5a84b871-52de-4402-952d-854ec6ccef19",
   "metadata": {},
   "source": [
    "klik untuk cek solusi\n",
    "<!-- reviews = pd.read_csv('winemag-data_first150k.csv', index_col=0) -->"
   ]
  },
  {
   "cell_type": "markdown",
   "id": "ffa28e6d-fccb-474d-84f3-8c338afb6bfb",
   "metadata": {},
   "source": [
    "## 5.\n",
    "\n",
    "Run the cell below to create and display a DataFrame called `animals`:"
   ]
  },
  {
   "cell_type": "code",
   "execution_count": null,
   "id": "d6a576b0-f52c-4cff-847d-c8f8ecb63af4",
   "metadata": {},
   "outputs": [],
   "source": [
    "animals = pd.DataFrame({'Cows': [12, 20], 'Goats': [22, 19]}, index=['Year 1', 'Year 2'])\n",
    "animals"
   ]
  },
  {
   "cell_type": "markdown",
   "id": "501171e4-e585-4237-97fd-9e17e3f15dd2",
   "metadata": {},
   "source": [
    "In the cell below, write code to save this DataFrame to disk as a csv file with the name `cows_and_goats.csv`."
   ]
  },
  {
   "cell_type": "code",
   "execution_count": null,
   "id": "1186cf87-5398-485e-85a2-842652f9b950",
   "metadata": {},
   "outputs": [],
   "source": [
    "# Your code goes here\n"
   ]
  },
  {
   "cell_type": "markdown",
   "id": "03077265-b13d-4104-91e0-1b7b999fa43e",
   "metadata": {},
   "source": [
    "klik untuk solusi\n",
    "<!-- animals.to_csv(\"cows_and_goats.csv\") -->"
   ]
  },
  {
   "cell_type": "code",
   "execution_count": null,
   "id": "6e0646bf-4a93-457d-9c33-688411ef8534",
   "metadata": {},
   "outputs": [],
   "source": []
  }
 ],
 "metadata": {
  "kernelspec": {
   "display_name": "Python 3",
   "language": "python",
   "name": "python3"
  },
  "language_info": {
   "codemirror_mode": {
    "name": "ipython",
    "version": 3
   },
   "file_extension": ".py",
   "mimetype": "text/x-python",
   "name": "python",
   "nbconvert_exporter": "python",
   "pygments_lexer": "ipython3",
   "version": "3.9.4"
  }
 },
 "nbformat": 4,
 "nbformat_minor": 5
}
