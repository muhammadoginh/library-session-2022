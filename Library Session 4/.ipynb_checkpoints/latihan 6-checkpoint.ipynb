{
 "cells": [
  {
   "cell_type": "markdown",
   "id": "055bb528-de3f-45e5-8dee-bf10a15c63ed",
   "metadata": {},
   "source": [
    "## Introduction\n",
    "\n",
    "Run the following cell to load your data and some utility functions."
   ]
  },
  {
   "cell_type": "code",
   "execution_count": null,
   "id": "48180583-3830-4a0e-b84b-484b965c1044",
   "metadata": {},
   "outputs": [],
   "source": [
    "import pandas as pd\n",
    "\n",
    "reviews = pd.read_csv(\"winemag-data-130k-v2.csv\", index_col=0)\n",
    "\n",
    "print(\"Setup complete.\")"
   ]
  },
  {
   "cell_type": "markdown",
   "id": "19cdc007-258a-47b1-ae8f-16e8b467b1eb",
   "metadata": {},
   "source": [
    "# Exercises\n",
    "\n",
    "View the first several lines of your data by running the cell below:"
   ]
  },
  {
   "cell_type": "code",
   "execution_count": null,
   "id": "058cb596-e2b8-4a89-ac4e-625f6dcd06f8",
   "metadata": {},
   "outputs": [],
   "source": [
    "reviews.head()"
   ]
  },
  {
   "cell_type": "markdown",
   "id": "f35a58e9-8661-42fa-9fb1-9e22160e8cfc",
   "metadata": {},
   "source": [
    "## 1.\n",
    "`region_1` and `region_2` are pretty uninformative names for locale columns in the dataset. Create a copy of `reviews` with these columns renamed to `region` and `locale`, respectively."
   ]
  },
  {
   "cell_type": "code",
   "execution_count": null,
   "id": "e52209ff-561f-4d23-8752-55b4cddebe30",
   "metadata": {},
   "outputs": [],
   "source": [
    "# Your code here\n",
    "renamed = ____"
   ]
  },
  {
   "cell_type": "code",
   "execution_count": null,
   "id": "dea3b106-5823-4edc-a08d-47f3318df39d",
   "metadata": {},
   "outputs": [],
   "source": [
    "Solution:\n",
    "\n",
    "renamed = reviews.rename(columns=dict(region_1='region', region_2='locale'))"
   ]
  },
  {
   "cell_type": "markdown",
   "id": "5c706f02-28be-4ab7-a0ab-8624d01c2207",
   "metadata": {},
   "source": [
    "## 2.\n",
    "Set the index name in the dataset to `wines`."
   ]
  },
  {
   "cell_type": "code",
   "execution_count": null,
   "id": "091b0feb-7a66-4a00-8233-8b239a65fc98",
   "metadata": {},
   "outputs": [],
   "source": [
    "reindexed = ____"
   ]
  },
  {
   "cell_type": "code",
   "execution_count": null,
   "id": "10850439-9da3-4ab6-b92b-2f80b1cdff01",
   "metadata": {},
   "outputs": [],
   "source": [
    "Solution:\n",
    "\n",
    "reindexed = reviews.rename_axis('wines', axis='rows')"
   ]
  },
  {
   "cell_type": "markdown",
   "id": "e4ed7929-566b-4967-8d32-da0f184b1257",
   "metadata": {},
   "source": [
    "## 3.\n",
    "The [Things on Reddit](https://www.kaggle.com/residentmario/things-on-reddit/data) dataset includes product links from a selection of top-ranked forums (\"subreddits\") on reddit.com. Run the cell below to load a dataframe of products mentioned on the */r/gaming* subreddit and another dataframe for products mentioned on the *r//movies* subreddit."
   ]
  },
  {
   "cell_type": "code",
   "execution_count": null,
   "id": "5043c7ac-7980-4af7-a006-61f44fdcc2de",
   "metadata": {},
   "outputs": [],
   "source": [
    "gaming_products = pd.read_csv(\"../input/things-on-reddit/top-things/top-things/reddits/g/gaming.csv\")\n",
    "gaming_products['subreddit'] = \"r/gaming\"\n",
    "movie_products = pd.read_csv(\"../input/things-on-reddit/top-things/top-things/reddits/m/movies.csv\")\n",
    "movie_products['subreddit'] = \"r/movies\""
   ]
  },
  {
   "cell_type": "markdown",
   "id": "2ce5d9cb-a498-4896-bbf6-a4cf0ab5ab27",
   "metadata": {},
   "source": [
    "Create a `DataFrame` of products mentioned on *either* subreddit."
   ]
  },
  {
   "cell_type": "code",
   "execution_count": null,
   "id": "664287a2-3b0d-4588-b16b-2e086b4d83bb",
   "metadata": {},
   "outputs": [],
   "source": [
    "combined_products = ____"
   ]
  },
  {
   "cell_type": "code",
   "execution_count": null,
   "id": "9bbaa67e-baf9-4e6b-890a-e8b45af43d55",
   "metadata": {},
   "outputs": [],
   "source": [
    "Solution:\n",
    "\n",
    "combined_products = pd.concat([gaming_products, movie_products])"
   ]
  },
  {
   "cell_type": "markdown",
   "id": "f24113a7-b17c-4e53-98d8-93db8b9aae94",
   "metadata": {},
   "source": [
    "## 4.\n",
    "The [Powerlifting Database](https://www.kaggle.com/open-powerlifting/powerlifting-database) dataset on Kaggle includes one CSV table for powerlifting meets and a separate one for powerlifting competitors. Run the cell below to load these datasets into dataframes:"
   ]
  },
  {
   "cell_type": "code",
   "execution_count": null,
   "id": "6ba473c5-8a40-444b-a8b8-f5b80e1e3cb1",
   "metadata": {},
   "outputs": [],
   "source": [
    "powerlifting_meets = pd.read_csv(\"../input/powerlifting-database/meets.csv\")\n",
    "powerlifting_competitors = pd.read_csv(\"../input/powerlifting-database/openpowerlifting.csv\")"
   ]
  },
  {
   "cell_type": "markdown",
   "id": "7a7b34ee-7b19-4f9a-a97e-afea8a43d646",
   "metadata": {},
   "source": [
    "Both tables include references to a `MeetID`, a unique key for each meet (competition) included in the database. Using this, generate a dataset combining the two tables into one."
   ]
  },
  {
   "cell_type": "code",
   "execution_count": null,
   "id": "29cf8f45-b14e-47b7-882b-6d561599835a",
   "metadata": {},
   "outputs": [],
   "source": [
    "powerlifting_combined = ____"
   ]
  },
  {
   "cell_type": "code",
   "execution_count": null,
   "id": "721c8a46-8ed5-46cc-ba39-2cca6cd9573b",
   "metadata": {},
   "outputs": [],
   "source": [
    "Solution:\n",
    "\n",
    "powerlifting_combined = powerlifting_meets.set_index(\"MeetID\").join(powerlifting_competitors.set_index(\"MeetID\"))"
   ]
  }
 ],
 "metadata": {
  "kernelspec": {
   "display_name": "Python 3",
   "language": "python",
   "name": "python3"
  },
  "language_info": {
   "codemirror_mode": {
    "name": "ipython",
    "version": 3
   },
   "file_extension": ".py",
   "mimetype": "text/x-python",
   "name": "python",
   "nbconvert_exporter": "python",
   "pygments_lexer": "ipython3",
   "version": "3.9.4"
  }
 },
 "nbformat": 4,
 "nbformat_minor": 5
}
