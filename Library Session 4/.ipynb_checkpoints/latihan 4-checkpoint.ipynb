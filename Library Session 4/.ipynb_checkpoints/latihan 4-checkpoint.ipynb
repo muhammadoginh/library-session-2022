{
 "cells": [
  {
   "cell_type": "markdown",
   "id": "03c86f8f-7a24-4042-bd36-a3a9aa78ca8f",
   "metadata": {},
   "source": [
    "## Introduction\n",
    "\n",
    "In these exercises we'll apply groupwise analysis to our dataset.\n",
    "\n",
    "Run the code cell below to load the data before running the exercises."
   ]
  },
  {
   "cell_type": "code",
   "execution_count": null,
   "id": "51d34987-e684-4f57-9c99-016e75248a66",
   "metadata": {},
   "outputs": [],
   "source": [
    "import pandas as pd\n",
    "\n",
    "reviews = pd.read_csv(\"winemag-data-130k-v2.csv\", index_col=0)\n",
    "\n",
    "print(\"Setup complete.\")"
   ]
  },
  {
   "cell_type": "markdown",
   "id": "23c7a5ad-6161-4afa-a813-78d85da1372e",
   "metadata": {},
   "source": [
    "## Exercises"
   ]
  },
  {
   "cell_type": "markdown",
   "id": "567c2f0a-bd61-4e48-9bb6-0835eb594715",
   "metadata": {},
   "source": [
    "## 1.\n",
    "Who are the most common wine reviewers in the dataset? Create a `Series` whose index is the `taster_twitter_handle` category from the dataset, and whose values count how many reviews each person wrote."
   ]
  },
  {
   "cell_type": "code",
   "execution_count": null,
   "id": "466252bc-d9b1-4e78-9066-36024fd9c737",
   "metadata": {},
   "outputs": [],
   "source": [
    "# Your code here\n",
    "reviews_written = ____"
   ]
  },
  {
   "cell_type": "code",
   "execution_count": null,
   "id": "7b845468-0cdc-4663-bb62-c4527aa8096b",
   "metadata": {},
   "outputs": [],
   "source": [
    "Solution:\n",
    "\n",
    "reviews_written = reviews.groupby('taster_twitter_handle').size()\n",
    "or\n",
    "\n",
    "reviews_written = reviews.groupby('taster_twitter_handle').taster_twitter_handle.count()"
   ]
  },
  {
   "cell_type": "markdown",
   "id": "9bfe5891-9a31-4c63-b665-843c0d8883c2",
   "metadata": {},
   "source": [
    "## 2.\n",
    "What is the best wine I can buy for a given amount of money? Create a `Series` whose index is wine prices and whose values is the maximum number of points a wine costing that much was given in a review. Sort the values by price, ascending (so that `4.0` dollars is at the top and `3300.0` dollars is at the bottom)."
   ]
  },
  {
   "cell_type": "code",
   "execution_count": null,
   "id": "8ae4bd92-6841-49bd-b41f-8590b6d69519",
   "metadata": {},
   "outputs": [],
   "source": [
    "best_rating_per_price = ____"
   ]
  },
  {
   "cell_type": "code",
   "execution_count": null,
   "id": "1ba68938-35e9-4fa6-a4b0-572b64262407",
   "metadata": {},
   "outputs": [],
   "source": [
    "Solution:\n",
    "\n",
    "best_rating_per_price = reviews.groupby('price')['points'].max().sort_index()"
   ]
  },
  {
   "cell_type": "markdown",
   "id": "e71e265e-0746-426f-9c6f-836a440541c4",
   "metadata": {},
   "source": [
    "## 3.\n",
    "What are the minimum and maximum prices for each `variety` of wine? Create a `DataFrame` whose index is the `variety` category from the dataset and whose values are the `min` and `max` values thereof."
   ]
  },
  {
   "cell_type": "code",
   "execution_count": null,
   "id": "b13559a4-8a29-44a2-a219-ace7c659ebd9",
   "metadata": {},
   "outputs": [],
   "source": [
    "price_extremes = ____"
   ]
  },
  {
   "cell_type": "code",
   "execution_count": null,
   "id": "fd07a5aa-82ed-4bf6-8246-2b7d3455abb5",
   "metadata": {},
   "outputs": [],
   "source": [
    "Solution:\n",
    "\n",
    "price_extremes = reviews.groupby('variety').price.agg([min, max])"
   ]
  },
  {
   "cell_type": "markdown",
   "id": "21bd89ea-a235-4733-9caa-c04a53a05453",
   "metadata": {},
   "source": [
    "## 4.\n",
    "What are the most expensive wine varieties? Create a variable `sorted_varieties` containing a copy of the dataframe from the previous question where varieties are sorted in descending order based on minimum price, then on maximum price (to break ties)."
   ]
  },
  {
   "cell_type": "code",
   "execution_count": null,
   "id": "4f67a188-f3f8-48a2-beab-77f623b24270",
   "metadata": {},
   "outputs": [],
   "source": [
    "sorted_varieties = ____"
   ]
  },
  {
   "cell_type": "code",
   "execution_count": null,
   "id": "fd78900e-4f54-4e1e-bd4a-20b36d328ce6",
   "metadata": {},
   "outputs": [],
   "source": [
    "Solution:\n",
    "\n",
    "sorted_varieties = price_extremes.sort_values(by=['min', 'max'], ascending=False)"
   ]
  },
  {
   "cell_type": "markdown",
   "id": "9c25dd94-a28c-42f4-9e11-4dab4e815b4d",
   "metadata": {},
   "source": [
    "## 5.\n",
    "Create a `Series` whose index is reviewers and whose values is the average review score given out by that reviewer. Hint: you will need the `taster_name` and `points` columns."
   ]
  },
  {
   "cell_type": "code",
   "execution_count": null,
   "id": "14dae78e-7733-4720-b234-556e5b2b9aca",
   "metadata": {},
   "outputs": [],
   "source": [
    "reviewer_mean_ratings = ____"
   ]
  },
  {
   "cell_type": "code",
   "execution_count": null,
   "id": "d5008a9a-8ddc-472a-a688-b8a45b03ca1e",
   "metadata": {},
   "outputs": [],
   "source": [
    "Solution:\n",
    "\n",
    "reviewer_mean_ratings = reviews.groupby('taster_name').points.mean()"
   ]
  },
  {
   "cell_type": "markdown",
   "id": "be69cd18-b2cd-4f1f-bb21-aa2abe0edd7f",
   "metadata": {},
   "source": [
    "## 6.\n",
    "What combination of countries and varieties are most common? Create a `Series` whose index is a `MultiIndex`of `{country, variety}` pairs. For example, a pinot noir produced in the US should map to `{\"US\", \"Pinot Noir\"}`. Sort the values in the `Series` in descending order based on wine count."
   ]
  },
  {
   "cell_type": "code",
   "execution_count": null,
   "id": "ea338d5f-54a3-45ce-aee9-b90a4db5ca33",
   "metadata": {},
   "outputs": [],
   "source": [
    "country_variety_counts = ____"
   ]
  },
  {
   "cell_type": "markdown",
   "id": "21f9e684-41da-496d-bccc-334578f83d06",
   "metadata": {},
   "source": [
    "<details><summary>Solution:</summary>\n",
    "\n",
    "```python\n",
    "country_variety_counts = reviews.groupby(['country', 'variety']).size().sort_values(ascending=False)\n",
    "```\n",
    "</details>"
   ]
  },
  {
   "cell_type": "code",
   "execution_count": null,
   "id": "1ce98869-c7b6-495f-a9be-586712ddee3b",
   "metadata": {},
   "outputs": [],
   "source": []
  }
 ],
 "metadata": {
  "kernelspec": {
   "display_name": "Python 3",
   "language": "python",
   "name": "python3"
  },
  "language_info": {
   "codemirror_mode": {
    "name": "ipython",
    "version": 3
   },
   "file_extension": ".py",
   "mimetype": "text/x-python",
   "name": "python",
   "nbconvert_exporter": "python",
   "pygments_lexer": "ipython3",
   "version": "3.9.4"
  }
 },
 "nbformat": 4,
 "nbformat_minor": 5
}
